{
 "metadata": {
  "name": "ProjectEuler17"
 },
 "nbformat": 3,
 "nbformat_minor": 0,
 "worksheets": [
  {
   "cells": [
    {
     "cell_type": "markdown",
     "metadata": {},
     "source": [
      "Project Euler Problem 17\n",
      "=="
     ]
    },
    {
     "cell_type": "markdown",
     "metadata": {},
     "source": [
      "Number letter counts\n",
      "--\n",
      "\n",
      "###Problem 17"
     ]
    },
    {
     "cell_type": "markdown",
     "metadata": {},
     "source": [
      "\n",
      "If the numbers 1 to 5 are written out in words: one, two, three, four, five, then there are 3 + 3 + 5 + 4 + 4 = 19 letters used in total.\n",
      "\n",
      "If all the numbers from 1 to 1000 (one thousand) inclusive were written out in words, how many letters would be used? \n",
      "\n",
      "\n",
      "NOTE: Do not count spaces or hyphens. For example, 342 (three hundred and forty-two) contains 23 letters and 115 (one hundred and fifteen) contains 20 letters. The use of \"and\" when writing out numbers is in compliance with British usage.\n",
      "\n"
     ]
    },
    {
     "cell_type": "code",
     "collapsed": false,
     "input": [
      "def number_spell(num):\n",
      "    \"\"\"Returns the english spelling of a number between 1 and 1000 inclusive given the number (num) as a string.\"\"\"\n",
      "    num_spell=''\n",
      "    if len(num)>=1:\n",
      "        if num[-1]=='1':\n",
      "            num_spell='one'\n",
      "        if num[-1]=='2':\n",
      "            num_spell='two'\n",
      "        if num[-1]=='3':\n",
      "            num_spell='three'\n",
      "        if num[-1]=='4':\n",
      "            num_spell='four'\n",
      "        if num[-1]=='5':\n",
      "            num_spell='five'\n",
      "        if num[-1]=='6':\n",
      "            num_spell='six'\n",
      "        if num[-1]=='7':\n",
      "            num_spell='seven'\n",
      "        if num[-1]=='8':\n",
      "            num_spell='eight'\n",
      "        if num[-1]=='9':\n",
      "            num_spell='nine'\n",
      "    if len(num)>=2:\n",
      "        if num[-2]=='1' and num[-1]=='0':\n",
      "            num_spell='ten'\n",
      "        if num[-2]=='1' and num[-1]=='1':\n",
      "            num_spell='eleven'\n",
      "        if num[-2]=='1' and num[-1]=='2':\n",
      "            num_spell='twelve'\n",
      "        if num[-2]=='1' and num[-1]=='3':\n",
      "            num_spell='thirteen'\n",
      "        if num[-2]=='1' and num[-1]=='4':\n",
      "            num_spell='fourteen'\n",
      "        if num[-2]=='1' and num[-1]=='5':\n",
      "            num_spell='fifteen'\n",
      "        if num[-2]=='1' and num[-1]=='6':\n",
      "            num_spell='sixteen'\n",
      "        if num[-2]=='1' and num[-1]=='7':\n",
      "            num_spell='seventeen'\n",
      "        if num[-2]=='1' and num[-1]=='8':\n",
      "            num_spell='eighteen'\n",
      "        if num[-2]=='1' and num[-1]=='9':\n",
      "            num_spell='nineteen'\n",
      "        if num[-2]=='2':\n",
      "            num_spell = 'twenty '+num_spell\n",
      "        if num[-2]=='3':\n",
      "            num_spell = 'thirty '+num_spell\n",
      "        if num[-2]=='4':\n",
      "            num_spell = 'forty '+num_spell\n",
      "        if num[-2]=='5':\n",
      "            num_spell = 'fifty '+num_spell\n",
      "        if num[-2]=='6':\n",
      "            num_spell = 'sixty '+num_spell\n",
      "        if num[-2]=='7':\n",
      "            num_spell = 'seventy '+num_spell\n",
      "        if num[-2]=='8':\n",
      "            num_spell = 'eighty '+num_spell\n",
      "        if num[-2]=='9':\n",
      "            num_spell = 'ninety '+num_spell\n",
      "    if len(num)>=3:\n",
      "        if num[-2]=='0' and num[-1]=='0':\n",
      "            if num[-3]=='1':\n",
      "                num_spell = 'one hundred'\n",
      "            if num[-3]=='2':\n",
      "                num_spell = 'two hundred'\n",
      "            if num[-3]=='3':\n",
      "                num_spell = 'three hundred'\n",
      "            if num[-3]=='4':\n",
      "                num_spell = 'four hundred'\n",
      "            if num[-3]=='5':\n",
      "                num_spell = 'five hundred'\n",
      "            if num[-3]=='6':\n",
      "                num_spell = 'six hundred'\n",
      "            if num[-3]=='7':\n",
      "                num_spell = 'seven hundred'\n",
      "            if num[-3]=='8':\n",
      "                num_spell = 'eight hundred'\n",
      "            if num[-3]=='9':\n",
      "                num_spell = 'nine hundred'\n",
      "        else:\n",
      "            if num[-3]=='1':\n",
      "                num_spell = 'one hundred and '+num_spell\n",
      "            if num[-3]=='2':\n",
      "                num_spell = 'two hundred and '+num_spell\n",
      "            if num[-3]=='3':\n",
      "                num_spell = 'three hundred and '+num_spell\n",
      "            if num[-3]=='4':\n",
      "                num_spell = 'four hundred and '+num_spell\n",
      "            if num[-3]=='5':\n",
      "                num_spell = 'five hundred and '+num_spell\n",
      "            if num[-3]=='6':\n",
      "                num_spell = 'six hundred and '+num_spell\n",
      "            if num[-3]=='7':\n",
      "                num_spell = 'seven hundred and '+num_spell\n",
      "            if num[-3]=='8':\n",
      "                num_spell = 'eight hundred and '+num_spell\n",
      "            if num[-3]=='9':\n",
      "                num_spell = 'nine hundred and '+num_spell\n",
      "    if len(num)==4:\n",
      "        num_spell = 'one thousand'\n",
      "    \n",
      "    return num_spell\n",
      "        \n",
      "        \n",
      "        \n",
      "        \n",
      "       \n",
      "        \n",
      "    "
     ],
     "language": "python",
     "metadata": {},
     "outputs": [],
     "prompt_number": 97
    },
    {
     "cell_type": "markdown",
     "metadata": {},
     "source": [
      "Check that number spell function works properly"
     ]
    },
    {
     "cell_type": "code",
     "collapsed": false,
     "input": [
      "print number_spell('7')"
     ],
     "language": "python",
     "metadata": {},
     "outputs": [
      {
       "output_type": "stream",
       "stream": "stdout",
       "text": [
        "seven\n"
       ]
      }
     ],
     "prompt_number": 98
    },
    {
     "cell_type": "code",
     "collapsed": false,
     "input": [
      "print number_spell('56')"
     ],
     "language": "python",
     "metadata": {},
     "outputs": [
      {
       "output_type": "stream",
       "stream": "stdout",
       "text": [
        "fifty six\n"
       ]
      }
     ],
     "prompt_number": 99
    },
    {
     "cell_type": "code",
     "collapsed": false,
     "input": [
      "print number_spell('16')"
     ],
     "language": "python",
     "metadata": {},
     "outputs": [
      {
       "output_type": "stream",
       "stream": "stdout",
       "text": [
        "sixteen\n"
       ]
      }
     ],
     "prompt_number": 100
    },
    {
     "cell_type": "code",
     "collapsed": false,
     "input": [
      "print number_spell('372')"
     ],
     "language": "python",
     "metadata": {},
     "outputs": [
      {
       "output_type": "stream",
       "stream": "stdout",
       "text": [
        "three hundred and seventy two\n"
       ]
      }
     ],
     "prompt_number": 101
    },
    {
     "cell_type": "code",
     "collapsed": false,
     "input": [
      "print number_spell('786')"
     ],
     "language": "python",
     "metadata": {},
     "outputs": [
      {
       "output_type": "stream",
       "stream": "stdout",
       "text": [
        "seven hundred and eighty six\n"
       ]
      }
     ],
     "prompt_number": 102
    },
    {
     "cell_type": "code",
     "collapsed": false,
     "input": [
      "print number_spell('400')"
     ],
     "language": "python",
     "metadata": {},
     "outputs": [
      {
       "output_type": "stream",
       "stream": "stdout",
       "text": [
        "four hundred\n"
       ]
      }
     ],
     "prompt_number": 103
    },
    {
     "cell_type": "code",
     "collapsed": false,
     "input": [
      "print number_spell('314')"
     ],
     "language": "python",
     "metadata": {},
     "outputs": [
      {
       "output_type": "stream",
       "stream": "stdout",
       "text": [
        "three hundred and fourteen\n"
       ]
      }
     ],
     "prompt_number": 104
    },
    {
     "cell_type": "code",
     "collapsed": false,
     "input": [
      "print number_spell('89')"
     ],
     "language": "python",
     "metadata": {},
     "outputs": [
      {
       "output_type": "stream",
       "stream": "stdout",
       "text": [
        "eighty nine\n"
       ]
      }
     ],
     "prompt_number": 105
    },
    {
     "cell_type": "code",
     "collapsed": false,
     "input": [
      "print number_spell('1000')"
     ],
     "language": "python",
     "metadata": {},
     "outputs": [
      {
       "output_type": "stream",
       "stream": "stdout",
       "text": [
        "one thousand\n"
       ]
      }
     ],
     "prompt_number": 106
    },
    {
     "cell_type": "markdown",
     "metadata": {},
     "source": [
      "My number_spell function works properly."
     ]
    },
    {
     "cell_type": "code",
     "collapsed": false,
     "input": [
      "a=number_spell('345')\n",
      "print a\n",
      "s=a.replace(' ','')\n",
      "print s"
     ],
     "language": "python",
     "metadata": {},
     "outputs": [
      {
       "output_type": "stream",
       "stream": "stdout",
       "text": [
        "three hundred and forty five\n",
        "threehundredandfortyfive\n"
       ]
      }
     ],
     "prompt_number": 107
    },
    {
     "cell_type": "markdown",
     "metadata": {},
     "source": [
      "this will remove spaces so they are not counted as letters used"
     ]
    },
    {
     "cell_type": "code",
     "collapsed": false,
     "input": [
      "def letter_total(num):\n",
      "    \"\"\"Returns the total number of letters used to spell numbers 1 through number num with max num of 1000.\"\"\"\n",
      "    letter_tot=0\n",
      "    for i in range(1,num+1):\n",
      "        num_spell=number_spell(str(i))\n",
      "        no_space = num_spell.replace(' ','')\n",
      "        letter_tot = letter_tot + len(no_space)\n",
      "    return letter_tot"
     ],
     "language": "python",
     "metadata": {},
     "outputs": [],
     "prompt_number": 108
    },
    {
     "cell_type": "markdown",
     "metadata": {},
     "source": [
      "Use test case given in problem description to see if letter_total function works correctly."
     ]
    },
    {
     "cell_type": "markdown",
     "metadata": {},
     "source": [
      "Test for numbers 1 through 5"
     ]
    },
    {
     "cell_type": "code",
     "collapsed": false,
     "input": [
      "letter_total(5)"
     ],
     "language": "python",
     "metadata": {},
     "outputs": [
      {
       "output_type": "pyout",
       "prompt_number": 109,
       "text": [
        "19"
       ]
      }
     ],
     "prompt_number": 109
    },
    {
     "cell_type": "markdown",
     "metadata": {},
     "source": [
      "According to the test case my letter_total function works properly"
     ]
    },
    {
     "cell_type": "markdown",
     "metadata": {},
     "source": [
      "###Answer"
     ]
    },
    {
     "cell_type": "code",
     "collapsed": false,
     "input": [
      "print letter_total(1000)"
     ],
     "language": "python",
     "metadata": {},
     "outputs": [
      {
       "output_type": "stream",
       "stream": "stdout",
       "text": [
        "21124\n"
       ]
      }
     ],
     "prompt_number": 110
    },
    {
     "cell_type": "markdown",
     "metadata": {},
     "source": [
      "###The total number of letters used to spell numbers 1 threw 1000 inclusive is 21124"
     ]
    },
    {
     "cell_type": "code",
     "collapsed": false,
     "input": [],
     "language": "python",
     "metadata": {},
     "outputs": []
    }
   ],
   "metadata": {}
  }
 ]
}