{
 "metadata": {
  "name": "ProjectEuler20"
 },
 "nbformat": 3,
 "nbformat_minor": 0,
 "worksheets": [
  {
   "cells": [
    {
     "cell_type": "markdown",
     "metadata": {},
     "source": [
      "Project Euler Problem 20\n",
      "==="
     ]
    },
    {
     "cell_type": "markdown",
     "metadata": {},
     "source": [
      "Factorial Digit Sum\n",
      "----\n",
      "###Problem 20"
     ]
    },
    {
     "cell_type": "markdown",
     "metadata": {},
     "source": [
      "$n!$ means $n\\times(n-1)\\times...\\times3\\times2\\times1$\n",
      " \n",
      "For example, $10! = 10\\times9\\times...\\times3\\times2\\times1 = 3628800$,\n",
      "and the sum of the digits in the number $10!$ is $3 + 6 + 2 + 8 + 8 + 0 + 0 = 27$.\n",
      " \n",
      "Find the sum of the digits in the number $100!$\n"
     ]
    },
    {
     "cell_type": "code",
     "collapsed": false,
     "input": [
      "def factorial_sum(x):\n",
      "    \"\"\"Returns the sum of the digits of x!\"\"\"\n",
      "    f=1\n",
      "    for i in range(1,x+1):\n",
      "        f = f*i\n",
      "    print f\n",
      "    s = str(f)\n",
      "    fsum = 0\n",
      "    for i in range(len(s)):\n",
      "        fsum = fsum + int(s[i])\n",
      "    return fsum"
     ],
     "language": "python",
     "metadata": {},
     "outputs": [],
     "prompt_number": 18
    },
    {
     "cell_type": "markdown",
     "metadata": {},
     "source": [
      "Test case for 10"
     ]
    },
    {
     "cell_type": "code",
     "collapsed": false,
     "input": [
      "factorial_sum(10)"
     ],
     "language": "python",
     "metadata": {},
     "outputs": [
      {
       "output_type": "stream",
       "stream": "stdout",
       "text": [
        "3628800\n"
       ]
      },
      {
       "output_type": "pyout",
       "prompt_number": 19,
       "text": [
        "27"
       ]
      }
     ],
     "prompt_number": 19
    },
    {
     "cell_type": "markdown",
     "metadata": {},
     "source": [
      "My function gives the correct value for both 10! and the sum of the digits of 10! so it works properly."
     ]
    },
    {
     "cell_type": "markdown",
     "metadata": {},
     "source": [
      "Remove print f statement from factorial_sum() function because it is not needed and will return extrealy large vales for lager values of x"
     ]
    },
    {
     "cell_type": "code",
     "collapsed": false,
     "input": [
      "def factorial_sum(x):\n",
      "    \"\"\"Returns the sum of the digits of x!\"\"\"\n",
      "    f=1\n",
      "    for i in range(1,x+1):\n",
      "        f = f*i\n",
      "    s = str(f)\n",
      "    fsum = 0\n",
      "    for i in range(len(s)):\n",
      "        fsum = fsum + int(s[i])\n",
      "    return fsum"
     ],
     "language": "python",
     "metadata": {},
     "outputs": [],
     "prompt_number": 20
    },
    {
     "cell_type": "markdown",
     "metadata": {},
     "source": [
      "Answer for 100!"
     ]
    },
    {
     "cell_type": "code",
     "collapsed": false,
     "input": [
      "factorial_sum(100)"
     ],
     "language": "python",
     "metadata": {},
     "outputs": [
      {
       "output_type": "pyout",
       "prompt_number": 21,
       "text": [
        "648"
       ]
      }
     ],
     "prompt_number": 21
    },
    {
     "cell_type": "markdown",
     "metadata": {},
     "source": [
      "The sum of the digits of 100! is 648"
     ]
    },
    {
     "cell_type": "code",
     "collapsed": false,
     "input": [],
     "language": "python",
     "metadata": {},
     "outputs": []
    }
   ],
   "metadata": {}
  }
 ]
}