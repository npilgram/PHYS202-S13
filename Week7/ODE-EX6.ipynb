{
 "metadata": {
  "name": "ODE-EX6"
 },
 "nbformat": 3,
 "nbformat_minor": 0,
 "worksheets": [
  {
   "cells": [
    {
     "cell_type": "markdown",
     "metadata": {},
     "source": [
      "Q2 \n",
      "---"
     ]
    },
    {
     "cell_type": "markdown",
     "metadata": {},
     "source": [
      "Note: Mathematica manipulate code used for these exercieses is located in my Week7 folder and is titled QuadraticDrag.nb"
     ]
    },
    {
     "cell_type": "markdown",
     "metadata": {},
     "source": [
      "###a.)"
     ]
    },
    {
     "cell_type": "markdown",
     "metadata": {},
     "source": [
      "Human Cannonball - initial angel = pi/6 rad; initial speed = 52 m/s; Distance traveled with no air resistance = about 243m\n",
      "\n",
      "Golf Ball - initial angel = pi/6 rad; initial speed = 53.1 m/s; Distance traveled with no air resistance = about 251m\n",
      "\n",
      "Baseball - initial angel = 0.858 rad; initial speed = 56.9 m/s; Distance traveled with no air resistance = about 328m"
     ]
    },
    {
     "cell_type": "markdown",
     "metadata": {},
     "source": [
      "###b.)"
     ]
    },
    {
     "cell_type": "code",
     "collapsed": false,
     "input": [],
     "language": "python",
     "metadata": {},
     "outputs": []
    }
   ],
   "metadata": {}
  }
 ]
}