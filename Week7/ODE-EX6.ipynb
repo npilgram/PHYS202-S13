{
 "metadata": {
  "name": "ODE-EX6"
 },
 "nbformat": 3,
 "nbformat_minor": 0,
 "worksheets": [
  {
   "cells": [
    {
     "cell_type": "markdown",
     "metadata": {},
     "source": [
      "Q2 \n",
      "---"
     ]
    },
    {
     "cell_type": "markdown",
     "metadata": {},
     "source": [
      "Note: Mathematica manipulate code used for these exercieses is located in my Week7 folder and is titled QuadraticDrag.nb"
     ]
    },
    {
     "cell_type": "markdown",
     "metadata": {},
     "source": [
      "###a.) Projectile traveling 80 m"
     ]
    },
    {
     "cell_type": "markdown",
     "metadata": {},
     "source": [
      "####Human Cannonball - Angle: 0.493 rad | Speed: 32.5 m/s"
     ]
    },
    {
     "cell_type": "markdown",
     "metadata": {},
     "source": [
      "####Golf Ball - Angle: 0.4053 rad | Speed: 38.1 m/s"
     ]
    },
    {
     "cell_type": "markdown",
     "metadata": {},
     "source": [
      "####Baseball - Angle: 0.5434 rad | Speed: 34.7 m/s"
     ]
    },
    {
     "cell_type": "markdown",
     "metadata": {},
     "source": [
      "I tryed several formats that I found for creating a tabel in markdown, but none of them worked. They mentioned needing to downloade an extension of markdown to use the formatting so that may be the problem."
     ]
    },
    {
     "cell_type": "markdown",
     "metadata": {},
     "source": [
      "###b.) Civil War Cannon"
     ]
    },
    {
     "cell_type": "markdown",
     "metadata": {},
     "source": [
      "####At 5 degrees the cannonball will travel about 1700 m = 1.7 km\n"
     ]
    },
    {
     "cell_type": "markdown",
     "metadata": {},
     "source": [
      "####At 10 degrees the cannonball will travel about 2350 m = 2.35 km"
     ]
    },
    {
     "cell_type": "markdown",
     "metadata": {},
     "source": [
      "####At 15 degrees the cannonball will travel about 2750 m = 2.75 km"
     ]
    },
    {
     "cell_type": "markdown",
     "metadata": {},
     "source": [
      "###c.) Keeping Cannonball range within 1 km"
     ]
    },
    {
     "cell_type": "markdown",
     "metadata": {},
     "source": [
      "#### At 5 degrees a velocity of 282 m/s or less will keep the cannonball in a range of 1 km"
     ]
    },
    {
     "cell_type": "markdown",
     "metadata": {},
     "source": [
      "#### At 10  degrees a velocity of 207 m/s or less will keep the cannonball in a range of 1 km"
     ]
    },
    {
     "cell_type": "markdown",
     "metadata": {},
     "source": [
      "####At 15 degrees a velocity of 207 m/s or less will keep the cannonball in a range of 1km"
     ]
    },
    {
     "cell_type": "code",
     "collapsed": false,
     "input": [],
     "language": "python",
     "metadata": {},
     "outputs": []
    }
   ],
   "metadata": {}
  }
 ]
}