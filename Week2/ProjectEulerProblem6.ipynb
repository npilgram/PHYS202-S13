{
 "metadata": {
  "name": "ProjectEulerProblem6"
 },
 "nbformat": 3,
 "nbformat_minor": 0,
 "worksheets": [
  {
   "cells": [
    {
     "cell_type": "markdown",
     "metadata": {},
     "source": [
      "Sum square difference\n",
      "===================\n",
      "Problem 6\n",
      "----------\n",
      "The sum of the squares of the first ten natural numbers is,\n",
      "\n",
      "1$^2$ + 2$^2$ + ... + 10$^2$ = 385\n",
      "The square of the sum of the first ten natural numbers is,\n",
      "\n",
      "(1 + 2 + ... + 10)$^2$ = 55$^2$ = 3025\n",
      "Hence the difference between the sum of the squares of the first ten natural numbers and the square of the sum is 3025 - 385 = 2640.\n",
      "\n",
      "Find the difference between the sum of the squares of the first one hundred natural numbers and the square of the sum.\n"
     ]
    },
    {
     "cell_type": "code",
     "collapsed": false,
     "input": [
      "def sum_of_squares(x):\n",
      "    sum_square=0\n",
      "    for i in range(x +1):\n",
      "        sum_square = sum_square + i**2\n",
      "    return sum_square\n",
      "\n",
      "def square_of_sum(x):\n",
      "    square_sum = 0\n",
      "    for i in range(x + 1):\n",
      "        square_sum = square_sum + i\n",
      "        square = square_sum**2\n",
      "    return square\n",
      "\n",
      "def difference_of_square_sums(x):\n",
      "    return square_of_sum(x) - sum_of_squares(x)\n",
      "\n",
      "print difference_of_square_sums(100)\n",
      "\n",
      "\n",
      "    "
     ],
     "language": "python",
     "metadata": {},
     "outputs": [
      {
       "output_type": "stream",
       "stream": "stdout",
       "text": [
        "25164150\n"
       ]
      }
     ],
     "prompt_number": 14
    },
    {
     "cell_type": "code",
     "collapsed": false,
     "input": [],
     "language": "python",
     "metadata": {},
     "outputs": [],
     "prompt_number": 2
    },
    {
     "cell_type": "code",
     "collapsed": false,
     "input": [],
     "language": "python",
     "metadata": {},
     "outputs": []
    }
   ],
   "metadata": {}
  }
 ]
}