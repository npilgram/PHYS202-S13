{
 "metadata": {
  "name": "ProjectEuler31"
 },
 "nbformat": 3,
 "nbformat_minor": 0,
 "worksheets": [
  {
   "cells": [
    {
     "cell_type": "markdown",
     "metadata": {},
     "source": [
      "Project Euler Problem 31\n",
      "==="
     ]
    },
    {
     "cell_type": "markdown",
     "metadata": {},
     "source": [
      "Coin sums\n",
      "--\n",
      "###Problem 31"
     ]
    },
    {
     "cell_type": "markdown",
     "metadata": {},
     "source": [
      "\n",
      "In England the currency is made up of pound, \u00a3, and pence, p, and there are eight coins in general circulation:\n",
      " \n",
      "1p, 2p, 5p, 10p, 20p, 50p, \u00a31 (100p) and \u00a32 (200p).\n",
      " \n",
      "It is possible to make \u00a32 in the following way:\n",
      " \n",
      "1\u00a31 + 150p + 220p + 15p + 12p + 31p\n",
      " \n",
      "How many different ways can \u00a32 be made using any number of coins?\n",
      "\n",
      " "
     ]
    },
    {
     "cell_type": "code",
     "collapsed": false,
     "input": [
      "by_2 = np.zeros(201, dtype=int) #cell determines the number of way to get 0p through 200p using 1p and 2p\n",
      "for i in range (201):\n",
      "    if i < 2:\n",
      "        by_2[i]=1\n",
      "    else:\n",
      "        by_2[i]=1+by_2[i-2]\n",
      "print by_2[200]"
     ],
     "language": "python",
     "metadata": {},
     "outputs": [
      {
       "output_type": "stream",
       "stream": "stdout",
       "text": [
        "101\n"
       ]
      }
     ],
     "prompt_number": 11
    },
    {
     "cell_type": "code",
     "collapsed": false,
     "input": [
      "by_5 = np.zeros(201, dtype=int)#cell determines the number of eays to get 0p threw 200p using 1p, 2p and 5p\n",
      "for i in range(201):\n",
      "    if i < 5:\n",
      "        by_5[i]=by_2[i]\n",
      "    else:\n",
      "        by_5[i] = by_2[i]+by_5[i-5]\n",
      "print by_5[200]"
     ],
     "language": "python",
     "metadata": {},
     "outputs": [
      {
       "output_type": "stream",
       "stream": "stdout",
       "text": [
        "2081\n"
       ]
      }
     ],
     "prompt_number": 12
    },
    {
     "cell_type": "code",
     "collapsed": false,
     "input": [
      "by_10 = np.zeros(201, dtype=int)#cell determines the number of eays to get 0p threw 200p using 1p, 2p, 5p, and 10p\n",
      "for i in range(201):\n",
      "    if i<10:\n",
      "        by_10[i]=by_5[i]\n",
      "    else:\n",
      "        by_10[i]=by_5[i]+by_10[i-10]\n",
      "print by_10[200]"
     ],
     "language": "python",
     "metadata": {},
     "outputs": [
      {
       "output_type": "stream",
       "stream": "stdout",
       "text": [
        "15211\n"
       ]
      }
     ],
     "prompt_number": 16
    },
    {
     "cell_type": "code",
     "collapsed": false,
     "input": [
      "by_20 = np.zeros(201, dtype=int)#cell determines the number of eays to get 0p threw 200p using 1p, 2p, 5p, 10p, and 20p\n",
      "for i in range(201):\n",
      "    if i<20:\n",
      "        by_20[i]=by_10[i]\n",
      "    else:\n",
      "        by_20[i]=by_10[i]+by_20[i-20]\n",
      "print by_20[200]"
     ],
     "language": "python",
     "metadata": {},
     "outputs": [
      {
       "output_type": "stream",
       "stream": "stdout",
       "text": [
        "47696\n"
       ]
      }
     ],
     "prompt_number": 18
    },
    {
     "cell_type": "code",
     "collapsed": false,
     "input": [
      "by_50 = np.zeros(201, dtype=int)#cell determines the number of eays to get 0p threw 200p using 1p, 2p, 5p, 10p, 20p, and 50p\n",
      "for i in range(201):\n",
      "    if i<50:\n",
      "        by_50[i]=by_20[i]\n",
      "    else:\n",
      "        by_50[i]=by_20[i]+by_50[i-50]\n",
      "print by_50[200]"
     ],
     "language": "python",
     "metadata": {},
     "outputs": [
      {
       "output_type": "stream",
       "stream": "stdout",
       "text": [
        "69118\n"
       ]
      }
     ],
     "prompt_number": 19
    },
    {
     "cell_type": "code",
     "collapsed": false,
     "input": [
      "by_100 = np.zeros(201, dtype=int)#cell determines the number of eays to get 0p threw 200p using 1p, 2p, 5p, 10p, 20p, 50p, and 100p\n",
      "for i in range(201):\n",
      "    if i<100:\n",
      "        by_100[i]=by_50[i]\n",
      "    else:\n",
      "        by_100[i]=by_50[i]+by_100[i-100]\n",
      "print by_100[200]"
     ],
     "language": "python",
     "metadata": {},
     "outputs": [
      {
       "output_type": "stream",
       "stream": "stdout",
       "text": [
        "73681\n"
       ]
      }
     ],
     "prompt_number": 20
    },
    {
     "cell_type": "code",
     "collapsed": false,
     "input": [
      "by_200 = np.zeros(201, dtype=int)\n",
      "for i in range(201):\n",
      "    if i<200:\n",
      "        by_200[i]=by_100[i]\n",
      "    else:\n",
      "        by_200[i]=by_100[i]+by_200[i-200]\n",
      "print by_200[200]"
     ],
     "language": "python",
     "metadata": {},
     "outputs": [
      {
       "output_type": "stream",
       "stream": "stdout",
       "text": [
        "73682\n"
       ]
      }
     ],
     "prompt_number": 21
    },
    {
     "cell_type": "markdown",
     "metadata": {},
     "source": [
      "####Answer"
     ]
    },
    {
     "cell_type": "markdown",
     "metadata": {},
     "source": [
      "There are 73,682 distinct ways to get 200p using the eight coins."
     ]
    },
    {
     "cell_type": "code",
     "collapsed": false,
     "input": [],
     "language": "python",
     "metadata": {},
     "outputs": []
    }
   ],
   "metadata": {}
  }
 ]
}