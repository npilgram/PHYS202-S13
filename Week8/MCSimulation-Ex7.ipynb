{
 "metadata": {
  "name": "MCSimulation-Ex7"
 },
 "nbformat": 3,
 "nbformat_minor": 0,
 "worksheets": [
  {
   "cells": [
    {
     "cell_type": "markdown",
     "metadata": {},
     "source": [
      "Q2\n",
      "--"
     ]
    },
    {
     "cell_type": "markdown",
     "metadata": {},
     "source": [
      "###a.)"
     ]
    },
    {
     "cell_type": "markdown",
     "metadata": {},
     "source": [
      "$f(x)=\\alpha\\beta^{-\\alpha}x^{\\alpha-1}e^{-(x/\\beta)^{\\alpha}} x>0$\n",
      "\n",
      "$f(x)=0$ otherwise"
     ]
    },
    {
     "cell_type": "code",
     "collapsed": false,
     "input": [
      "alpha=1.5\n",
      "beta=6"
     ],
     "language": "python",
     "metadata": {},
     "outputs": [],
     "prompt_number": 1
    },
    {
     "cell_type": "code",
     "collapsed": false,
     "input": [
      "f = lambda x: alpha*(beta**(-1*alpha))*(x**(alpha-1))*(e**(-1*((x/beta)**alpha))\n"
     ],
     "language": "python",
     "metadata": {},
     "outputs": [
      {
       "ename": "SyntaxError",
       "evalue": "unexpected EOF while parsing (<ipython-input-9-6b57c194e1e4>, line 1)",
       "output_type": "pyerr",
       "traceback": [
        "\u001b[1;36m  File \u001b[1;32m\"<ipython-input-9-6b57c194e1e4>\"\u001b[1;36m, line \u001b[1;32m1\u001b[0m\n\u001b[1;33m    f = lambda x: alpha*(beta**(-1*alpha))*(x**(alpha-1))*(e**(-1*((x/beta)**alpha))\u001b[0m\n\u001b[1;37m                                                                                    ^\u001b[0m\n\u001b[1;31mSyntaxError\u001b[0m\u001b[1;31m:\u001b[0m unexpected EOF while parsing\n"
       ]
      }
     ],
     "prompt_number": 9
    },
    {
     "cell_type": "markdown",
     "metadata": {},
     "source": [
      "Used mathematica to find evaluate integral for CDF"
     ]
    },
    {
     "cell_type": "markdown",
     "metadata": {},
     "source": [
      "###CDF\n",
      "\n",
      "$F(x)=(\\frac{1}{\\beta})^{-\\alpha}\\beta^{-\\alpha}(1-e^{-(x/\\beta)^{\\alpha}})$"
     ]
    },
    {
     "cell_type": "code",
     "collapsed": false,
     "input": [
      "F = lambda x: ((1/beta)**(-alpha))*(beta**(-alpha))*(1-(e**(-((x/beta)**(alpha))))\n"
     ],
     "language": "python",
     "metadata": {},
     "outputs": [
      {
       "ename": "SyntaxError",
       "evalue": "unexpected EOF while parsing (<ipython-input-10-3f86d4dda30a>, line 1)",
       "output_type": "pyerr",
       "traceback": [
        "\u001b[1;36m  File \u001b[1;32m\"<ipython-input-10-3f86d4dda30a>\"\u001b[1;36m, line \u001b[1;32m1\u001b[0m\n\u001b[1;33m    F = lambda x: ((1/beta)**(-alpha))*(beta**(-alpha))*(1-(e**(-((x/beta)**(alpha))))\u001b[0m\n\u001b[1;37m                                                                                      ^\u001b[0m\n\u001b[1;31mSyntaxError\u001b[0m\u001b[1;31m:\u001b[0m unexpected EOF while parsing\n"
       ]
      }
     ],
     "prompt_number": 10
    },
    {
     "cell_type": "markdown",
     "metadata": {},
     "source": [
      "###b.)"
     ]
    },
    {
     "cell_type": "markdown",
     "metadata": {},
     "source": [
      "Used Wolfram Alpha to find inverse of F"
     ]
    },
    {
     "cell_type": "markdown",
     "metadata": {},
     "source": [
      "###Inverse CDF\n",
      "\n",
      "$F^{-1}(x)=\\beta(-ln(-(\\frac{1}{\\beta})^{\\alpha}\\beta^{\\alpha}(x-(\\frac{1}{\\beta})^{-\\alpha}\\beta^{-\\alpha})))^{1/\\alpha}$"
     ]
    },
    {
     "cell_type": "code",
     "collapsed": false,
     "input": [],
     "language": "python",
     "metadata": {},
     "outputs": []
    }
   ],
   "metadata": {}
  }
 ]
}