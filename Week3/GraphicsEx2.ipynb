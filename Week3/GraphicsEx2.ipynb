{
 "metadata": {
  "name": "GraphicsEx2"
 },
 "nbformat": 3,
 "nbformat_minor": 0,
 "worksheets": [
  {
   "cells": [
    {
     "cell_type": "markdown",
     "metadata": {},
     "source": [
      "Publication quality graphics, Exercises 2\n",
      "=="
     ]
    },
    {
     "cell_type": "markdown",
     "metadata": {},
     "source": [
      "Q1\n",
      "--"
     ]
    },
    {
     "cell_type": "markdown",
     "metadata": {},
     "source": [
      "a.)"
     ]
    },
    {
     "cell_type": "markdown",
     "metadata": {},
     "source": [
      "$\\psi_k(x)=A \\left( \\frac{{ik-a\\tanh(ax)}}{{ik+a}}\\right) e^{+ikx}$"
     ]
    },
    {
     "cell_type": "markdown",
     "metadata": {},
     "source": [
      "b.)"
     ]
    },
    {
     "cell_type": "markdown",
     "metadata": {},
     "source": [
      "$v_1 = m_2 \\sqrt{ \\frac{2G}{M}\\left(\\frac{1}{r}-\\frac{1}{r_0} \\right) }$"
     ]
    },
    {
     "cell_type": "markdown",
     "metadata": {},
     "source": [
      "c.)"
     ]
    },
    {
     "cell_type": "markdown",
     "metadata": {},
     "source": [
      "$f(\\theta) = \\frac {\\hbar}{p} \\displaystyle\\sum_{l=0}^{\\infty} \\left(2l+1\\right) e^{i\\delta_l} sin\\delta_lP_l \\left(cos\\theta \\right) $"
     ]
    },
    {
     "cell_type": "markdown",
     "metadata": {},
     "source": [
      "d.)"
     ]
    },
    {
     "cell_type": "markdown",
     "metadata": {},
     "source": [
      "$\\frac{d\\sigma}{d\\Omega} = \\frac{ k \\pi^{2} (\\pi-\\theta)}{mu_{0}^{2} \\theta^{2} (2\\pi-\\theta)^{2} sin\\theta}$"
     ]
    },
    {
     "cell_type": "markdown",
     "metadata": {},
     "source": [
      "e.)"
     ]
    },
    {
     "cell_type": "markdown",
     "metadata": {},
     "source": [
      "$\\langle f \\rangle = \\frac{1}{\\tau} \\displaystyle\\int_{0}^{\\tau} f(t)dt $"
     ]
    },
    {
     "cell_type": "markdown",
     "metadata": {},
     "source": [
      "f.)"
     ]
    },
    {
     "cell_type": "markdown",
     "metadata": {},
     "source": [
      "$\\Omega_S = \\omega \\frac{sin\\alpha}{sin\\theta} = \\omega \\frac {\\sqrt{\\lambda_3^3 +(\\lambda_1^2 + \\lambda_3^2) sin\\alpha}}{\\lambda_1}$"
     ]
    },
    {
     "cell_type": "markdown",
     "metadata": {},
     "source": [
      "Q2\n",
      "--"
     ]
    },
    {
     "cell_type": "code",
     "collapsed": false,
     "input": [
      "x= arange(-4, 4, 0.01)\n",
      "u = (-(1/cosh(x))**2)\n",
      "q,r,s,t = 0.0,0.5,1.0,2.0\n",
      "psi_q = (q**2 + (tanh(x)**2)/(q**2 + 1))\n",
      "psi_r = ((r**2 + (tanh(x)**2))/(r**2 + 1))\n",
      "psi_s = ((s**2 + (tanh(x)**2))/(s**2 +1))\n",
      "psi_t = ((t**2 + (tanh(x)**2))/(t**2 + 1))"
     ],
     "language": "python",
     "metadata": {},
     "outputs": [],
     "prompt_number": 20
    },
    {
     "cell_type": "code",
     "collapsed": false,
     "input": [
      "plot(x, u)\n",
      "plot(x, psi_q)\n",
      "plot(x, psi_r)\n",
      "plot(x, psi_s)\n",
      "plot(x, psi_t)"
     ],
     "language": "python",
     "metadata": {},
     "outputs": [
      {
       "output_type": "pyout",
       "prompt_number": 21,
       "text": [
        "[<matplotlib.lines.Line2D at 0x10a756090>]"
       ]
      },
      {
       "output_type": "display_data",
       "png": "[encoded data removed]"
      }
     ],
     "prompt_number": 21
    },
    {
     "cell_type": "code",
     "collapsed": false,
     "input": [],
     "language": "python",
     "metadata": {},
     "outputs": []
    }
   ],
   "metadata": {}
  }
 ]
}