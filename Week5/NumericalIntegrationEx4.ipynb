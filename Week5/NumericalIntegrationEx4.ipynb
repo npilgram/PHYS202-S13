{
 "metadata": {
  "name": "NumericalIntegrationEx4"
 },
 "nbformat": 3,
 "nbformat_minor": 0,
 "worksheets": [
  {
   "cells": [
    {
     "cell_type": "markdown",
     "metadata": {},
     "source": [
      "Numerical Integration, Exercises 4\n",
      "==="
     ]
    },
    {
     "cell_type": "markdown",
     "metadata": {},
     "source": [
      "Q1\n",
      "--"
     ]
    },
    {
     "cell_type": "markdown",
     "metadata": {},
     "source": [
      "###a.)"
     ]
    },
    {
     "cell_type": "markdown",
     "metadata": {},
     "source": [
      "Used Simpson's rule for integration"
     ]
    },
    {
     "cell_type": "code",
     "collapsed": false,
     "input": [
      "f = lambda t: e**(-(t**2))\n",
      "x = arange(0.,3.,0.1)\n",
      "N=1000\n",
      "a=0.0\n",
      "b=x\n",
      "h=(b-a)/N\n",
      "s = f(a) + f(b)\n",
      "for k in range(1,N/2+1):\n",
      "    s += 4*(f(a+((2*k-1)*h)))\n",
      "for k in range(1,((N/2))):\n",
      "    s += 2*(f(a+(2*k*h)))\n",
      "E_x =  s*h*(1./3.)"
     ],
     "language": "python",
     "metadata": {},
     "outputs": [],
     "prompt_number": 2
    },
    {
     "cell_type": "code",
     "collapsed": false,
     "input": [
      "print E_x"
     ],
     "language": "python",
     "metadata": {},
     "outputs": [
      {
       "output_type": "stream",
       "stream": "stdout",
       "text": [
        "[ 0.          0.09966766  0.19736503  0.29123788  0.37965284  0.46128101\n",
        "  0.53515353  0.60068567  0.65766986  0.70624151  0.74682413  0.78006143\n",
        "  0.80674476  0.82774299  0.84394071  0.85618839  0.86526623  0.87186159\n",
        "  0.87655863  0.87983761  0.88208139  0.88358644  0.88457602  0.88521381\n",
        "  0.88561675  0.88586627  0.88601775  0.88610788  0.88616045  0.8861905 ]\n"
       ]
      }
     ],
     "prompt_number": 3
    },
    {
     "cell_type": "markdown",
     "metadata": {},
     "source": [
      "###b.)"
     ]
    },
    {
     "cell_type": "code",
     "collapsed": false,
     "input": [
      "plot(x,E_x, label='$E(x)$', linewidth=2,)\n",
      "xlabel('$x$', fontsize=20)\n",
      "ylabel('$E(x)$', fontsize=20)\n",
      "legend(loc='lower right', fontsize=20)\n",
      "show()"
     ],
     "language": "python",
     "metadata": {},
     "outputs": [
      {
       "output_type": "display_data",
       "png": "[encoded data removed]"
      }
     ],
     "prompt_number": 4
    },
    {
     "cell_type": "markdown",
     "metadata": {},
     "source": [
      "Q2\n",
      "--"
     ]
    },
    {
     "cell_type": "markdown",
     "metadata": {},
     "source": [
      "###a.)"
     ]
    },
    {
     "cell_type": "code",
     "collapsed": false,
     "input": [
      "import scipy.integrate as integrate"
     ],
     "language": "python",
     "metadata": {},
     "outputs": [],
     "prompt_number": 132
    },
    {
     "cell_type": "code",
     "collapsed": false,
     "input": [
      "ground_state_squared = lambda x: (sqrt(2./L)*sin((pi*x)/L))**2\n",
      "first_excite_state_squared = lambda x: (sqrt(2./L)*sin((2*pi*x)/L))**2"
     ],
     "language": "python",
     "metadata": {},
     "outputs": [],
     "prompt_number": 3
    },
    {
     "cell_type": "code",
     "collapsed": false,
     "input": [
      "L=1.\n",
      "N=100\n",
      "a=L/2.\n",
      "b=L/3.\n",
      "x=arange(a,b,(b-a)/N)"
     ],
     "language": "python",
     "metadata": {},
     "outputs": [],
     "prompt_number": 4
    },
    {
     "cell_type": "markdown",
     "metadata": {},
     "source": [
      "###Ground State"
     ]
    },
    {
     "cell_type": "code",
     "collapsed": false,
     "input": [
      "integrate.quad(ground_state_squared, (L/3.), (L/2.))"
     ],
     "language": "python",
     "metadata": {},
     "outputs": [
      {
       "output_type": "pyout",
       "prompt_number": 5,
       "text": [
        "(0.3044988905221147, 3.380616792304666e-15)"
       ]
      }
     ],
     "prompt_number": 5
    },
    {
     "cell_type": "code",
     "collapsed": false,
     "input": [
      "\n",
      "trapz(ground_state_squared(x),x, dx=0.0000000000001)"
     ],
     "language": "python",
     "metadata": {},
     "outputs": [
      {
       "output_type": "pyout",
       "prompt_number": 14,
       "text": [
        "-0.30199009642379288"
       ]
      }
     ],
     "prompt_number": 14
    },
    {
     "cell_type": "markdown",
     "metadata": {},
     "source": [
      "###First Excited State"
     ]
    },
    {
     "cell_type": "code",
     "collapsed": false,
     "input": [
      "\n",
      "integrate.quad(first_excite_state_squared, L/3., L/2.)"
     ],
     "language": "python",
     "metadata": {},
     "outputs": [
      {
       "output_type": "pyout",
       "prompt_number": 19,
       "text": [
        "(0.09775055473894276, 1.0852491654105595e-15)"
       ]
      }
     ],
     "prompt_number": 19
    },
    {
     "cell_type": "code",
     "collapsed": false,
     "input": [
      "trapz(first_excite_state_squared(x),x,dx=0.0000000001)"
     ],
     "language": "python",
     "metadata": {},
     "outputs": [
      {
       "output_type": "pyout",
       "prompt_number": 21,
       "text": [
        "-0.095268279194723124"
       ]
      }
     ],
     "prompt_number": 21
    },
    {
     "cell_type": "markdown",
     "metadata": {},
     "source": [
      "###b.)"
     ]
    },
    {
     "cell_type": "markdown",
     "metadata": {},
     "source": [
      "###Ground State"
     ]
    },
    {
     "cell_type": "code",
     "collapsed": false,
     "input": [
      "x = arange(0,L,0.01)\n",
      "plot(x, ground_state_squared(x), label='Ground State Probability')\n",
      "xlabel('$x[position]$', fontsize=20)\n",
      "ylabel('$Probability$', fontsize=20)\n",
      "legend(loc='upper right')\n",
      "show()"
     ],
     "language": "python",
     "metadata": {},
     "outputs": [
      {
       "output_type": "display_data",
       "png": "[encoded data removed]"
      }
     ],
     "prompt_number": 24
    },
    {
     "cell_type": "markdown",
     "metadata": {},
     "source": [
      "###First Excited State"
     ]
    },
    {
     "cell_type": "code",
     "collapsed": false,
     "input": [
      "x = arange(0,L,0.01)\n",
      "plot(x, first_excite_state_squared(x), label='First Excited State Probability')\n",
      "xlabel('$x[position]$', fontsize=20)\n",
      "ylabel('$Probability$', fontsize=20)\n",
      "legend(loc='upper right')\n",
      "show()"
     ],
     "language": "python",
     "metadata": {},
     "outputs": [
      {
       "output_type": "display_data",
       "png": "[encoded data removed]"
      }
     ],
     "prompt_number": 25
    },
    {
     "cell_type": "markdown",
     "metadata": {},
     "source": [
      "The answers seem to be consistant with the plots"
     ]
    },
    {
     "cell_type": "markdown",
     "metadata": {},
     "source": [
      "Q3\n",
      "---"
     ]
    },
    {
     "cell_type": "markdown",
     "metadata": {},
     "source": [
      "###a.)"
     ]
    },
    {
     "cell_type": "code",
     "collapsed": false,
     "input": [
      "def H(n,x):\n",
      "    \"\"\"returns the nth Hermite polynomial. n is an integer\"\"\"\n",
      "    if n==0:\n",
      "        H=1\n",
      "    elif n==1:\n",
      "        H=2*x\n",
      "    elif n==2:\n",
      "        H=(2*x)**2-2\n",
      "    else:\n",
      "        H_n=2*x\n",
      "        H_prev=1\n",
      "        H_next=2*x*H_n-2*1*H_prev\n",
      "        for i in range(2,n):\n",
      "            H=2*x*H_next-2*i*H_n\n",
      "            H_n=H_next\n",
      "            H_next=H\n",
      "    return H\n",
      "        "
     ],
     "language": "python",
     "metadata": {},
     "outputs": [],
     "prompt_number": 120
    },
    {
     "cell_type": "markdown",
     "metadata": {},
     "source": [
      "Test H(n,x)"
     ]
    },
    {
     "cell_type": "code",
     "collapsed": false,
     "input": [
      "print H(0,1), H(1,1), H(2,1), H(3,1), H(4,1),H(16,1)"
     ],
     "language": "python",
     "metadata": {},
     "outputs": [
      {
       "output_type": "stream",
       "stream": "stdout",
       "text": [
        "1 2 2 -4 -20 727511296\n"
       ]
      }
     ],
     "prompt_number": 121
    },
    {
     "cell_type": "markdown",
     "metadata": {},
     "source": [
      "All the values are the same as what I calculated myself the the function works properly."
     ]
    },
    {
     "cell_type": "code",
     "collapsed": false,
     "input": [
      "import math as math"
     ],
     "language": "python",
     "metadata": {},
     "outputs": [],
     "prompt_number": 122
    },
    {
     "cell_type": "code",
     "collapsed": false,
     "input": [
      "def psi(n,x):\n",
      "    \"\"\"Returns the nth quantum wave function of a simple harmonic oscilator\"\"\"\n",
      "    psi = (H(n,x))*(1./sqrt((2**n)*math.factorial(n)*sqrt(pi)))*e**((-(x**2))/2)\n",
      "    return psi"
     ],
     "language": "python",
     "metadata": {},
     "outputs": [],
     "prompt_number": 123
    },
    {
     "cell_type": "code",
     "collapsed": false,
     "input": [
      "x = arange(-4.,4.,0.1)"
     ],
     "language": "python",
     "metadata": {},
     "outputs": [],
     "prompt_number": 124
    },
    {
     "cell_type": "code",
     "collapsed": false,
     "input": [
      "plot(x, psi(0,x), label='$\\psi_{0}$', color='blue', linewidth=2)\n",
      "plot(x, psi(1,x), label='$\\psi_{1}$', color='red', linestyle='--', linewidth=2)\n",
      "plot(x, psi(2,x), label='$\\psi_{2}$', color='green', linestyle=':', linewidth=3)\n",
      "plot(x, psi(3,x), label='$\\psi_{3}$',color='k', linestyle='-.', linewidth=3)\n",
      "legend(loc='lower right')\n",
      "xlabel('$x[position]$',fontsize=20)\n",
      "ylabel('$\\psi_{n}$',fontsize=20)\n",
      "show()\n"
     ],
     "language": "python",
     "metadata": {},
     "outputs": [
      {
       "output_type": "display_data",
       "png": "[encoded data removed]"
      }
     ],
     "prompt_number": 125
    },
    {
     "cell_type": "markdown",
     "metadata": {},
     "source": [
      "###b.)"
     ]
    },
    {
     "cell_type": "code",
     "collapsed": false,
     "input": [
      "x = arange(-10.,10.,0.1)\n",
      "psi30=zeros(x.shape,float)\n",
      "for i in range(len(x)):\n",
      "    psi30[i]=(H(30,i))*(1./sqrt((2**30)*math.factorial(30)*sqrt(pi)))*e**((-(i**2))/2)\n",
      "    "
     ],
     "language": "python",
     "metadata": {},
     "outputs": [
      {
       "ename": "TypeError",
       "evalue": "unsupported operand type(s) for *: 'long' and 'numpy.float64'",
       "output_type": "pyerr",
       "traceback": [
        "\u001b[1;31m---------------------------------------------------------------------------\u001b[0m\n\u001b[1;31mTypeError\u001b[0m                                 Traceback (most recent call last)",
        "\u001b[1;32m<ipython-input-127-035da813e8d6>\u001b[0m in \u001b[0;36m<module>\u001b[1;34m()\u001b[0m\n\u001b[0;32m      2\u001b[0m \u001b[0mpsi30\u001b[0m\u001b[1;33m=\u001b[0m\u001b[0mzeros\u001b[0m\u001b[1;33m(\u001b[0m\u001b[0mx\u001b[0m\u001b[1;33m.\u001b[0m\u001b[0mshape\u001b[0m\u001b[1;33m,\u001b[0m\u001b[0mfloat\u001b[0m\u001b[1;33m)\u001b[0m\u001b[1;33m\u001b[0m\u001b[0m\n\u001b[0;32m      3\u001b[0m \u001b[1;32mfor\u001b[0m \u001b[0mi\u001b[0m \u001b[1;32min\u001b[0m \u001b[0mrange\u001b[0m\u001b[1;33m(\u001b[0m\u001b[0mlen\u001b[0m\u001b[1;33m(\u001b[0m\u001b[0mx\u001b[0m\u001b[1;33m)\u001b[0m\u001b[1;33m)\u001b[0m\u001b[1;33m:\u001b[0m\u001b[1;33m\u001b[0m\u001b[0m\n\u001b[1;32m----> 4\u001b[1;33m     \u001b[0mpsi30\u001b[0m\u001b[1;33m[\u001b[0m\u001b[0mi\u001b[0m\u001b[1;33m]\u001b[0m\u001b[1;33m=\u001b[0m\u001b[1;33m(\u001b[0m\u001b[0mH\u001b[0m\u001b[1;33m(\u001b[0m\u001b[1;36m30\u001b[0m\u001b[1;33m,\u001b[0m\u001b[0mi\u001b[0m\u001b[1;33m)\u001b[0m\u001b[1;33m)\u001b[0m\u001b[1;33m*\u001b[0m\u001b[1;33m(\u001b[0m\u001b[1;36m1.\u001b[0m\u001b[1;33m/\u001b[0m\u001b[0msqrt\u001b[0m\u001b[1;33m(\u001b[0m\u001b[1;33m(\u001b[0m\u001b[1;36m2\u001b[0m\u001b[1;33m**\u001b[0m\u001b[1;36m30\u001b[0m\u001b[1;33m)\u001b[0m\u001b[1;33m*\u001b[0m\u001b[0mmath\u001b[0m\u001b[1;33m.\u001b[0m\u001b[0mfactorial\u001b[0m\u001b[1;33m(\u001b[0m\u001b[1;36m30\u001b[0m\u001b[1;33m)\u001b[0m\u001b[1;33m*\u001b[0m\u001b[0msqrt\u001b[0m\u001b[1;33m(\u001b[0m\u001b[0mpi\u001b[0m\u001b[1;33m)\u001b[0m\u001b[1;33m)\u001b[0m\u001b[1;33m)\u001b[0m\u001b[1;33m*\u001b[0m\u001b[0me\u001b[0m\u001b[1;33m**\u001b[0m\u001b[1;33m(\u001b[0m\u001b[1;33m(\u001b[0m\u001b[1;33m-\u001b[0m\u001b[1;33m(\u001b[0m\u001b[0mi\u001b[0m\u001b[1;33m**\u001b[0m\u001b[1;36m2\u001b[0m\u001b[1;33m)\u001b[0m\u001b[1;33m)\u001b[0m\u001b[1;33m/\u001b[0m\u001b[1;36m2\u001b[0m\u001b[1;33m)\u001b[0m\u001b[1;33m\u001b[0m\u001b[0m\n\u001b[0m\u001b[0;32m      5\u001b[0m \u001b[1;33m\u001b[0m\u001b[0m\n",
        "\u001b[1;31mTypeError\u001b[0m: unsupported operand type(s) for *: 'long' and 'numpy.float64'"
       ]
      }
     ],
     "prompt_number": 127
    },
    {
     "cell_type": "markdown",
     "metadata": {},
     "source": [
      "Even with the for loop I still get the same error"
     ]
    },
    {
     "cell_type": "code",
     "collapsed": false,
     "input": [
      "plot(x, psi30, label='$\\psi_{30}$', linewidth=2)\n",
      "xlabel('$x[position]$', fontsize=20)\n",
      "ylabel('$\\psi_{30}$', fontsize=20)\n",
      "legend(loc='lower right')\n",
      "show()"
     ],
     "language": "python",
     "metadata": {},
     "outputs": [
      {
       "output_type": "display_data",
       "png": "[encoded data removed]"
      }
     ],
     "prompt_number": 128
    },
    {
     "cell_type": "markdown",
     "metadata": {},
     "source": [
      "The plot is obviously wrong because I can't get psi30"
     ]
    },
    {
     "cell_type": "markdown",
     "metadata": {},
     "source": [
      "###c.)"
     ]
    },
    {
     "cell_type": "code",
     "collapsed": false,
     "input": [
      "import numpy as np\n",
      "def quantum_uncrt(n,x):\n",
      "    f = lambda x: (x**2)*((psi(n,x))**2)\n",
      "    I = integrate.quad(f, -np.inf, np.inf)\n",
      "    uncrt = sqrt(I)\n",
      "    return uncrt\n"
     ],
     "language": "python",
     "metadata": {},
     "outputs": [],
     "prompt_number": 60
    },
    {
     "cell_type": "code",
     "collapsed": false,
     "input": [
      "print quantum_uncrt(5,x)"
     ],
     "language": "python",
     "metadata": {},
     "outputs": [
      {
       "output_type": "stream",
       "stream": "stdout",
       "text": [
        "[  2.34520788e+00   2.21828037e-04]\n"
       ]
      }
     ],
     "prompt_number": 61
    },
    {
     "cell_type": "markdown",
     "metadata": {},
     "source": [
      "My answer of 2.345 is very close to th given answer of 2.3"
     ]
    },
    {
     "cell_type": "markdown",
     "metadata": {},
     "source": [
      "Q4\n",
      "--"
     ]
    },
    {
     "cell_type": "markdown",
     "metadata": {},
     "source": [
      "###a.)"
     ]
    },
    {
     "cell_type": "code",
     "collapsed": false,
     "input": [
      "def Monte_Carlo(f,x,N, a, b):\n",
      "    \"\"\"Uses hit and miss Monte Carlo integration techniques to integrate f(x), in the range a to b with N number of random points.\"\"\"\n",
      "    ary = zeros(N, dtype=float) \n",
      "    for i in range(1,N): \n",
      "        xmin=a\n",
      "        xmax=b\n",
      "        subx = x[logical_and((x>xmin),(x<xmax))]\n",
      "        ymax= max(f(subx))*1.05\n",
      "        ymin=0\n",
      "        samples_x = xmin + (xmax-xmin)*random_sample(i)\n",
      "        samples_y = ymin + (ymax-ymin)*random_sample(i)\n",
      "        mask = (samples_y < f(samples_x))\n",
      "        I = (xmax-xmin)*(ymax-ymin)*sum(mask)/mask.size\n",
      "        ary[i]=I\n",
      "    return ary\n"
     ],
     "language": "python",
     "metadata": {},
     "outputs": [],
     "prompt_number": 92
    },
    {
     "cell_type": "code",
     "collapsed": false,
     "input": [
      "f = lambda x: 4*sqrt(1-(x**2))\n",
      "x = arange(0.,1.+0.01,0.01)"
     ],
     "language": "python",
     "metadata": {},
     "outputs": [],
     "prompt_number": 93
    },
    {
     "cell_type": "code",
     "collapsed": false,
     "input": [
      "print Monte_Carlo(f,x,10,0,1)"
     ],
     "language": "python",
     "metadata": {},
     "outputs": [
      {
       "output_type": "stream",
       "stream": "stdout",
       "text": [
        "[ 0.          0.          4.19978999  4.19978999  3.1498425   3.359832\n",
        "  2.099895    1.79991     2.62486875  1.86657333]\n"
       ]
      }
     ],
     "prompt_number": 94
    },
    {
     "cell_type": "markdown",
     "metadata": {},
     "source": [
      "The first element of the array needs to be disregarded"
     ]
    },
    {
     "cell_type": "markdown",
     "metadata": {},
     "source": [
      "###b.)"
     ]
    },
    {
     "cell_type": "code",
     "collapsed": false,
     "input": [
      "def Error(N,a,b):\n",
      "    \"\"\"returns the error of the integral of f(x)=4*sqrt(1-(x**2)) from a to b using the \n",
      "Monte Carlo method of integration with N number of random points\"\"\"\n",
      "    f = lambda x: 4*sqrt(1-(x**2))\n",
      "    x = arange(0.,1.+0.01,0.01)\n",
      "    I = Monte_Carlo(f,x,N,a,b)\n",
      "    Error = 100*abs(I-pi)/pi\n",
      "    return Error\n",
      "    \n",
      "    "
     ],
     "language": "python",
     "metadata": {},
     "outputs": [],
     "prompt_number": 108
    },
    {
     "cell_type": "code",
     "collapsed": false,
     "input": [
      "print Error(10,0,1)"
     ],
     "language": "python",
     "metadata": {},
     "outputs": [
      {
       "output_type": "stream",
       "stream": "stdout",
       "text": [
        "[ 100.           33.68346752   33.68346752   33.68346752   33.68346752\n",
        "    6.94677402   55.43884416   23.60944713   66.57913312   10.87768832]\n"
       ]
      }
     ],
     "prompt_number": 56
    },
    {
     "cell_type": "markdown",
     "metadata": {},
     "source": [
      "again the first element of the arry needs to be disregarded"
     ]
    },
    {
     "cell_type": "markdown",
     "metadata": {},
     "source": [
      "###c.)"
     ]
    },
    {
     "cell_type": "code",
     "collapsed": false,
     "input": [
      "N=50000\n",
      "N_range = arange(0,N)\n",
      "error = Error(N,0,1)\n",
      "loglog(N_range[1::100], error[1::100], label='Percent Error')\n",
      "xlabel('$N$')\n",
      "ylabel('$Error$')\n",
      "legend(loc='upper right')\n",
      "show()\n"
     ],
     "language": "python",
     "metadata": {},
     "outputs": [
      {
       "output_type": "display_data",
       "png": "[encoded data removed]"
      }
     ],
     "prompt_number": 101
    },
    {
     "cell_type": "markdown",
     "metadata": {},
     "source": [
      "From my error plot it apprears that the error is very sparatic at all points but it apprears to maybe decreas with an average linear trend for large N. It is hard too tell though. "
     ]
    },
    {
     "cell_type": "markdown",
     "metadata": {},
     "source": [
      "###d.)"
     ]
    },
    {
     "cell_type": "code",
     "collapsed": false,
     "input": [
      "def sampleMean(f,x,N,a,b):\n",
      "    \"\"\"Returns an array composed of the integrals of f(x) from a to b for N=0 to N=N, \n",
      "using the sample mean Monte Carlo method of integration\"\"\"\n",
      "    ary = zeros(N, dtype=float)\n",
      "    for i in range(1,N):\n",
      "        xmin=a\n",
      "        xmax=b\n",
      "        samples_x = xmin + (xmax-xmin)*random_sample(i)\n",
      "        s=0\n",
      "        for k in samples_x:\n",
      "            s = s + f(k)\n",
      "        I_N = (xmax-xmin)*(1./N)*s\n",
      "        ary[i]=I_N\n",
      "    return ary\n",
      "        "
     ],
     "language": "python",
     "metadata": {},
     "outputs": [],
     "prompt_number": 104
    },
    {
     "cell_type": "code",
     "collapsed": false,
     "input": [
      "print sampleMean(f,x,10,0,1)"
     ],
     "language": "python",
     "metadata": {},
     "outputs": [
      {
       "output_type": "stream",
       "stream": "stdout",
       "text": [
        "[ 0.          0.39999498  0.77052392  0.96521358  1.12922871  1.44089999\n",
        "  2.10571945  1.98485383  2.86351449  2.55919806]\n"
       ]
      }
     ],
     "prompt_number": 105
    },
    {
     "cell_type": "code",
     "collapsed": false,
     "input": [
      "def Error_sampleMean(N,a,b):\n",
      "    \"\"\"Returns the error of the integral of f(x)=4*sqrt(1-(x**2)) from a to b using the sample mean \n",
      "Monte Carlo method of integration with N number of random points\"\"\"\n",
      "    f = lambda x: 4*sqrt(1-(x**2))\n",
      "    x = arange(0.,1.+0.01,0.01)\n",
      "    I = sampleMean(f,x,N,a,b)\n",
      "    Error = 100*abs(I-pi)/pi\n",
      "    return Error\n",
      "    "
     ],
     "language": "python",
     "metadata": {},
     "outputs": [],
     "prompt_number": 107
    },
    {
     "cell_type": "code",
     "collapsed": false,
     "input": [
      "N=10000\n",
      "N_range = arange(0,N)\n",
      "error_s = Error_sampleMean(N,0,1)\n",
      "loglog(N_range[1::1000], error_s[1::1000], label='Percent Error (sample mean)')\n",
      "xlabel('$N$')\n",
      "ylabel('$Error$')\n",
      "legend(loc='lower left')\n",
      "show()\n"
     ],
     "language": "python",
     "metadata": {},
     "outputs": [
      {
       "output_type": "display_data",
       "png": "[encoded data removed]"
      }
     ],
     "prompt_number": 118
    },
    {
     "cell_type": "markdown",
     "metadata": {},
     "source": [
      "As N gets large the error seems to approch 1. The functional dependence seems to resemble that of 1/x or log(x)."
     ]
    },
    {
     "cell_type": "markdown",
     "metadata": {},
     "source": [
      "Q5\n",
      "---"
     ]
    },
    {
     "cell_type": "markdown",
     "metadata": {},
     "source": [
      "###a.)"
     ]
    },
    {
     "cell_type": "markdown",
     "metadata": {},
     "source": [
      "###M"
     ]
    },
    {
     "cell_type": "code",
     "collapsed": false,
     "input": [
      "p_yz = lambda z,y,x: 100.*((y+0.1)+(z**2))\n",
      "a = -0.2\n",
      "b = 0.2\n",
      "c = lambda x: -0.2\n",
      "d= lambda x: 0.2\n",
      "e = lambda x,y: -1\n",
      "f= lambda x,y: 1\n",
      "M = integrate.tplquad(p_yz, a, b, c, d, e, f)\n",
      "print M"
     ],
     "language": "python",
     "metadata": {},
     "outputs": [
      {
       "output_type": "stream",
       "stream": "stdout",
       "text": [
        "(13.866666666666669, 1.5395092608135507e-13)\n"
       ]
      }
     ],
     "prompt_number": 138
    },
    {
     "cell_type": "markdown",
     "metadata": {},
     "source": [
      "###$r_{cm}$"
     ]
    },
    {
     "cell_type": "code",
     "collapsed": false,
     "input": [
      "# x coordinate\n",
      "r = lambda z,y,x: x*(100.*((y+0.1)+(z**2)))\n",
      "a = -0.2\n",
      "b = 0.2\n",
      "c = lambda x: -0.2\n",
      "d= lambda x: 0.2\n",
      "e = lambda x,y: -1\n",
      "f= lambda x,y: 1\n",
      "r_x = integrate.tplquad(r, a, b, c, d ,e, f)\n",
      "print r_x"
     ],
     "language": "python",
     "metadata": {},
     "outputs": [
      {
       "output_type": "stream",
       "stream": "stdout",
       "text": [
        "(0.0, 1.5337698190904022e-14)\n"
       ]
      }
     ],
     "prompt_number": 144
    },
    {
     "cell_type": "code",
     "collapsed": false,
     "input": [
      "# y coordinate\n",
      "r = lambda z,y,x: y*(100.*((y+0.1)+(z**2)))\n",
      "a = -0.2\n",
      "b = 0.2\n",
      "c = lambda x: -0.2\n",
      "d= lambda x: 0.2\n",
      "e = lambda x,y: -1\n",
      "f= lambda x,y: 1\n",
      "r_y = integrate.tplquad(r, a, b, c, d ,e, f)\n",
      "print r_y"
     ],
     "language": "python",
     "metadata": {},
     "outputs": [
      {
       "output_type": "stream",
       "stream": "stdout",
       "text": [
        "(0.4266666666666667, 4.736951571734002e-15)\n"
       ]
      }
     ],
     "prompt_number": 145
    },
    {
     "cell_type": "code",
     "collapsed": false,
     "input": [
      "# z coordinate\n",
      "r = lambda z,y,x: z*(100.*((y+0.1)+(z**2)))\n",
      "a = -0.2\n",
      "b = 0.2\n",
      "c = lambda x: -0.2\n",
      "d= lambda x: 0.2\n",
      "e = lambda x,y: -1\n",
      "f= lambda x,y: 1\n",
      "r_z = integrate.tplquad(r, a, b, c, d ,e, f)\n",
      "print r_z\n"
     ],
     "language": "python",
     "metadata": {},
     "outputs": [
      {
       "output_type": "stream",
       "stream": "stdout",
       "text": [
        "(0.0, 0.0)\n"
       ]
      }
     ],
     "prompt_number": 172
    },
    {
     "cell_type": "markdown",
     "metadata": {},
     "source": [
      "$r_{cm}$ is at (0.0, 0.4267, 0.0)"
     ]
    },
    {
     "cell_type": "markdown",
     "metadata": {},
     "source": [
      "###$I_{cm}$"
     ]
    },
    {
     "cell_type": "code",
     "collapsed": false,
     "input": [
      "#x axis\n",
      "cm=r_x[0]\n",
      "r= lambda z,y,x: ((x-cm)**2)*(100.*((y+0.1)+(z**2)))\n",
      "a = -0.2\n",
      "b = 0.2\n",
      "c = lambda x: -0.2\n",
      "d= lambda x: 0.2\n",
      "e = lambda x,y: -1\n",
      "f= lambda x,y: 1\n",
      "Icm_x = integrate.tplquad(r, a, b, c, d ,e, f)\n",
      "print Icm_x"
     ],
     "language": "python",
     "metadata": {},
     "outputs": [
      {
       "output_type": "stream",
       "stream": "stdout",
       "text": [
        "(0.1848888888888889, 2.0526790144180674e-15)\n"
       ]
      }
     ],
     "prompt_number": 160
    },
    {
     "cell_type": "code",
     "collapsed": false,
     "input": [
      "#y axis\n",
      "cm = r_y[0]\n",
      "r = lambda z,y,x: ((y-cm)**2)*(100.*((y+0.1)+(z**2)))\n",
      "a = -0.2\n",
      "b = 0.2\n",
      "c = lambda x: -0.2\n",
      "d= lambda x: 0.2\n",
      "e = lambda x,y: -1\n",
      "f= lambda x,y: 1\n",
      "Icm_y = integrate.tplquad(r, a, b, c, d ,e, f)\n",
      "print Icm_y"
     ],
     "language": "python",
     "metadata": {},
     "outputs": [
      {
       "output_type": "stream",
       "stream": "stdout",
       "text": [
        "(2.34514962962963, 2.6036391150059733e-14)\n"
       ]
      }
     ],
     "prompt_number": 161
    },
    {
     "cell_type": "code",
     "collapsed": false,
     "input": [
      "#z axis\n",
      "cm = r_z[0]\n",
      "r = lambda z,y,x: ((z-cm)**2)*(100.*((y+0.1)+(z**2)))\n",
      "a = -0.2\n",
      "b = 0.2\n",
      "c = lambda x: -0.2\n",
      "d= lambda x: 0.2\n",
      "e = lambda x,y: -1\n",
      "f= lambda x,y: 1\n",
      "Icm_z = integrate.tplquad(r, a, b, c, d ,e, f)\n",
      "print Icm_z"
     ],
     "language": "python",
     "metadata": {},
     "outputs": [
      {
       "output_type": "stream",
       "stream": "stdout",
       "text": [
        "(7.466666666666668, 8.289665250534503e-14)\n"
       ]
      }
     ],
     "prompt_number": 162
    },
    {
     "cell_type": "code",
     "collapsed": false,
     "input": [
      "Icm = Icm_x[0] + Icm_y[0] + Icm_z[0]\n",
      "print Icm"
     ],
     "language": "python",
     "metadata": {},
     "outputs": [
      {
       "output_type": "stream",
       "stream": "stdout",
       "text": [
        "9.99670518519\n"
       ]
      }
     ],
     "prompt_number": 164
    },
    {
     "cell_type": "markdown",
     "metadata": {},
     "source": [
      "###b.)"
     ]
    },
    {
     "cell_type": "markdown",
     "metadata": {},
     "source": [
      "To test the algorithum using a constant density just find the average y and z and plug them into the density function to get an idea of constant density. Since the prism is symetric about the origin the average y and z are just their positve cordinates from the origin so y=0.2m and z=1.0m.\n"
     ]
    },
    {
     "cell_type": "code",
     "collapsed": false,
     "input": [
      "#constant density\n",
      "d = 100.*((0.2+0.1)+(1.0**2))\n",
      "print d"
     ],
     "language": "python",
     "metadata": {},
     "outputs": [
      {
       "output_type": "stream",
       "stream": "stdout",
       "text": [
        "130.0\n"
       ]
      }
     ],
     "prompt_number": 165
    },
    {
     "cell_type": "markdown",
     "metadata": {},
     "source": [
      "Now recompute the above integrals with this number insted of the density function."
     ]
    },
    {
     "cell_type": "markdown",
     "metadata": {},
     "source": [
      "###M"
     ]
    },
    {
     "cell_type": "code",
     "collapsed": false,
     "input": [
      "p_yz = lambda z,y,x: 130.0\n",
      "a = -0.2\n",
      "b = 0.2\n",
      "c = lambda x: -0.2\n",
      "d= lambda x: 0.2\n",
      "e = lambda x,y: -1\n",
      "f= lambda x,y: 1\n",
      "M = integrate.tplquad(p_yz, a, b, c, d, e, f)\n",
      "print M"
     ],
     "language": "python",
     "metadata": {},
     "outputs": [
      {
       "output_type": "stream",
       "stream": "stdout",
       "text": [
        "(41.599999999999994, 4.61852778244065e-13)\n"
       ]
      }
     ],
     "prompt_number": 169
    },
    {
     "cell_type": "markdown",
     "metadata": {},
     "source": [
      "###$r_{cm}$"
     ]
    },
    {
     "cell_type": "code",
     "collapsed": false,
     "input": [
      "# x coordinate\n",
      "r = lambda z,y,x: x*130.0\n",
      "a = -0.2\n",
      "b = 0.2\n",
      "c = lambda x: -0.2\n",
      "d= lambda x: 0.2\n",
      "e = lambda x,y: -1\n",
      "f= lambda x,y: 1\n",
      "r_x = integrate.tplquad(r, a, b, c, d ,e, f)\n",
      "print r_x"
     ],
     "language": "python",
     "metadata": {},
     "outputs": [
      {
       "output_type": "stream",
       "stream": "stdout",
       "text": [
        "(0.0, 4.601309457271206e-14)\n"
       ]
      }
     ],
     "prompt_number": 170
    },
    {
     "cell_type": "code",
     "collapsed": false,
     "input": [
      "# y coordinate\n",
      "r = lambda z,y,x: y*130.0\n",
      "a = -0.2\n",
      "b = 0.2\n",
      "c = lambda x: -0.2\n",
      "d= lambda x: 0.2\n",
      "e = lambda x,y: -1\n",
      "f= lambda x,y: 1\n",
      "r_y = integrate.tplquad(r, a, b, c, d ,e, f)\n",
      "print r_y"
     ],
     "language": "python",
     "metadata": {},
     "outputs": [
      {
       "output_type": "stream",
       "stream": "stdout",
       "text": [
        "(0.0, 0.0)\n"
       ]
      }
     ],
     "prompt_number": 171
    },
    {
     "cell_type": "code",
     "collapsed": false,
     "input": [
      "# z coordinate\n",
      "r = lambda z,y,x: z*130.0\n",
      "a = -0.2\n",
      "b = 0.2\n",
      "c = lambda x: -0.2\n",
      "d= lambda x: 0.2\n",
      "e = lambda x,y: -1\n",
      "f= lambda x,y: 1\n",
      "r_z = integrate.tplquad(r, a, b, c, d ,e, f)\n",
      "print r_z\n"
     ],
     "language": "python",
     "metadata": {},
     "outputs": [
      {
       "output_type": "stream",
       "stream": "stdout",
       "text": [
        "(0.0, 0.0)\n"
       ]
      }
     ],
     "prompt_number": 173
    },
    {
     "cell_type": "markdown",
     "metadata": {},
     "source": [
      "$r_{cm}$ is at (0.0, 0.0, 0.0)"
     ]
    },
    {
     "cell_type": "markdown",
     "metadata": {},
     "source": [
      "###$I_{cm}$"
     ]
    },
    {
     "cell_type": "code",
     "collapsed": false,
     "input": [
      "#x axis\n",
      "cm=r_x[0]\n",
      "r= lambda z,y,x: ((x-cm)**2)*130.0\n",
      "a = -0.2\n",
      "b = 0.2\n",
      "c = lambda x: -0.2\n",
      "d= lambda x: 0.2\n",
      "e = lambda x,y: -1\n",
      "f= lambda x,y: 1\n",
      "Icm_x = integrate.tplquad(r, a, b, c, d ,e, f)\n",
      "print Icm_x"
     ],
     "language": "python",
     "metadata": {},
     "outputs": [
      {
       "output_type": "stream",
       "stream": "stdout",
       "text": [
        "(0.5546666666666668, 6.158037043254203e-15)\n"
       ]
      }
     ],
     "prompt_number": 174
    },
    {
     "cell_type": "code",
     "collapsed": false,
     "input": [
      "#y axis\n",
      "cm = r_y[0]\n",
      "r = lambda z,y,x: ((y-cm)**2)*130.0\n",
      "a = -0.2\n",
      "b = 0.2\n",
      "c = lambda x: -0.2\n",
      "d= lambda x: 0.2\n",
      "e = lambda x,y: -1\n",
      "f= lambda x,y: 1\n",
      "Icm_y = integrate.tplquad(r, a, b, c, d ,e, f)\n",
      "print Icm_y"
     ],
     "language": "python",
     "metadata": {},
     "outputs": [
      {
       "output_type": "stream",
       "stream": "stdout",
       "text": [
        "(0.5546666666666668, 6.158037043254203e-15)\n"
       ]
      }
     ],
     "prompt_number": 175
    },
    {
     "cell_type": "code",
     "collapsed": false,
     "input": [
      "#z axis\n",
      "cm = r_z[0]\n",
      "r = lambda z,y,x: ((z-cm)**2)*130.0\n",
      "a = -0.2\n",
      "b = 0.2\n",
      "c = lambda x: -0.2\n",
      "d= lambda x: 0.2\n",
      "e = lambda x,y: -1\n",
      "f= lambda x,y: 1\n",
      "Icm_z = integrate.tplquad(r, a, b, c, d ,e, f)\n",
      "print Icm_z"
     ],
     "language": "python",
     "metadata": {},
     "outputs": [
      {
       "output_type": "stream",
       "stream": "stdout",
       "text": [
        "(13.866666666666669, 1.5395092608135507e-13)\n"
       ]
      }
     ],
     "prompt_number": 176
    },
    {
     "cell_type": "code",
     "collapsed": false,
     "input": [
      "Icm = Icm_x[0] + Icm_y[0] + Icm_z[0]\n",
      "print Icm"
     ],
     "language": "python",
     "metadata": {},
     "outputs": [
      {
       "output_type": "stream",
       "stream": "stdout",
       "text": [
        "14.976\n"
       ]
      }
     ],
     "prompt_number": 177
    },
    {
     "cell_type": "markdown",
     "metadata": {},
     "source": [
      "All these estimated values are kind of close to the original ones but are not too exact because the original density is not constant."
     ]
    },
    {
     "cell_type": "markdown",
     "metadata": {},
     "source": [
      "###c.)"
     ]
    },
    {
     "cell_type": "markdown",
     "metadata": {},
     "source": [
      "Since I used tplquad for my integration an error was given with the answer. Gerneraly based on my error values, which were around $10^{-13}$ to $10^{-15}$, so my answers are good to about 13 significant figures. Six significant figures should be sufficent though so I will re-report M $r_{cm}$ and $I_{cm}$ to six significan figures"
     ]
    },
    {
     "cell_type": "markdown",
     "metadata": {},
     "source": [
      "###M = 13.8667kg"
     ]
    },
    {
     "cell_type": "markdown",
     "metadata": {},
     "source": [
      "###$r_{cm}$ = (0.00000, 0.42667, 0.00000)"
     ]
    },
    {
     "cell_type": "markdown",
     "metadata": {},
     "source": [
      "###$I_{cm}$ = 9.99671"
     ]
    },
    {
     "cell_type": "code",
     "collapsed": false,
     "input": [],
     "language": "python",
     "metadata": {},
     "outputs": []
    }
   ],
   "metadata": {}
  }
 ]
}