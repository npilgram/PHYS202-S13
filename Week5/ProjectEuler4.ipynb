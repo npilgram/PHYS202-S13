{
 "metadata": {
  "name": "ProjectEuler4"
 },
 "nbformat": 3,
 "nbformat_minor": 0,
 "worksheets": [
  {
   "cells": [
    {
     "cell_type": "markdown",
     "metadata": {},
     "source": [
      "Largest Palindrome Product\n",
      "===="
     ]
    },
    {
     "cell_type": "markdown",
     "metadata": {},
     "source": [
      "##Problem 4"
     ]
    },
    {
     "cell_type": "markdown",
     "metadata": {},
     "source": [
      "A palindromic number reads the same both ways. The largest palindrome made from the product of two 2-digit numbers is 9009 = 91 x 99.\n",
      " \n",
      "Find the largest palindrome made from the product of two 3-digit numbers.\n"
     ]
    },
    {
     "cell_type": "code",
     "collapsed": false,
     "input": [
      "def largest_palindrome_product(x):\n",
      "    \"\"\"Returns the largest palindrome that is a product of two x-digit numbers.\"\"\"\n",
      "    big = (10**x)-1\n",
      "    small = 10**(x-1)\n",
      "    for i in range((big**2), ((small**2)-1), -1):\n",
      "        if str(i) == str(i)[::-1]:\n",
      "            for k in range(small, (big+1)):\n",
      "                if i%k==0 and i/k > small and i/k < big:\n",
      "                    return i, 'product of', i/k, k\n",
      "                    break\n",
      "                "
     ],
     "language": "python",
     "metadata": {},
     "outputs": [],
     "prompt_number": 27
    },
    {
     "cell_type": "markdown",
     "metadata": {},
     "source": [
      "Test case"
     ]
    },
    {
     "cell_type": "code",
     "collapsed": false,
     "input": [
      "print largest_palindrome_product(2)"
     ],
     "language": "python",
     "metadata": {},
     "outputs": [
      {
       "output_type": "stream",
       "stream": "stdout",
       "text": [
        "(9009, 'product of', 91, 99)\n"
       ]
      }
     ],
     "prompt_number": 28
    },
    {
     "cell_type": "markdown",
     "metadata": {},
     "source": [
      "Answer"
     ]
    },
    {
     "cell_type": "code",
     "collapsed": false,
     "input": [
      "print largest_palindrome_product(3)"
     ],
     "language": "python",
     "metadata": {},
     "outputs": [
      {
       "output_type": "stream",
       "stream": "stdout",
       "text": [
        "(906609, 'product of', 993, 913)\n"
       ]
      }
     ],
     "prompt_number": 29
    },
    {
     "cell_type": "code",
     "collapsed": false,
     "input": [],
     "language": "python",
     "metadata": {},
     "outputs": []
    }
   ],
   "metadata": {}
  }
 ]
}