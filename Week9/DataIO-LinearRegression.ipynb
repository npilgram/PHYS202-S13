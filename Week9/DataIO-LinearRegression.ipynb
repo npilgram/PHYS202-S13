{
 "metadata": {
  "name": "DataIO-LinearRegression"
 },
 "nbformat": 3,
 "nbformat_minor": 0,
 "worksheets": [
  {
   "cells": [
    {
     "cell_type": "markdown",
     "metadata": {},
     "source": [
      "Data I/O\n",
      "=="
     ]
    },
    {
     "cell_type": "code",
     "collapsed": false,
     "input": [
      "DataIn = loadtxt('input.dat')\n",
      "print DataIn.shape\n",
      "print DataIn"
     ],
     "language": "python",
     "metadata": {},
     "outputs": [
      {
       "output_type": "stream",
       "stream": "stdout",
       "text": [
        "(5, 3)\n",
        "[[ 0.   1.1  0.1]\n",
        " [ 2.   1.9  0.2]\n",
        " [ 4.   3.2  0.1]\n",
        " [ 6.   4.   0.3]\n",
        " [ 8.   5.9  0.3]]\n"
       ]
      }
     ],
     "prompt_number": 2
    },
    {
     "cell_type": "code",
     "collapsed": false,
     "input": [
      "print DataIn[:,2]"
     ],
     "language": "python",
     "metadata": {},
     "outputs": [
      {
       "output_type": "stream",
       "stream": "stdout",
       "text": [
        "[ 0.1  0.2  0.1  0.3  0.3]\n"
       ]
      }
     ],
     "prompt_number": 3
    },
    {
     "cell_type": "code",
     "collapsed": false,
     "input": [
      "x,y,yerr = loadtxt('input.dat',unpack=True)\n",
      "print x\n",
      "print y\n",
      "print yerr"
     ],
     "language": "python",
     "metadata": {},
     "outputs": [
      {
       "output_type": "stream",
       "stream": "stdout",
       "text": [
        "[ 0.  2.  4.  6.  8.]\n",
        "[ 1.1  1.9  3.2  4.   5.9]\n",
        "[ 0.1  0.2  0.1  0.3  0.3]\n"
       ]
      }
     ],
     "prompt_number": 4
    },
    {
     "cell_type": "code",
     "collapsed": false,
     "input": [
      "x, y = loadtxt('input.dat', unpack=True, usecols=[0,1])\n",
      "print x \n",
      "print y"
     ],
     "language": "python",
     "metadata": {},
     "outputs": [
      {
       "output_type": "stream",
       "stream": "stdout",
       "text": [
        "[ 0.  2.  4.  6.  8.]\n",
        "[ 1.1  1.9  3.2  4.   5.9]\n"
       ]
      }
     ],
     "prompt_number": 5
    },
    {
     "cell_type": "code",
     "collapsed": false,
     "input": [
      "x, y = loadtxt('input.csv', unpack=True, delimiter=',', usecols=[0,1])\n",
      "print x \n",
      "print y"
     ],
     "language": "python",
     "metadata": {},
     "outputs": [
      {
       "output_type": "stream",
       "stream": "stdout",
       "text": [
        "[ 0.  2.  4.  6.  8.]\n",
        "[ 1.1  1.9  3.2  4.   5.9]\n"
       ]
      }
     ],
     "prompt_number": 6
    },
    {
     "cell_type": "markdown",
     "metadata": {},
     "source": [
      "Writing Data to a file\n",
      "--"
     ]
    },
    {
     "cell_type": "code",
     "collapsed": false,
     "input": [
      "t = array([0.0, 0.1, 0.2, 0.3, 0.4, 0.5, 0.6, 0.7, 0.8, 0.9])\n",
      "v = array([0.137, 0.456, 0.591, 0.713, 0.859, 0.926, 1.139, 1.327, 1.512, 1.875])"
     ],
     "language": "python",
     "metadata": {},
     "outputs": [],
     "prompt_number": 7
    },
    {
     "cell_type": "code",
     "collapsed": false,
     "input": [
      "p = np.ones(len(v),dtype=float)*(0.15+(v/10.))\n",
      "print p"
     ],
     "language": "python",
     "metadata": {},
     "outputs": [
      {
       "output_type": "stream",
       "stream": "stdout",
       "text": [
        "[ 0.1637  0.1956  0.2091  0.2213  0.2359  0.2426  0.2639  0.2827  0.3012\n",
        "  0.3375]\n"
       ]
      }
     ],
     "prompt_number": 8
    },
    {
     "cell_type": "code",
     "collapsed": false,
     "input": [
      "savetxt('output.dat', (t,p))"
     ],
     "language": "python",
     "metadata": {},
     "outputs": [],
     "prompt_number": 9
    },
    {
     "cell_type": "code",
     "collapsed": false,
     "input": [
      "DataOut = column_stack((t,p))\n",
      "savetxt('output.dat', DataOut)"
     ],
     "language": "python",
     "metadata": {},
     "outputs": [],
     "prompt_number": 10
    },
    {
     "cell_type": "code",
     "collapsed": false,
     "input": [
      "savetxt('output.dat', DataOut, fmt=('%3i','%4.3f'))"
     ],
     "language": "python",
     "metadata": {},
     "outputs": [],
     "prompt_number": 11
    },
    {
     "cell_type": "code",
     "collapsed": false,
     "input": [
      "f = open('output.dat', 'w')\n",
      "f.write(\"#My comment line for this file, followed by a blank line, then data\\n\\n\")\n",
      "savetxt(f, DataOut, fmt=('%3i', '%4.3f'))\n",
      "f.close()"
     ],
     "language": "python",
     "metadata": {},
     "outputs": [],
     "prompt_number": 12
    },
    {
     "cell_type": "markdown",
     "metadata": {},
     "source": [
      "Exercise 1\n",
      "--"
     ]
    },
    {
     "cell_type": "code",
     "collapsed": false,
     "input": [
      "t = array([1, 2, 3, 4, 5, 6, 7, 8, 9, 10])\n",
      "pos = array([7.75, 7.33, 6.89, 6.45, 5.96, 5.55, 5.10, 4.49, 3.93, 3.58])\n",
      "pos_err = ([0.02, 0.03, 0.03, 0.04, 0.05, 0.06, 0.08, 0.11, 0.14, 0.17])"
     ],
     "language": "python",
     "metadata": {},
     "outputs": [],
     "prompt_number": 13
    },
    {
     "cell_type": "code",
     "collapsed": false,
     "input": [
      "dOut = column_stack((t,pos, pos_err))\n",
      "savetxt('linearData.dat', dOut, fmt=('%3i', '%3.2f', '%3.2f'))"
     ],
     "language": "python",
     "metadata": {},
     "outputs": [],
     "prompt_number": 14
    },
    {
     "cell_type": "code",
     "collapsed": false,
     "input": [
      "d = open('linearData.dat','w')\n",
      "d.write(\"#Time, Position, and Position uncertanty\\n\")\n",
      "d.write(\"#time, position, position uncertanty\\n\")\n",
      "savetxt(d, dOut, fmt=('%3i', '%3.2f', '%3.2f'))\n",
      "d.close()"
     ],
     "language": "python",
     "metadata": {},
     "outputs": [],
     "prompt_number": 15
    },
    {
     "cell_type": "markdown",
     "metadata": {},
     "source": [
      "Exercise 2\n",
      "--"
     ]
    },
    {
     "cell_type": "markdown",
     "metadata": {},
     "source": [
      "###a.)"
     ]
    },
    {
     "cell_type": "code",
     "collapsed": false,
     "input": [
      "def LinearLeastSquaresFit(x,y):\n",
      "    \"\"\"Take in arrays representing (x,y) values for set of linearly varying data and perform \n",
      "    a linear least squares regression. Return the resulting slope and intercept parameters of \n",
      "    the best fit line with their uncertainties.\"\"\"\n",
      "    x_ave = np.sum(x)/len(x)\n",
      "    y_ave = np.sum(y)/len(y)\n",
      "    xsqr_ave = np.sum((x*x))/len((x*x))\n",
      "    xy_ave = np.sum((x*y))/len((x*y))\n",
      "    \n",
      "    m = (xy_ave - (x_ave*y_ave))/(xsqr_ave - (x_ave**2))\n",
      "    b = ((xsqr_ave*y_ave)-(x_ave*xy_ave))/(xsqr_ave - (x_ave**2))\n",
      "    \n",
      "    uncer = np.zeros(len(x))\n",
      "    for i in range(len(x)):\n",
      "        uncer[i]=y[i]-((m*x[i])+b)\n",
      "        \n",
      "    uncer_sqr_ave = np.sum((uncer*uncer))/len((uncer*uncer))\n",
      "    \n",
      "    m_err = np.sqrt((1/(len(x)-2.))*(uncer_sqr_ave/(xsqr_ave -(x_ave**2))))\n",
      "    b_err = np.sqrt((1/(len(x)-2.))*((uncer_sqr_ave*xsqr_ave)/(xsqr_ave -(x_ave**2))))\n",
      "    \n",
      "    return (m,b,m_err,b_err)\n",
      "\n",
      "        \n",
      "    \n",
      "    \n"
     ],
     "language": "python",
     "metadata": {},
     "outputs": [],
     "prompt_number": 16
    },
    {
     "cell_type": "markdown",
     "metadata": {},
     "source": [
      "###b.)"
     ]
    },
    {
     "cell_type": "code",
     "collapsed": false,
     "input": [
      "x, y = loadtxt('linearData.dat', unpack=True, usecols=[0,1])"
     ],
     "language": "python",
     "metadata": {},
     "outputs": [],
     "prompt_number": 17
    },
    {
     "cell_type": "code",
     "collapsed": false,
     "input": [
      "print LinearLeastSquaresFit(x,y)"
     ],
     "language": "python",
     "metadata": {},
     "outputs": [
      {
       "output_type": "stream",
       "stream": "stdout",
       "text": [
        "(-0.47145454545454524, 8.2960000000000012, 0.0079948330421529545, 0.049606634453651217)\n"
       ]
      }
     ],
     "prompt_number": 18
    },
    {
     "cell_type": "markdown",
     "metadata": {},
     "source": [
      "My vales came out correctly"
     ]
    },
    {
     "cell_type": "markdown",
     "metadata": {},
     "source": [
      "###c.)"
     ]
    },
    {
     "cell_type": "code",
     "collapsed": false,
     "input": [
      "m = LinearLeastSquaresFit(x,y)[0]\n",
      "b = LinearLeastSquaresFit(x,y)[1]\n",
      "m_err = LinearLeastSquaresFit(x,y)[2]\n",
      "b_err = LinearLeastSquaresFit(x,y)[3]\n",
      "print m,b,m_err,b_err\n"
     ],
     "language": "python",
     "metadata": {},
     "outputs": [
      {
       "output_type": "stream",
       "stream": "stdout",
       "text": [
        "-0.471454545455 8.296 0.00799483304215 0.0496066344537\n"
       ]
      }
     ],
     "prompt_number": 19
    },
    {
     "cell_type": "code",
     "collapsed": false,
     "input": [
      "f = lambda x: m*x+b\n",
      "f_plus =  lambda x: (m+m_err)*x +(b+b_err)\n",
      "f_mins = lambda x: (m-m_err)*x +(b-b_err)"
     ],
     "language": "python",
     "metadata": {},
     "outputs": [],
     "prompt_number": 20
    },
    {
     "cell_type": "code",
     "collapsed": false,
     "input": [
      "FitLabel=\"y = %.4f x +%.4f\" %(m,b)\n",
      "\n",
      "print FitLabel"
     ],
     "language": "python",
     "metadata": {},
     "outputs": [
      {
       "output_type": "stream",
       "stream": "stdout",
       "text": [
        "y = -0.4715 x +8.2960\n"
       ]
      }
     ],
     "prompt_number": 21
    },
    {
     "cell_type": "code",
     "collapsed": false,
     "input": [
      "plot(x,y,'r*',markersize=10,label='Data')\n",
      "plot(x,f(x), lw=2, label=FitLabel)\n",
      "plot(x, f_plus(x), 'g:', lw=2, label='y=(m+m_err)*x +(b+b_err)')\n",
      "plot(x, f_mins(x), 'k:', lw=2, label='y=(m-m_err)*x +(b-b_err)')\n",
      "linelabel=\"y = %.4f x + %.4f\" % (m,b)\n",
      "legend(loc='lower left')\n",
      "show()"
     ],
     "language": "python",
     "metadata": {},
     "outputs": [
      {
       "output_type": "display_data",
       "png": "[encoded data removed]"
      }
     ],
     "prompt_number": 29
    },
    {
     "cell_type": "markdown",
     "metadata": {},
     "source": [
      "Exercise 3\n",
      "---"
     ]
    },
    {
     "cell_type": "markdown",
     "metadata": {},
     "source": [
      "###a.)"
     ]
    },
    {
     "cell_type": "code",
     "collapsed": false,
     "input": [
      "def WeightedLinearLeastSquaresFit(x,y,w):\n",
      "    \"\"\"Take in arrays representing (x,y) values for a set of linearly varying data and an array of weights w.\n",
      "    Perform a weighted linear least squares regession. Return the resulting slope and intercept parameters of\n",
      "    the best fit line with their uncertainties.\n",
      "\n",
      "    If all the weights are equal to one, then the uncertanties on the parameters are calculated using the \n",
      "    non-weighted least squares equation\"\"\"\n",
      "    w_sum = np.sum(w)\n",
      "    wx_sum = np.sum((w*x))\n",
      "    wy_sum = np.sum((w*y))\n",
      "    wxsqr_sum = np.sum((w*(x**2)))\n",
      "    wxy_sum = np.sum((w*(x*y)))\n",
      "    \n",
      "    m = ((w_sum*wxy_sum)-(wx_sum*wy_sum))/((w_sum*wxsqr_sum)-(wx_sum**2))\n",
      "    b = ((wxsqr_sum*wy_sum)-(wx_sum*wxy_sum))/((w_sum*wxsqr_sum)-(wx_sum**2))\n",
      "    \n",
      "    if sum(w)/len(w)==1:\n",
      "        x_ave = np.sum(x)/len(x)\n",
      "        y_ave = np.sum(y)/len(y)\n",
      "        xsqr_ave = np.sum((x*x))/len((x*x))\n",
      "        xy_ave = np.sum((x*y))/len((x*y))\n",
      "        \n",
      "        uncer = np.zeros(len(x))\n",
      "        for i in range(len(x)):\n",
      "            uncer[i]=y[i]-((m*x[i])+b)\n",
      "        \n",
      "        uncer_sqr_ave = np.sum((uncer*uncer))/len((uncer*uncer))\n",
      "    \n",
      "        m_err = np.sqrt((1/(len(x)-2.))*(uncer_sqr_ave/(xsqr_ave -(x_ave**2))))\n",
      "        b_err = np.sqrt((1/(len(x)-2.))*((uncer_sqr_ave*xsqr_ave)/(xsqr_ave -(x_ave**2))))\n",
      "    \n",
      "    else:\n",
      "        m_err = np.sqrt(w_sum/((w_sum*wxsqr_sum)-(wx_sum**2)))\n",
      "        b_err = np.sqrt(wxsqr_sum/((w_sum*wxsqr_sum)-(wx_sum**2)))\n",
      "    \n",
      "    return m,m_err,b,b_err"
     ],
     "language": "python",
     "metadata": {},
     "outputs": [],
     "prompt_number": 45
    },
    {
     "cell_type": "markdown",
     "metadata": {},
     "source": [
      "###b.)"
     ]
    },
    {
     "cell_type": "code",
     "collapsed": false,
     "input": [
      "x, y, u = loadtxt('linearData.dat', unpack=True, usecols=[0,1,2])\n",
      "w=1/u"
     ],
     "language": "python",
     "metadata": {},
     "outputs": [],
     "prompt_number": 46
    },
    {
     "cell_type": "code",
     "collapsed": false,
     "input": [
      "print WeightedLinearLeastSquaresFit(x,y,w)"
     ],
     "language": "python",
     "metadata": {},
     "outputs": [
      {
       "output_type": "stream",
       "stream": "stdout",
       "text": [
        "(-0.46135625464255636, 0.027327849165283288, 8.2518874102477877, 0.12343405641053652)\n"
       ]
      }
     ],
     "prompt_number": 48
    },
    {
     "cell_type": "markdown",
     "metadata": {},
     "source": [
      "###c.)"
     ]
    },
    {
     "cell_type": "code",
     "collapsed": false,
     "input": [
      "m = LinearLeastSquaresFit(x,y)[0]\n",
      "b = LinearLeastSquaresFit(x,y)[1]\n",
      "\n",
      "mw = WeightedLinearLeastSquaresFit(x,y,w)[0]\n",
      "bw = WeightedLinearLeastSquaresFit(x,y,w)[2]"
     ],
     "language": "python",
     "metadata": {},
     "outputs": [],
     "prompt_number": 49
    },
    {
     "cell_type": "code",
     "collapsed": false,
     "input": [
      "f_nonw = lambda x: m*x+b\n",
      "f_w = lambda x: mw*x+bw"
     ],
     "language": "python",
     "metadata": {},
     "outputs": [],
     "prompt_number": 50
    },
    {
     "cell_type": "code",
     "collapsed": false,
     "input": [
      "FitLabel=\"weighted y = %.4f x +%.4f\" %(m,b)\n",
      "weightedFitLabel=\"unweighted y = %.4f x +%.4f\" %(mw,bw)"
     ],
     "language": "python",
     "metadata": {},
     "outputs": [],
     "prompt_number": 54
    },
    {
     "cell_type": "code",
     "collapsed": false,
     "input": [
      "errorbar(x,y,u, fmt='k*', markersize=9,elinewidth=4,ecolor='red', label='Data with error')\n",
      "plot(x,f_w(x), 'b-', lw=2, label=FitLabel)\n",
      "plot(x, f_nonw(x), 'g-', lw=2, label=weightedFitLabel)\n",
      "legend(loc=0)\n",
      "show()"
     ],
     "language": "python",
     "metadata": {},
     "outputs": [
      {
       "output_type": "display_data",
       "png": "[encoded data removed]"
      }
     ],
     "prompt_number": 59
    },
    {
     "cell_type": "code",
     "collapsed": false,
     "input": [],
     "language": "python",
     "metadata": {},
     "outputs": []
    }
   ],
   "metadata": {}
  }
 ]
}