{
 "metadata": {
  "name": "InterpAndDiffEx3"
 },
 "nbformat": 3,
 "nbformat_minor": 0,
 "worksheets": [
  {
   "cells": [
    {
     "cell_type": "markdown",
     "metadata": {},
     "source": [
      "Q1\n",
      "----"
     ]
    },
    {
     "cell_type": "code",
     "collapsed": false,
     "input": [
      "from Electrostatics import *\n",
      "x,y = meshgrid(arange(-5,5,0.5),arange(-5,5,0.5))\n",
      "Vdipole = dipolePotential(x,y,1e-9,2.);\n",
      "contour(x,y,Vdipole, cmap=cm.coolwarm)"
     ],
     "language": "python",
     "metadata": {},
     "outputs": [
      {
       "output_type": "pyout",
       "prompt_number": 2,
       "text": [
        "<matplotlib.contour.QuadContourSet instance at 0x7fde980b75a8>"
       ]
      },
      {
       "output_type": "display_data",
       "png": "[encoded data removed]"
      }
     ],
     "prompt_number": 2
    },
    {
     "cell_type": "markdown",
     "metadata": {},
     "source": [
      "###a.)"
     ]
    },
    {
     "cell_type": "markdown",
     "metadata": {},
     "source": [
      "My dipolePotential function is set up for two charges lying on the x-axis with the origin at their midpoint. Therefore, the bisector of the charges where the potential would be zero would lie on the y-axis where x=0 not where y=0. So I evaluated problem 1 for x=0 not y=0."
     ]
    },
    {
     "cell_type": "code",
     "collapsed": false,
     "input": [
      "mask = (x==0)\n"
     ],
     "language": "python",
     "metadata": {},
     "outputs": [],
     "prompt_number": 23
    },
    {
     "cell_type": "code",
     "collapsed": false,
     "input": [
      "x_is_zero = x[mask]"
     ],
     "language": "python",
     "metadata": {},
     "outputs": [],
     "prompt_number": 24
    },
    {
     "cell_type": "code",
     "collapsed": false,
     "input": [
      "x_is_zero"
     ],
     "language": "python",
     "metadata": {},
     "outputs": [
      {
       "output_type": "pyout",
       "prompt_number": 25,
       "text": [
        "array([ 0.,  0.,  0.,  0.,  0.,  0.,  0.,  0.,  0.,  0.,  0.,  0.,  0.,\n",
        "        0.,  0.,  0.,  0.,  0.,  0.,  0.])"
       ]
      }
     ],
     "prompt_number": 25
    },
    {
     "cell_type": "markdown",
     "metadata": {},
     "source": [
      "###b.)"
     ]
    },
    {
     "cell_type": "code",
     "collapsed": false,
     "input": [
      "print Vdipole[mask]"
     ],
     "language": "python",
     "metadata": {},
     "outputs": [
      {
       "output_type": "stream",
       "stream": "stdout",
       "text": [
        "[ 0.  0.  0.  0.  0.  0.  0.  0.  0.  0.  0.  0.  0.  0.  0.  0.  0.  0.\n",
        "  0.  0.]\n"
       ]
      }
     ],
     "prompt_number": 26
    },
    {
     "cell_type": "markdown",
     "metadata": {},
     "source": [
      "Vdipole is 0 along the bisector."
     ]
    },
    {
     "cell_type": "markdown",
     "metadata": {},
     "source": [
      "Q2\n",
      "--"
     ]
    },
    {
     "cell_type": "markdown",
     "metadata": {},
     "source": [
      "###a.)"
     ]
    },
    {
     "cell_type": "code",
     "collapsed": false,
     "input": [
      "temp= np.array([10,11,12,13,14,15,16,17,18,19,20,21,22,23,24,25,26,27,28,29,30,31,32,33,34,35,36,37,38,39]) #in degrees C\n",
      "resistance = np.array([3.239, 3.118, 3.004, 2.897, 2.795, 2.700, 2.610, 2.526, 2.446, 2.371, 2.300, 2.233, 2.162, 2.110, 2.053, 2.000, 1.950, 1.902, 1.857, 1.815, 1.774, 1.736, 1.700, 1.666, 1.634, 1.603, 1.574, 1.547, 1.521, 1.496]) #in Mega Ohms   "
     ],
     "language": "python",
     "metadata": {},
     "outputs": [],
     "prompt_number": 5
    },
    {
     "cell_type": "code",
     "collapsed": false,
     "input": [],
     "language": "python",
     "metadata": {},
     "outputs": [],
     "prompt_number": 5
    },
    {
     "cell_type": "code",
     "collapsed": false,
     "input": [],
     "language": "python",
     "metadata": {},
     "outputs": [],
     "prompt_number": 26
    },
    {
     "cell_type": "code",
     "collapsed": false,
     "input": [],
     "language": "python",
     "metadata": {},
     "outputs": [],
     "prompt_number": 26
    },
    {
     "cell_type": "code",
     "collapsed": false,
     "input": [],
     "language": "python",
     "metadata": {},
     "outputs": [],
     "prompt_number": 26
    },
    {
     "cell_type": "markdown",
     "metadata": {},
     "source": [
      "Q3\n",
      "--"
     ]
    },
    {
     "cell_type": "markdown",
     "metadata": {},
     "source": [
      "###a.)"
     ]
    },
    {
     "cell_type": "code",
     "collapsed": false,
     "input": [
      "def finiteDifference(x,y):\n",
      "    \"\"\"Returns the numerical derivative of y with respect to x. Inputs x and y are arrays\"\"\"\n",
      "    dydx = zeros(y.shape, float)\n",
      "    dydx[1:-1] = (y[2:]-y[:-2])/(x[2:]-x[:-2])\n",
      "    dydx[0] = (y[1]-y[0])/(x[1]-x[0])\n",
      "    dydx[-1] = (y[-1]-y[-2])/(x[-1]-x[-2])\n",
      "    return dydx\n",
      "    "
     ],
     "language": "python",
     "metadata": {},
     "outputs": [],
     "prompt_number": 44
    },
    {
     "cell_type": "markdown",
     "metadata": {},
     "source": [
      "###b.)"
     ]
    },
    {
     "cell_type": "code",
     "collapsed": false,
     "input": [
      "x = arange(0.,10.01, 0.1)\n",
      "y = x**5\n",
      "finiteDifference(x,y)"
     ],
     "language": "python",
     "metadata": {},
     "outputs": [
      {
       "output_type": "pyout",
       "prompt_number": 45,
       "text": [
        "array([  1.00000000e-04,   1.60000000e-03,   1.21000000e-02,\n",
        "         4.96000000e-02,   1.44100000e-01,   3.37600000e-01,\n",
        "         6.84100000e-01,   1.24960000e+00,   2.11210000e+00,\n",
        "         3.36160000e+00,   5.10010000e+00,   7.44160000e+00,\n",
        "         1.05121000e+01,   1.44496000e+01,   1.94041000e+01,\n",
        "         2.55376000e+01,   3.30241000e+01,   4.20496000e+01,\n",
        "         5.28121000e+01,   6.55216000e+01,   8.04001000e+01,\n",
        "         9.76816000e+01,   1.17612100e+02,   1.40449600e+02,\n",
        "         1.66464100e+02,   1.95937600e+02,   2.29164100e+02,\n",
        "         2.66449600e+02,   3.08112100e+02,   3.54481600e+02,\n",
        "         4.05900100e+02,   4.62721600e+02,   5.25312100e+02,\n",
        "         5.94049600e+02,   6.69324100e+02,   7.51537600e+02,\n",
        "         8.41104100e+02,   9.38449600e+02,   1.04401210e+03,\n",
        "         1.15824160e+03,   1.28160010e+03,   1.41456160e+03,\n",
        "         1.55761210e+03,   1.71124960e+03,   1.87598410e+03,\n",
        "         2.05233760e+03,   2.24084410e+03,   2.44204960e+03,\n",
        "         2.65651210e+03,   2.88480160e+03,   3.12750010e+03,\n",
        "         3.38520160e+03,   3.65851210e+03,   3.94804960e+03,\n",
        "         4.25444410e+03,   4.57833760e+03,   4.92038410e+03,\n",
        "         5.28124960e+03,   5.66161210e+03,   6.06216160e+03,\n",
        "         6.48360010e+03,   6.92664160e+03,   7.39201210e+03,\n",
        "         7.88044960e+03,   8.39270410e+03,   8.92953760e+03,\n",
        "         9.49172410e+03,   1.00800496e+04,   1.06953121e+04,\n",
        "         1.13383216e+04,   1.20099001e+04,   1.27108816e+04,\n",
        "         1.34421121e+04,   1.42044496e+04,   1.49987641e+04,\n",
        "         1.58259376e+04,   1.66868641e+04,   1.75824496e+04,\n",
        "         1.85136121e+04,   1.94812816e+04,   2.04864001e+04,\n",
        "         2.15299216e+04,   2.26128121e+04,   2.37360496e+04,\n",
        "         2.49006241e+04,   2.61075376e+04,   2.73578041e+04,\n",
        "         2.86524496e+04,   2.99925121e+04,   3.13790416e+04,\n",
        "         3.28131001e+04,   3.42957616e+04,   3.58281121e+04,\n",
        "         3.74112496e+04,   3.90462841e+04,   4.07343376e+04,\n",
        "         4.24765441e+04,   4.42740496e+04,   4.61280121e+04,\n",
        "         4.80396016e+04,   4.90099501e+04])"
       ]
      }
     ],
     "prompt_number": 45
    },
    {
     "cell_type": "code",
     "collapsed": false,
     "input": [
      "dydxAnalytical = 5*x**4\n",
      "plot(x, finiteDifference(x,y), color='blue', label='numerical derivative')\n",
      "plot(x, dydxAnalytical, color='red', label='analytical derivative')\n",
      "legend(loc='upper left')\n",
      "show()"
     ],
     "language": "python",
     "metadata": {},
     "outputs": [
      {
       "output_type": "display_data",
       "png": "[encoded data removed]"
      }
     ],
     "prompt_number": 46
    },
    {
     "cell_type": "markdown",
     "metadata": {},
     "source": [
      "My function finiteDifference seems to be very accurate as it's plot is almost right on top of the analytical result. The error is plotted below."
     ]
    },
    {
     "cell_type": "code",
     "collapsed": false,
     "input": [
      "numericalDiff=finiteDifference(x,y)\n",
      "diff = 100*abs(numericalDiff[1:]-dydxAnalytical[1:])/dydxAnalytical[1:]\n",
      "semilogy(x[1:], diff, label='error')\n",
      "legend(loc='upper right')"
     ],
     "language": "python",
     "metadata": {},
     "outputs": [
      {
       "output_type": "pyout",
       "prompt_number": 47,
       "text": [
        "<matplotlib.legend.Legend at 0x7fde986bc210>"
       ]
      },
      {
       "output_type": "display_data",
       "png": "[encoded data removed]"
      }
     ],
     "prompt_number": 47
    },
    {
     "cell_type": "code",
     "collapsed": false,
     "input": [
      "diff #error"
     ],
     "language": "python",
     "metadata": {},
     "outputs": [
      {
       "output_type": "pyout",
       "prompt_number": 48,
       "text": [
        "array([  2.20000000e+02,   5.12500000e+01,   2.24691358e+01,\n",
        "         1.25781250e+01,   8.03200000e+00,   5.57098765e+00,\n",
        "         4.08996252e+00,   3.12988281e+00,   2.47218412e+00,\n",
        "         2.00200000e+00,   1.65425859e+00,   1.38985340e+00,\n",
        "         1.18413221e+00,   1.02092878e+00,   8.89283951e-01,\n",
        "         7.81555176e-01,   6.92280983e-01,   6.17474470e-01,\n",
        "         5.54170088e-01,   5.00125000e-01,   4.53617577e-01,\n",
        "         4.13308517e-01,   3.78143303e-01,   3.47282504e-01,\n",
        "         3.20051200e-01,   2.95901754e-01,   2.74386056e-01,\n",
        "         2.55134579e-01,   2.37840406e-01,   2.22246914e-01,\n",
        "         2.08138202e-01,   1.95331573e-01,   1.83671594e-01,\n",
        "         1.73025347e-01,   1.63278634e-01,   1.54332895e-01,\n",
        "         1.46102709e-01,   1.38513747e-01,   1.31501084e-01,\n",
        "         1.25007813e-01,   1.18983877e-01,   1.13385112e-01,\n",
        "         1.08172427e-01,   1.03311121e-01,   9.87703094e-02,\n",
        "         9.45224252e-02,   9.05428039e-02,   8.68093232e-02,\n",
        "         8.33020949e-02,   8.00032000e-02,   7.68964588e-02,\n",
        "         7.39672324e-02,   7.12022499e-02,   6.85894577e-02,\n",
        "         6.61178881e-02,   6.37775439e-02,   6.15592969e-02,\n",
        "         5.94547994e-02,   5.74564049e-02,   5.55570988e-02,\n",
        "         5.37504367e-02,   5.20304898e-02,   5.03917962e-02,\n",
        "         4.88293171e-02,   4.73383985e-02,   4.59147363e-02,\n",
        "         4.45543451e-02,   4.32535305e-02,   4.20088639e-02,\n",
        "         4.08171595e-02,   3.96754548e-02,   3.85809911e-02,\n",
        "         3.75311978e-02,   3.65236765e-02,   3.55561877e-02,\n",
        "         3.46266383e-02,   3.37330702e-02,   3.28736501e-02,\n",
        "         3.20466599e-02,   3.12504883e-02,   3.04836227e-02,\n",
        "         2.97446422e-02,   2.90322112e-02,   2.83450729e-02,\n",
        "         2.76820440e-02,   2.70420098e-02,   2.64239189e-02,\n",
        "         2.58267798e-02,   2.52496560e-02,   2.46916629e-02,\n",
        "         2.41519642e-02,   2.36297688e-02,   2.31243279e-02,\n",
        "         2.26349325e-02,   2.21609104e-02,   2.17016244e-02,\n",
        "         2.12564699e-02,   2.08248732e-02,   2.04062892e-02,\n",
        "         1.98009980e+00])"
       ]
      }
     ],
     "prompt_number": 48
    },
    {
     "cell_type": "markdown",
     "metadata": {},
     "source": [
      "###c.)"
     ]
    },
    {
     "cell_type": "code",
     "collapsed": false,
     "input": [
      "x_2= arange(0.,10.0001,0.001)\n",
      "y_2= x_2**5\n",
      "finiteDifference(x_2,y_2)"
     ],
     "language": "python",
     "metadata": {},
     "outputs": [
      {
       "output_type": "pyout",
       "prompt_number": 52,
       "text": [
        "array([  1.00000000e-12,   1.60000000e-11,   1.21000000e-10, ...,\n",
        "         4.99600130e+04,   4.99800040e+04,   4.99900010e+04])"
       ]
      }
     ],
     "prompt_number": 52
    },
    {
     "cell_type": "code",
     "collapsed": false,
     "input": [
      "dydxAnalytical_2 = 5*x_2**4\n",
      "plot(x_2, finiteDifference(x_2,y_2), color='blue', label='numerical derivative')\n",
      "plot(x_2, dydxAnalytical_2, color='red', label='analytical derivative')\n",
      "legend(loc='upper left')\n",
      "show()"
     ],
     "language": "python",
     "metadata": {},
     "outputs": [
      {
       "output_type": "display_data",
       "png": "[encoded data removed]"
      }
     ],
     "prompt_number": 53
    },
    {
     "cell_type": "markdown",
     "metadata": {},
     "source": [
      "Looks very accurate. Error plotted below"
     ]
    },
    {
     "cell_type": "code",
     "collapsed": false,
     "input": [
      "numericalDiff_2=finiteDifference(x_2,y_2)\n",
      "diff_2 = 100*abs(numericalDiff_2[1:]-dydxAnalytical_2[1:])/dydxAnalytical_2[1:]\n",
      "semilogy(x_2[1:], diff_2, label='error')\n",
      "legend(loc='upper right')"
     ],
     "language": "python",
     "metadata": {},
     "outputs": [
      {
       "output_type": "pyout",
       "prompt_number": 55,
       "text": [
        "<matplotlib.legend.Legend at 0x37b2210>"
       ]
      },
      {
       "output_type": "display_data",
       "png": "[encoded data removed]"
      }
     ],
     "prompt_number": 55
    },
    {
     "cell_type": "markdown",
     "metadata": {},
     "source": [
      "There is much less error with the spacing of 0.001 compared to a spacing of 0.1"
     ]
    },
    {
     "cell_type": "markdown",
     "metadata": {},
     "source": [
      "###d.)"
     ]
    },
    {
     "cell_type": "markdown",
     "metadata": {},
     "source": [
      "As seen in the error plot above, except for x between 0 and 1, the derivative is accurate to 4 significant figures with a spaceing of 0.001."
     ]
    },
    {
     "cell_type": "markdown",
     "metadata": {},
     "source": [
      "Q4\n",
      "--"
     ]
    },
    {
     "cell_type": "markdown",
     "metadata": {},
     "source": [
      "###a.)"
     ]
    },
    {
     "cell_type": "code",
     "collapsed": false,
     "input": [
      "x = linspace(0,2*pi,100)\n",
      "y = sin(x) + 0.1*random.random(size=x.shape)\n",
      "plot(x,y,label='noisy sinusoidal plot')\n",
      "legend(loc='upper right')\n",
      "show()"
     ],
     "language": "python",
     "metadata": {},
     "outputs": [
      {
       "output_type": "display_data",
       "png": "[encoded data removed]"
      }
     ],
     "prompt_number": 2
    },
    {
     "cell_type": "markdown",
     "metadata": {},
     "source": [
      "###b.)"
     ]
    },
    {
     "cell_type": "code",
     "collapsed": false,
     "input": [
      "def fourPtFiniteDiff(x,y):\n",
      "    \"\"\"Returns the numerical derivative of y with respect to x using the four-point center differencing method. Inputs x and y are arrays\"\"\"\n",
      "    dydx = zeros(y.shape, float)\n",
      "    dydy[2:-2] = (y[0:-2]-(8*y[1:-2])+(8*y[2:-1])-y[2:-2])/(x[2:-2]-x[2:-2])\n",
      "    dydx[0] = (y[1]-y[0])/(x[1]-x[0])\n",
      "    dydx[1] = (y[2]-y[1])/(x[2]-x[1])\n",
      "    dydx[-2] = (y[-2]-y[-3])/(x[-2]-x[-3])\n",
      "    dydx[-1] = (y[-1]-y[-2])/(x[-1]-x[-2])\n",
      "    return dydx\n",
      "    "
     ],
     "language": "python",
     "metadata": {},
     "outputs": [],
     "prompt_number": 3
    },
    {
     "cell_type": "code",
     "collapsed": false,
     "input": [
      "x = arange(0.,10.01, 0.1)\n",
      "y = x**5\n",
      "fourPtFiniteDiff(x,y)"
     ],
     "language": "python",
     "metadata": {},
     "outputs": [
      {
       "ename": "ValueError",
       "evalue": "shape mismatch: objects cannot be broadcast to a single shape",
       "output_type": "pyerr",
       "traceback": [
        "\u001b[1;31m---------------------------------------------------------------------------\u001b[0m\n\u001b[1;31mValueError\u001b[0m                                Traceback (most recent call last)",
        "\u001b[1;32m<ipython-input-4-cbe5a7394978>\u001b[0m in \u001b[0;36m<module>\u001b[1;34m()\u001b[0m\n\u001b[0;32m      1\u001b[0m \u001b[0mx\u001b[0m \u001b[1;33m=\u001b[0m \u001b[0marange\u001b[0m\u001b[1;33m(\u001b[0m\u001b[1;36m0.\u001b[0m\u001b[1;33m,\u001b[0m\u001b[1;36m10.01\u001b[0m\u001b[1;33m,\u001b[0m \u001b[1;36m0.1\u001b[0m\u001b[1;33m)\u001b[0m\u001b[1;33m\u001b[0m\u001b[0m\n\u001b[0;32m      2\u001b[0m \u001b[0my\u001b[0m \u001b[1;33m=\u001b[0m \u001b[0mx\u001b[0m\u001b[1;33m**\u001b[0m\u001b[1;36m5\u001b[0m\u001b[1;33m\u001b[0m\u001b[0m\n\u001b[1;32m----> 3\u001b[1;33m \u001b[0mfourPtFiniteDiff\u001b[0m\u001b[1;33m(\u001b[0m\u001b[0mx\u001b[0m\u001b[1;33m,\u001b[0m\u001b[0my\u001b[0m\u001b[1;33m)\u001b[0m\u001b[1;33m\u001b[0m\u001b[0m\n\u001b[0m",
        "\u001b[1;32m<ipython-input-3-e03342f4b457>\u001b[0m in \u001b[0;36mfourPtFiniteDiff\u001b[1;34m(x, y)\u001b[0m\n\u001b[0;32m      2\u001b[0m     \u001b[1;34m\"\"\"Returns the numerical derivative of y with respect to x using the four-point center differencing method. Inputs x and y are arrays\"\"\"\u001b[0m\u001b[1;33m\u001b[0m\u001b[0m\n\u001b[0;32m      3\u001b[0m     \u001b[0mdydx\u001b[0m \u001b[1;33m=\u001b[0m \u001b[0mzeros\u001b[0m\u001b[1;33m(\u001b[0m\u001b[0my\u001b[0m\u001b[1;33m.\u001b[0m\u001b[0mshape\u001b[0m\u001b[1;33m,\u001b[0m \u001b[0mfloat\u001b[0m\u001b[1;33m)\u001b[0m\u001b[1;33m\u001b[0m\u001b[0m\n\u001b[1;32m----> 4\u001b[1;33m     \u001b[0mdydy\u001b[0m\u001b[1;33m[\u001b[0m\u001b[1;36m2\u001b[0m\u001b[1;33m:\u001b[0m\u001b[1;33m-\u001b[0m\u001b[1;36m2\u001b[0m\u001b[1;33m]\u001b[0m \u001b[1;33m=\u001b[0m \u001b[1;33m(\u001b[0m\u001b[0my\u001b[0m\u001b[1;33m[\u001b[0m\u001b[1;36m0\u001b[0m\u001b[1;33m:\u001b[0m\u001b[1;33m-\u001b[0m\u001b[1;36m2\u001b[0m\u001b[1;33m]\u001b[0m\u001b[1;33m-\u001b[0m\u001b[1;33m(\u001b[0m\u001b[1;36m8\u001b[0m\u001b[1;33m*\u001b[0m\u001b[0my\u001b[0m\u001b[1;33m[\u001b[0m\u001b[1;36m1\u001b[0m\u001b[1;33m:\u001b[0m\u001b[1;33m-\u001b[0m\u001b[1;36m2\u001b[0m\u001b[1;33m]\u001b[0m\u001b[1;33m)\u001b[0m\u001b[1;33m+\u001b[0m\u001b[1;33m(\u001b[0m\u001b[1;36m8\u001b[0m\u001b[1;33m*\u001b[0m\u001b[0my\u001b[0m\u001b[1;33m[\u001b[0m\u001b[1;36m2\u001b[0m\u001b[1;33m:\u001b[0m\u001b[1;33m-\u001b[0m\u001b[1;36m1\u001b[0m\u001b[1;33m]\u001b[0m\u001b[1;33m)\u001b[0m\u001b[1;33m-\u001b[0m\u001b[0my\u001b[0m\u001b[1;33m[\u001b[0m\u001b[1;36m2\u001b[0m\u001b[1;33m:\u001b[0m\u001b[1;33m-\u001b[0m\u001b[1;36m2\u001b[0m\u001b[1;33m]\u001b[0m\u001b[1;33m)\u001b[0m\u001b[1;33m/\u001b[0m\u001b[1;33m(\u001b[0m\u001b[0mx\u001b[0m\u001b[1;33m[\u001b[0m\u001b[1;36m2\u001b[0m\u001b[1;33m:\u001b[0m\u001b[1;33m-\u001b[0m\u001b[1;36m2\u001b[0m\u001b[1;33m]\u001b[0m\u001b[1;33m-\u001b[0m\u001b[0mx\u001b[0m\u001b[1;33m[\u001b[0m\u001b[1;36m2\u001b[0m\u001b[1;33m:\u001b[0m\u001b[1;33m-\u001b[0m\u001b[1;36m2\u001b[0m\u001b[1;33m]\u001b[0m\u001b[1;33m)\u001b[0m\u001b[1;33m\u001b[0m\u001b[0m\n\u001b[0m\u001b[0;32m      5\u001b[0m     \u001b[0mdydx\u001b[0m\u001b[1;33m[\u001b[0m\u001b[1;36m0\u001b[0m\u001b[1;33m]\u001b[0m \u001b[1;33m=\u001b[0m \u001b[1;33m(\u001b[0m\u001b[0my\u001b[0m\u001b[1;33m[\u001b[0m\u001b[1;36m1\u001b[0m\u001b[1;33m]\u001b[0m\u001b[1;33m-\u001b[0m\u001b[0my\u001b[0m\u001b[1;33m[\u001b[0m\u001b[1;36m0\u001b[0m\u001b[1;33m]\u001b[0m\u001b[1;33m)\u001b[0m\u001b[1;33m/\u001b[0m\u001b[1;33m(\u001b[0m\u001b[0mx\u001b[0m\u001b[1;33m[\u001b[0m\u001b[1;36m1\u001b[0m\u001b[1;33m]\u001b[0m\u001b[1;33m-\u001b[0m\u001b[0mx\u001b[0m\u001b[1;33m[\u001b[0m\u001b[1;36m0\u001b[0m\u001b[1;33m]\u001b[0m\u001b[1;33m)\u001b[0m\u001b[1;33m\u001b[0m\u001b[0m\n\u001b[0;32m      6\u001b[0m     \u001b[0mdydx\u001b[0m\u001b[1;33m[\u001b[0m\u001b[1;36m1\u001b[0m\u001b[1;33m]\u001b[0m \u001b[1;33m=\u001b[0m \u001b[1;33m(\u001b[0m\u001b[0my\u001b[0m\u001b[1;33m[\u001b[0m\u001b[1;36m2\u001b[0m\u001b[1;33m]\u001b[0m\u001b[1;33m-\u001b[0m\u001b[0my\u001b[0m\u001b[1;33m[\u001b[0m\u001b[1;36m1\u001b[0m\u001b[1;33m]\u001b[0m\u001b[1;33m)\u001b[0m\u001b[1;33m/\u001b[0m\u001b[1;33m(\u001b[0m\u001b[0mx\u001b[0m\u001b[1;33m[\u001b[0m\u001b[1;36m2\u001b[0m\u001b[1;33m]\u001b[0m\u001b[1;33m-\u001b[0m\u001b[0mx\u001b[0m\u001b[1;33m[\u001b[0m\u001b[1;36m1\u001b[0m\u001b[1;33m]\u001b[0m\u001b[1;33m)\u001b[0m\u001b[1;33m\u001b[0m\u001b[0m\n",
        "\u001b[1;31mValueError\u001b[0m: shape mismatch: objects cannot be broadcast to a single shape"
       ]
      }
     ],
     "prompt_number": 4
    },
    {
     "cell_type": "code",
     "collapsed": false,
     "input": [],
     "language": "python",
     "metadata": {},
     "outputs": []
    }
   ],
   "metadata": {}
  }
 ]
}