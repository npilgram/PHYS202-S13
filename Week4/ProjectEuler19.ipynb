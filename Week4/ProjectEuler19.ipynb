{
 "metadata": {
  "name": "ProjectEuler19"
 },
 "nbformat": 3,
 "nbformat_minor": 0,
 "worksheets": [
  {
   "cells": [
    {
     "cell_type": "markdown",
     "metadata": {},
     "source": [
      "Project Euler Problem 19\n",
      "===="
     ]
    },
    {
     "cell_type": "markdown",
     "metadata": {},
     "source": [
      "Counting Sundays\n",
      "------\n",
      "\n",
      "You are given the following information, but you may prefer to do some research for yourself.\n",
      " 1 Jan 1900 was a Monday.\n",
      " Thirty days has September,\n",
      " April, June and November.\n",
      " All the rest have thirty-one,\n",
      " Saving February alone,\n",
      " Which has twenty-eight, rain or shine.\n",
      " And on leap years, twenty-nine.\n",
      " A leap year occurs on any year evenly divisible by 4, but not on a century unless it is divisible by 400.\n",
      " \n",
      "How many Sundays fell on the first of the month during the twentieth century (1 Jan 1901 to 31 Dec 2000)?\n",
      "\n",
      " "
     ]
    },
    {
     "cell_type": "code",
     "collapsed": false,
     "input": [
      "def day_of_week(day,month,year):\n",
      "    \"\"\"Uses Gauss's algorithm for determaning the day of the week to calculate the day of the week given a numerical date \n",
      "in day/month/year. Returns number that coresponds to day, Sunday=0, Monday=1, Tueday=2,........,Saturday=6\"\"\"\n",
      "    w = int(day + ((2.6*((month-2)%12))-0.2) + (5*((year-1)%4)) + (4*((year-1)%100)) + (6*((year-1)%400)))%7\n",
      "    return w\n"
     ],
     "language": "python",
     "metadata": {},
     "outputs": [],
     "prompt_number": 58
    },
    {
     "cell_type": "code",
     "collapsed": false,
     "input": [
      "def counting_Sundays(year1,year2):\n",
      "    \"\"\"Counts number of Sundays that fell on the first of the month in the time period between the begining \n",
      "of year1 and the end ofyear2.\"\"\"\n",
      "    Sundays=0\n",
      "    for i in range(year1,year2):\n",
      "        for x in range(1,13):\n",
      "            if day_of_week(1,x,i)==0:\n",
      "                Sundays = Sundays + 1\n",
      "    return Sundays\n",
      "            \n",
      "            \n",
      "    "
     ],
     "language": "python",
     "metadata": {},
     "outputs": [],
     "prompt_number": 74
    },
    {
     "cell_type": "code",
     "collapsed": false,
     "input": [
      "print counting_Sundays(1901,2000)"
     ],
     "language": "python",
     "metadata": {},
     "outputs": [
      {
       "output_type": "stream",
       "stream": "stdout",
       "text": [
        "171\n"
       ]
      }
     ],
     "prompt_number": 75
    },
    {
     "cell_type": "code",
     "collapsed": false,
     "input": [],
     "language": "python",
     "metadata": {},
     "outputs": [],
     "prompt_number": 75
    }
   ],
   "metadata": {}
  }
 ]
}