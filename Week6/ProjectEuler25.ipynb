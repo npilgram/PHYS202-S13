{
 "metadata": {
  "name": "ProjectEuler25"
 },
 "nbformat": 3,
 "nbformat_minor": 0,
 "worksheets": [
  {
   "cells": [
    {
     "cell_type": "markdown",
     "metadata": {},
     "source": [
      "Project Euler Problem 25\n",
      "====="
     ]
    },
    {
     "cell_type": "markdown",
     "metadata": {},
     "source": [
      "1000-digit Fibonacci number\n",
      "---\n",
      "###Problem 25"
     ]
    },
    {
     "cell_type": "markdown",
     "metadata": {},
     "source": [
      "The Fibonacci sequence is defined by the recurrence relation:\n",
      " \n",
      "$F_n = F_{n-1} + F_{n-2}$, where $F_1 = 1$ and $F_2 = 1$.\n",
      " \n",
      "Hence the first 12 terms will be:\n",
      " \n",
      "$F_1 = 1$\n",
      "\n",
      "$F_2 = 1$\n",
      "\n",
      "$F_3 = 2$\n",
      "\n",
      "$F_4 = 3$\n",
      "\n",
      "$F_5 = 5$\n",
      "\n",
      "$F_6 = 8$\n",
      "\n",
      "$F_7 = 13$\n",
      "\n",
      "$F_8 = 21$\n",
      "\n",
      "$F_9 = 34$\n",
      "\n",
      "$F_10 = 55$\n",
      "\n",
      "$F_11 = 89$\n",
      "\n",
      "$F_12 = 144$\n",
      " \n",
      "The 12th term, $F_{12}$, is the first term to contain three digits.\n",
      " \n",
      "What is the first term in the Fibonacci sequence to contain 1000 digits?\n"
     ]
    },
    {
     "cell_type": "code",
     "collapsed": false,
     "input": [
      "def fibonacci_num(x):\n",
      "    \"\"\"Returns the xth term of the Fibonacci sequence\"\"\"\n",
      "    if x==1:\n",
      "        return 1\n",
      "    elif x==2:\n",
      "        return 1\n",
      "    else:\n",
      "        Fprev=1\n",
      "        Fbef=1\n",
      "        for i in range(x-2):\n",
      "            Fcur= Fprev + Fbef\n",
      "            Fprev=Fbef\n",
      "            Fbef=Fcur\n",
      "    return Fcur"
     ],
     "language": "python",
     "metadata": {},
     "outputs": [],
     "prompt_number": 28
    },
    {
     "cell_type": "code",
     "collapsed": false,
     "input": [
      "print fibonacci_num(1), fibonacci_num(2), fibonacci_num(3), fibonacci_num(6), fibonacci_num(9), fibonacci_num(11), fibonacci_num(12)"
     ],
     "language": "python",
     "metadata": {},
     "outputs": [
      {
       "output_type": "stream",
       "stream": "stdout",
       "text": [
        "1 1 2 8 34 89 144\n"
       ]
      }
     ],
     "prompt_number": 29
    },
    {
     "cell_type": "markdown",
     "metadata": {},
     "source": [
      "My fibonacci_num() function works correctly confirmed by the test cases above."
     ]
    },
    {
     "cell_type": "code",
     "collapsed": false,
     "input": [
      "def fibonacci_dig(x):\n",
      "    \"\"\"Returns the first term of the fibonacci sequence with x digets.\"\"\"\n",
      "    k=1\n",
      "    while len(str(fibonacci_num(k)))<x:\n",
      "        k=k+1\n",
      "    return k\n",
      "            \n",
      "    "
     ],
     "language": "python",
     "metadata": {},
     "outputs": [],
     "prompt_number": 40
    },
    {
     "cell_type": "code",
     "collapsed": false,
     "input": [
      "print fibonacci_dig(3)"
     ],
     "language": "python",
     "metadata": {},
     "outputs": [
      {
       "output_type": "stream",
       "stream": "stdout",
       "text": [
        "12\n"
       ]
      }
     ],
     "prompt_number": 41
    },
    {
     "cell_type": "markdown",
     "metadata": {},
     "source": [
      "My fibonacci_dig() function works properly as confermed in the test case above."
     ]
    },
    {
     "cell_type": "code",
     "collapsed": false,
     "input": [
      "print fibonacci_dig(1000)"
     ],
     "language": "python",
     "metadata": {},
     "outputs": [
      {
       "output_type": "stream",
       "stream": "stdout",
       "text": [
        "4782\n"
       ]
      }
     ],
     "prompt_number": 42
    },
    {
     "cell_type": "markdown",
     "metadata": {},
     "source": [
      "$F_{4782}$ is the first term in the Fibonacci sequence with 1000 terms."
     ]
    },
    {
     "cell_type": "code",
     "collapsed": false,
     "input": [],
     "language": "python",
     "metadata": {},
     "outputs": []
    }
   ],
   "metadata": {}
  }
 ]
}