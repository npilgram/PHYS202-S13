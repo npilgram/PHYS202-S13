{
 "metadata": {
  "name": "Project2"
 },
 "nbformat": 3,
 "nbformat_minor": 0,
 "worksheets": [
  {
   "cells": [
    {
     "cell_type": "markdown",
     "metadata": {},
     "source": [
      "Project 2: One-Dimensional Traffic Flows\n",
      "==="
     ]
    },
    {
     "cell_type": "code",
     "collapsed": false,
     "input": [
      "r = range(40)\n",
      "random.shuffle(r)\n",
      "print r\n",
      "x=r[:5]\n",
      "        \n",
      "print x"
     ],
     "language": "python",
     "metadata": {},
     "outputs": [
      {
       "output_type": "stream",
       "stream": "stdout",
       "text": [
        "[14, 5, 7, 31, 12, 38, 9, 22, 0, 36, 20, 26, 19, 6, 21, 4, 28, 24, 34, 18, 27, 3, 25, 39, 33, 10, 8, 2, 16, 37, 11, 30, 13, 32, 17, 23, 35, 1, 29, 15]\n",
        "[14, 5, 7, 31, 12]\n"
       ]
      }
     ],
     "prompt_number": 2
    },
    {
     "cell_type": "code",
     "collapsed": false,
     "input": [
      "r = range(40)\n",
      "print r\n",
      "random.shuffle(r)\n",
      "print r"
     ],
     "language": "python",
     "metadata": {},
     "outputs": [
      {
       "output_type": "stream",
       "stream": "stdout",
       "text": [
        "[0, 1, 2, 3, 4, 5, 6, 7, 8, 9, 10, 11, 12, 13, 14, 15, 16, 17, 18, 19, 20, 21, 22, 23, 24, 25, 26, 27, 28, 29, 30, 31, 32, 33, 34, 35, 36, 37, 38, 39]\n",
        "[6, 31, 14, 29, 3, 34, 19, 32, 37, 7, 5, 33, 4, 26, 16, 39, 18, 9, 20, 30, 13, 35, 11, 10, 36, 0, 8, 25, 15, 27, 12, 17, 22, 21, 23, 28, 2, 38, 24, 1]\n"
       ]
      }
     ],
     "prompt_number": 3
    },
    {
     "cell_type": "code",
     "collapsed": false,
     "input": [
      "x=sort(x)\n",
      "print x"
     ],
     "language": "python",
     "metadata": {},
     "outputs": [
      {
       "output_type": "stream",
       "stream": "stdout",
       "text": [
        "[ 5  7 12 14 31]\n"
       ]
      }
     ],
     "prompt_number": 4
    },
    {
     "cell_type": "code",
     "collapsed": false,
     "input": [
      "v=zeros(5,dtype=int)\n",
      "for i in range(5):\n",
      "    v[i]=randint(0,15)\n",
      "\n",
      "print v"
     ],
     "language": "python",
     "metadata": {},
     "outputs": [
      {
       "output_type": "stream",
       "stream": "stdout",
       "text": [
        "[ 7  7 13  6  2]\n"
       ]
      }
     ],
     "prompt_number": 5
    },
    {
     "cell_type": "code",
     "collapsed": false,
     "input": [
      "array = np.array([x,v])\n",
      "print array"
     ],
     "language": "python",
     "metadata": {},
     "outputs": [
      {
       "output_type": "stream",
       "stream": "stdout",
       "text": [
        "[[ 5  7 12 14 31]\n",
        " [ 7  7 13  6  2]]\n"
       ]
      }
     ],
     "prompt_number": 6
    },
    {
     "cell_type": "code",
     "collapsed": false,
     "input": [
      "print array[0][2]"
     ],
     "language": "python",
     "metadata": {},
     "outputs": [
      {
       "output_type": "stream",
       "stream": "stdout",
       "text": [
        "12\n"
       ]
      }
     ],
     "prompt_number": 7
    },
    {
     "cell_type": "code",
     "collapsed": false,
     "input": [
      "def cars(c,L,v_max):\n",
      "    \"\"\"Returns a position and velocity array for c cars on a length L road with a max velocity of v_max\"\"\"\n",
      "    r = range(L)\n",
      "    random.shuffle(r)\n",
      "    x=r[:c]\n",
      "    x=sort(x)\n",
      "    \n",
      "    v=zeros(c,dtype=int)\n",
      "    for i in range(c):\n",
      "        v[i]=randint(0,v_max)\n",
      "    \n",
      "    array = np.array([x,v])\n",
      "    return array"
     ],
     "language": "python",
     "metadata": {},
     "outputs": [],
     "prompt_number": 8
    },
    {
     "cell_type": "code",
     "collapsed": false,
     "input": [
      "print cars(5,40,5)"
     ],
     "language": "python",
     "metadata": {},
     "outputs": [
      {
       "output_type": "stream",
       "stream": "stdout",
       "text": [
        "[[ 5 12 16 38 39]\n",
        " [ 0  1  1  3  2]]\n"
       ]
      }
     ],
     "prompt_number": 9
    },
    {
     "cell_type": "code",
     "collapsed": false,
     "input": [
      "def CA184(array,L,c,v_max):\n",
      "    \"\"\"Returns the new positions and velocities of c cars represented in the array on a lenght L road with max speed of v_max\n",
      "    according to CA184 rulset.\"\"\"\n",
      "    for i in range(c):\n",
      "        if i<(c-1): #calculates g for all positions but last one in array\n",
      "            if array[0][i+1]>array[0][i]: #g if  car is not last one on road\n",
      "                g = array[0][i+1]-array[0][i]-1\n",
      "            else: #g if car is last one on road\n",
      "                g = (L-array[0][i])+(array[0][i+1]-1)\n",
      "        else: #calculates g for last position element in array\n",
      "            if array[0][1]>array[0][i]:\n",
      "                g = array[0][1]-array[0][i]-1\n",
      "            else:\n",
      "                g = (L-array[0][i])+(array[0][1]-1)\n",
      "        if g==0: #new v determined by following rules\n",
      "            array[1][i]=0\n",
      "        elif g>array[1][i] and array[1][i]<v_max:\n",
      "            array[1][i]=array[1][i]+1\n",
      "        elif g<array[1][i]:\n",
      "            array[1][i]=g\n",
      "    \n",
      "    for i in range(c): #moves all cars forwad by velocities\n",
      "        if array[0][i]+array[1][i]<=L: #if car is not looping around\n",
      "            array[0][i]=array[0][i]+array[1][i]\n",
      "        else: #if car is last on road and loops around\n",
      "            array[0][i]=array[1][i]-(L-array[0][i])\n",
      "    \n",
      "    return array    "
     ],
     "language": "python",
     "metadata": {},
     "outputs": [],
     "prompt_number": 10
    },
    {
     "cell_type": "code",
     "collapsed": false,
     "input": [
      "r1 = cars(5,40,8)\n",
      "print r1"
     ],
     "language": "python",
     "metadata": {},
     "outputs": [
      {
       "output_type": "stream",
       "stream": "stdout",
       "text": [
        "[[ 7 16 19 20 21]\n",
        " [ 6  2  0  3  6]]\n"
       ]
      }
     ],
     "prompt_number": 11
    },
    {
     "cell_type": "code",
     "collapsed": false,
     "input": [
      "r2 = CA184(r1,40,5,8)\n",
      "print r2"
     ],
     "language": "python",
     "metadata": {},
     "outputs": [
      {
       "output_type": "stream",
       "stream": "stdout",
       "text": [
        "[[14 18 19 20 28]\n",
        " [ 7  2  0  0  7]]\n"
       ]
      }
     ],
     "prompt_number": 12
    },
    {
     "cell_type": "code",
     "collapsed": false,
     "input": [
      "r3 = CA184(r2,40,5,8)\n",
      "print r3"
     ],
     "language": "python",
     "metadata": {},
     "outputs": [
      {
       "output_type": "stream",
       "stream": "stdout",
       "text": [
        "[[17 18 19 21 36]\n",
        " [ 3  0  0  1  8]]\n"
       ]
      }
     ],
     "prompt_number": 13
    },
    {
     "cell_type": "code",
     "collapsed": false,
     "input": [
      "r4 = CA184(r3,40,5,8)\n",
      "print r4"
     ],
     "language": "python",
     "metadata": {},
     "outputs": [
      {
       "output_type": "stream",
       "stream": "stdout",
       "text": [
        "[[17 18 20 23  4]\n",
        " [ 0  0  1  2  8]]\n"
       ]
      }
     ],
     "prompt_number": 14
    },
    {
     "cell_type": "markdown",
     "metadata": {},
     "source": [
      "My CA184 function works properly as shown above for 3 consecutive time steps"
     ]
    },
    {
     "cell_type": "markdown",
     "metadata": {},
     "source": [
      "##STCA"
     ]
    },
    {
     "cell_type": "code",
     "collapsed": false,
     "input": [
      "def STCA(array,L,c,v_max,p):\n",
      "    \"\"\"Returns the new positions and velocities of c cars represented in the array on a lenght L road with max speed of v_max\n",
      "    and slowdown probability p according to STCA rulset.\"\"\"\n",
      "    for i in range(c):\n",
      "        if i<(c-1): #calculates g for all positions but last one in array\n",
      "            if array[0][i+1]>array[0][i]: #g if  car is not last one on road\n",
      "                g = array[0][i+1]-array[0][i]-1\n",
      "            else: #g if car is last one on road\n",
      "                g = (L-array[0][i])+(array[0][i+1]-1)\n",
      "        else: #calculates g for last position element in array\n",
      "            if array[0][1]>array[0][i]:\n",
      "                g = array[0][1]-array[0][i]-1\n",
      "            else:\n",
      "                g = (L-array[0][i])+(array[0][1]-1)\n",
      "        if g==0: #new v determined by following rules\n",
      "            array[1][i]=0\n",
      "        elif g>array[1][i] and array[1][i]<v_max:\n",
      "            array[1][i]=array[1][i]+1\n",
      "        elif g<array[1][i]:\n",
      "            array[1][i]=g\n",
      "        if random_sample(1)<p and array[1][i]>0:\n",
      "            array[1][i]=array[1][i]-1\n",
      "    for i in range(c): #moves all cars forwad by velocities\n",
      "        if array[0][i]+array[1][i]<=L: #if car is not looping around\n",
      "            array[0][i]=array[0][i]+array[1][i]\n",
      "        else: #if car is last on road and loops around\n",
      "            array[0][i]=array[1][i]-(L-array[0][i])\n",
      "    \n",
      "    return array    "
     ],
     "language": "python",
     "metadata": {},
     "outputs": [],
     "prompt_number": 15
    },
    {
     "cell_type": "code",
     "collapsed": false,
     "input": [
      "r1 = cars(5,40,7)\n",
      "print r1"
     ],
     "language": "python",
     "metadata": {},
     "outputs": [
      {
       "output_type": "stream",
       "stream": "stdout",
       "text": [
        "[[10 27 28 30 34]\n",
        " [ 4  1  6  2  1]]\n"
       ]
      }
     ],
     "prompt_number": 16
    },
    {
     "cell_type": "code",
     "collapsed": false,
     "input": [
      "r2 = STCA(r1,40,5,7,0)\n",
      "print r2"
     ],
     "language": "python",
     "metadata": {},
     "outputs": [
      {
       "output_type": "stream",
       "stream": "stdout",
       "text": [
        "[[15 27 29 33 36]\n",
        " [ 5  0  1  3  2]]\n"
       ]
      }
     ],
     "prompt_number": 17
    },
    {
     "cell_type": "code",
     "collapsed": false,
     "input": [
      "r3 = STCA(r2,40,5,7,0)\n",
      "print r3"
     ],
     "language": "python",
     "metadata": {},
     "outputs": [
      {
       "output_type": "stream",
       "stream": "stdout",
       "text": [
        "[[21 28 31 35 39]\n",
        " [ 6  1  2  2  3]]\n"
       ]
      }
     ],
     "prompt_number": 18
    },
    {
     "cell_type": "code",
     "collapsed": false,
     "input": [
      "r4 = STCA(r2,40,5,7,0.1)\n",
      "print r4"
     ],
     "language": "python",
     "metadata": {},
     "outputs": [
      {
       "output_type": "stream",
       "stream": "stdout",
       "text": [
        "[[27 30 34 38  3]\n",
        " [ 6  2  3  3  4]]\n"
       ]
      }
     ],
     "prompt_number": 19
    },
    {
     "cell_type": "markdown",
     "metadata": {},
     "source": [
      "STCA is working properly"
     ]
    },
    {
     "cell_type": "markdown",
     "metadata": {},
     "source": [
      "##ASEP"
     ]
    },
    {
     "cell_type": "code",
     "collapsed": false,
     "input": [
      "def ASEP(array,L,c,v_max):\n",
      "    \"\"\"Returns the new positions and velocities of c cars represented in the array on a lenght L road with max speed of v_max\n",
      "    according to ASEP rulset.\"\"\"\n",
      "    s = range(c)\n",
      "    random.shuffle(s)\n",
      "    for k in range(len(s)):\n",
      "        i = s[k]\n",
      "        if i<(c-1): #calculates g for all positions but last one in array\n",
      "            if array[0][i+1]>array[0][i]: #g if  car is not last one on road\n",
      "                g = array[0][i+1]-array[0][i]-1\n",
      "            else: #g if car is last one on road\n",
      "                g = (L-array[0][i])+(array[0][i+1]-1)\n",
      "        else: #calculates g for last position element in array\n",
      "            if array[0][1]>array[0][i]:\n",
      "                g = array[0][1]-array[0][i]-1\n",
      "            else:\n",
      "                g = (L-array[0][i])+(array[0][1]-1)\n",
      "        if g==0: #new v determined by following rules\n",
      "            array[1][i]=0\n",
      "        elif g>array[1][i] and array[1][i]<v_max:\n",
      "            array[1][i]=array[1][i]+1\n",
      "        elif g<array[1][i]:\n",
      "            array[1][i]=g\n",
      "        #Moves car forward by velocity\n",
      "        if array[0][i]+array[1][i]<=L: #if car is not looping around\n",
      "            array[0][i]=array[0][i]+array[1][i]\n",
      "        else: #if car is last on road and loops around\n",
      "            array[0][i]=array[1][i]-(L-array[0][i])\n",
      "    \n",
      "    return array"
     ],
     "language": "python",
     "metadata": {},
     "outputs": [],
     "prompt_number": 20
    },
    {
     "cell_type": "markdown",
     "metadata": {},
     "source": [
      "Test ASEP"
     ]
    },
    {
     "cell_type": "code",
     "collapsed": false,
     "input": [
      "r1=cars(5,40,8)\n",
      "print r1"
     ],
     "language": "python",
     "metadata": {},
     "outputs": [
      {
       "output_type": "stream",
       "stream": "stdout",
       "text": [
        "[[ 5 17 20 21 31]\n",
        " [ 2  6  1  2  3]]\n"
       ]
      }
     ],
     "prompt_number": 21
    },
    {
     "cell_type": "code",
     "collapsed": false,
     "input": [
      "r2=ASEP(r1,40,5,8)\n",
      "print r2"
     ],
     "language": "python",
     "metadata": {},
     "outputs": [
      {
       "output_type": "stream",
       "stream": "stdout",
       "text": [
        "[[ 8 19 22 24 35]\n",
        " [ 3  2  2  3  4]]\n"
       ]
      }
     ],
     "prompt_number": 22
    },
    {
     "cell_type": "code",
     "collapsed": false,
     "input": [
      "r3=ASEP(r2,40,5,8)\n",
      "print r3"
     ],
     "language": "python",
     "metadata": {},
     "outputs": [
      {
       "output_type": "stream",
       "stream": "stdout",
       "text": [
        "[[12 22 23 28 40]\n",
        " [ 4  3  1  4  5]]\n"
       ]
      }
     ],
     "prompt_number": 23
    },
    {
     "cell_type": "code",
     "collapsed": false,
     "input": [
      "r4 = ASEP(r3,40,5,8)\n",
      "print r4"
     ],
     "language": "python",
     "metadata": {},
     "outputs": [
      {
       "output_type": "stream",
       "stream": "stdout",
       "text": [
        "[[17 24 25 33  6]\n",
        " [ 5  2  2  5  6]]\n"
       ]
      }
     ],
     "prompt_number": 24
    },
    {
     "cell_type": "markdown",
     "metadata": {},
     "source": [
      "ASEP function works properly"
     ]
    },
    {
     "cell_type": "code",
     "collapsed": false,
     "input": [
      "def traffic(model,L,c,v_max,p,N):\n",
      "    r=cars(c,L,v_max)\n",
      "    if model=='STCA':\n",
      "        v_ave=np.zeros(N)\n",
      "        pos_ave=np.zeros(N)\n",
      "        for h in range(N):\n",
      "            r=STCA(r,L,c,v_max,p)\n",
      "            v=0\n",
      "            pos=0\n",
      "            for j in range(c):\n",
      "                v = v + r[1][j]\n",
      "                pos = pos + r[0][j]\n",
      "            v_ave[h]=(v/c)\n",
      "            pos_ave[h]=(pos/c)\n",
      "        return v_ave, pos_ave\n",
      "    if model=='ASEP':\n",
      "        v_ave=np.zeros(N)\n",
      "        pos_ave=np.zeros(N)\n",
      "        for h in range(N):\n",
      "            r=ASEP(r,L,c,v_max)\n",
      "            v=0\n",
      "            pos=0\n",
      "            for j in range(c):\n",
      "                v = v + r[1][j]\n",
      "                pos = pos + r[0][j]\n",
      "            v_ave[h]=(v/c)\n",
      "            pos_ave[h]=(pos/c)\n",
      "        return v_ave, pos_ave"
     ],
     "language": "python",
     "metadata": {},
     "outputs": [],
     "prompt_number": 25
    },
    {
     "cell_type": "markdown",
     "metadata": {},
     "source": [
      "##Plot Current vs time and position vs time for STCA"
     ]
    },
    {
     "cell_type": "markdown",
     "metadata": {},
     "source": [
      "###Road length=40, number of cars=10, max speed of 7, slowdown prob=0.02, and 200 time steps"
     ]
    },
    {
     "cell_type": "code",
     "collapsed": false,
     "input": [
      "q=traffic('STCA',40,10,7,0.02,200)\n",
      "density=10./40.\n",
      "current1=q[0]*density"
     ],
     "language": "python",
     "metadata": {},
     "outputs": [],
     "prompt_number": 40
    },
    {
     "cell_type": "code",
     "collapsed": false,
     "input": [
      "plot(arange(200), current1,'b.', markersize=5,label='Current vs Time')\n",
      "xlabel('Time steps', fontsize=20)\n",
      "ylabel('Current',fontsize=20)\n",
      "legend(loc=0)\n",
      "show()"
     ],
     "language": "python",
     "metadata": {},
     "outputs": [
      {
       "output_type": "display_data",
       "png": "[encoded data removed]"
      }
     ],
     "prompt_number": 48
    },
    {
     "cell_type": "code",
     "collapsed": false,
     "input": [
      "plot(arange(200),q[1],'b.', markersize=5,label='Positon vs Time')\n",
      "xlabel('Time steps', fontsize=20)\n",
      "ylabel('Average Positon', fontsize=20)\n",
      "legend(loc=0)\n",
      "show()"
     ],
     "language": "python",
     "metadata": {},
     "outputs": [
      {
       "output_type": "display_data",
       "png": "[encoded data removed]"
      }
     ],
     "prompt_number": 49
    },
    {
     "cell_type": "markdown",
     "metadata": {},
     "source": [
      "##Plot Current vs time and positon vs time for ASEP"
     ]
    },
    {
     "cell_type": "markdown",
     "metadata": {},
     "source": [
      "###Road length=40, number of cars=10, max speed of 7, slowdown prob=0.02, and 200 time steps"
     ]
    },
    {
     "cell_type": "code",
     "collapsed": false,
     "input": [
      "u=traffic('ASEP',40,10,7,0.02,200)\n",
      "density=10./40.\n",
      "current2=u[0]*density"
     ],
     "language": "python",
     "metadata": {},
     "outputs": [],
     "prompt_number": 50
    },
    {
     "cell_type": "code",
     "collapsed": false,
     "input": [
      "plot(arange(200),current2,'b.',markersize=5, label='Current vs Time')\n",
      "xlabel('Time steps', fontsize=20)\n",
      "ylabel('Current',fontsize=20)\n",
      "legend(loc=0)\n",
      "show()"
     ],
     "language": "python",
     "metadata": {},
     "outputs": [
      {
       "output_type": "display_data",
       "png": "[encoded data removed]"
      }
     ],
     "prompt_number": 51
    },
    {
     "cell_type": "code",
     "collapsed": false,
     "input": [
      "plot(arange(200),u[1],'b.',markersize=5, label='Positon vs Time')\n",
      "xlabel('Time steps', fontsize=20)\n",
      "ylabel('Average Positon', fontsize=20)\n",
      "legend(loc=0)\n",
      "show()"
     ],
     "language": "python",
     "metadata": {},
     "outputs": [
      {
       "output_type": "display_data",
       "png": "[encoded data removed]"
      }
     ],
     "prompt_number": 52
    },
    {
     "cell_type": "code",
     "collapsed": false,
     "input": [],
     "language": "python",
     "metadata": {},
     "outputs": [],
     "prompt_number": 31
    }
   ],
   "metadata": {}
  }
 ]
}