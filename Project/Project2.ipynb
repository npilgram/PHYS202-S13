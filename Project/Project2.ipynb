{
 "metadata": {
  "name": "Project2"
 },
 "nbformat": 3,
 "nbformat_minor": 0,
 "worksheets": [
  {
   "cells": [
    {
     "cell_type": "markdown",
     "metadata": {},
     "source": [
      "Project 2: One-Dimensional Traffic Flows\n",
      "==="
     ]
    },
    {
     "cell_type": "code",
     "collapsed": false,
     "input": [
      "r = range(40)\n",
      "random.shuffle(r)\n",
      "print r\n",
      "x=r[:5]\n",
      "        \n",
      "print x"
     ],
     "language": "python",
     "metadata": {},
     "outputs": []
    },
    {
     "cell_type": "code",
     "collapsed": false,
     "input": [
      "r = range(40)\n",
      "print r\n",
      "random.shuffle(r)\n",
      "print r"
     ],
     "language": "python",
     "metadata": {},
     "outputs": []
    },
    {
     "cell_type": "code",
     "collapsed": false,
     "input": [
      "x=sort(x)\n",
      "print x"
     ],
     "language": "python",
     "metadata": {},
     "outputs": []
    },
    {
     "cell_type": "code",
     "collapsed": false,
     "input": [
      "v=zeros(5,dtype=int)\n",
      "for i in range(5):\n",
      "    v[i]=randint(0,15)\n",
      "\n",
      "print v"
     ],
     "language": "python",
     "metadata": {},
     "outputs": []
    },
    {
     "cell_type": "code",
     "collapsed": false,
     "input": [
      "array = np.array([x,v])\n",
      "print array"
     ],
     "language": "python",
     "metadata": {},
     "outputs": []
    },
    {
     "cell_type": "code",
     "collapsed": false,
     "input": [
      "print array[0][2]"
     ],
     "language": "python",
     "metadata": {},
     "outputs": []
    },
    {
     "cell_type": "code",
     "collapsed": false,
     "input": [
      "def cars(c,L,v_max):\n",
      "    \"\"\"Returns a position and velocity array for c cars on a length L road with a max velocity of v_max\"\"\"\n",
      "    r = range(L)\n",
      "    random.shuffle(r)\n",
      "    x=r[:c]\n",
      "    x=sort(x)\n",
      "    \n",
      "    v=zeros(c,dtype=int)\n",
      "    for i in range(c):\n",
      "        v[i]=randint(0,v_max)\n",
      "    \n",
      "    array = np.array([x,v])\n",
      "    return array"
     ],
     "language": "python",
     "metadata": {},
     "outputs": []
    },
    {
     "cell_type": "code",
     "collapsed": false,
     "input": [
      "print cars(5,40,5)"
     ],
     "language": "python",
     "metadata": {},
     "outputs": []
    },
    {
     "cell_type": "code",
     "collapsed": false,
     "input": [
      "def CA184(array,L,c,v_max):\n",
      "    \"\"\"Returns the new positions and velocities of c cars represented in the array on a lenght L road with max speed of v_max\n",
      "    according to CA184 rulset.\"\"\"\n",
      "    for i in range(c):\n",
      "        if i<(c-1): #calculates g for all positions but last one in array\n",
      "            if array[0][i+1]>array[0][i]: #g if  car is not last one on road\n",
      "                g = array[0][i+1]-array[0][i]-1\n",
      "            else: #g if car is last one on road\n",
      "                g = (L-array[0][i])+(array[0][i+1]-1)\n",
      "        else: #calculates g for last position element in array\n",
      "            if array[0][1]>array[0][i]:\n",
      "                g = array[0][1]-array[0][i]-1\n",
      "            else:\n",
      "                g = (L-array[0][i])+(array[0][1]-1)\n",
      "        if g==0: #new v determined by following rules\n",
      "            array[1][i]=0\n",
      "        elif g>array[1][i] and array[1][i]<v_max:\n",
      "            array[1][i]=array[1][i]+1\n",
      "        elif g<array[1][i]:\n",
      "            array[1][i]=g\n",
      "    \n",
      "    for i in range(c): #moves all cars forwad by velocities\n",
      "        if array[0][i]+array[1][i]<=L: #if car is not looping around\n",
      "            array[0][i]=array[0][i]+array[1][i]\n",
      "        else: #if car is last on road and loops around\n",
      "            array[0][i]=array[1][i]-(L-array[0][i])\n",
      "    \n",
      "    return array    "
     ],
     "language": "python",
     "metadata": {},
     "outputs": []
    },
    {
     "cell_type": "code",
     "collapsed": false,
     "input": [
      "r1 = cars(5,40,8)\n",
      "print r1"
     ],
     "language": "python",
     "metadata": {},
     "outputs": []
    },
    {
     "cell_type": "code",
     "collapsed": false,
     "input": [
      "r2 = CA184(r1,40,5,8)\n",
      "print r2"
     ],
     "language": "python",
     "metadata": {},
     "outputs": []
    },
    {
     "cell_type": "code",
     "collapsed": false,
     "input": [
      "r3 = CA184(r2,40,5,8)\n",
      "print r3"
     ],
     "language": "python",
     "metadata": {},
     "outputs": []
    },
    {
     "cell_type": "code",
     "collapsed": false,
     "input": [
      "r4 = CA184(r3,40,5,8)\n",
      "print r4"
     ],
     "language": "python",
     "metadata": {},
     "outputs": []
    },
    {
     "cell_type": "markdown",
     "metadata": {},
     "source": [
      "My CA184 function works properly as shown above for 3 consecutive time steps"
     ]
    },
    {
     "cell_type": "markdown",
     "metadata": {},
     "source": [
      "##STCA"
     ]
    },
    {
     "cell_type": "code",
     "collapsed": false,
     "input": [
      "def STCA(array,L,c,v_max,p):\n",
      "    \"\"\"Returns the new positions and velocities of c cars represented in the array on a lenght L road with max speed of v_max\n",
      "    and slowdown probability p according to STCA rulset.\"\"\"\n",
      "    for i in range(c):\n",
      "        if i<(c-1): #calculates g for all positions but last one in array\n",
      "            if array[0][i+1]>array[0][i]: #g if  car is not last one on road\n",
      "                g = array[0][i+1]-array[0][i]-1\n",
      "            else: #g if car is last one on road\n",
      "                g = (L-array[0][i])+(array[0][i+1]-1)\n",
      "        else: #calculates g for last position element in array\n",
      "            if array[0][1]>array[0][i]:\n",
      "                g = array[0][1]-array[0][i]-1\n",
      "            else:\n",
      "                g = (L-array[0][i])+(array[0][1]-1)\n",
      "        if g==0: #new v determined by following rules\n",
      "            array[1][i]=0\n",
      "        elif g>array[1][i] and array[1][i]<v_max:\n",
      "            array[1][i]=array[1][i]+1\n",
      "        elif g<array[1][i]:\n",
      "            array[1][i]=g\n",
      "        if random_sample(1)<p and array[1][i]>0:\n",
      "            array[1][i]=array[1][i]-1\n",
      "    for i in range(c): #moves all cars forwad by velocities\n",
      "        if array[0][i]+array[1][i]<=L: #if car is not looping around\n",
      "            array[0][i]=array[0][i]+array[1][i]\n",
      "        else: #if car is last on road and loops around\n",
      "            array[0][i]=array[1][i]-(L-array[0][i])\n",
      "    \n",
      "    return array    "
     ],
     "language": "python",
     "metadata": {},
     "outputs": []
    },
    {
     "cell_type": "code",
     "collapsed": false,
     "input": [
      "r1 = cars(5,40,7)\n",
      "print r1"
     ],
     "language": "python",
     "metadata": {},
     "outputs": []
    },
    {
     "cell_type": "code",
     "collapsed": false,
     "input": [
      "r2 = STCA(r1,40,5,7,0)\n",
      "print r2"
     ],
     "language": "python",
     "metadata": {},
     "outputs": []
    },
    {
     "cell_type": "code",
     "collapsed": false,
     "input": [
      "r3 = STCA(r2,40,5,7,0)\n",
      "print r3"
     ],
     "language": "python",
     "metadata": {},
     "outputs": []
    },
    {
     "cell_type": "code",
     "collapsed": false,
     "input": [
      "r4 = STCA(r2,40,5,7,0.1)\n",
      "print r4"
     ],
     "language": "python",
     "metadata": {},
     "outputs": []
    },
    {
     "cell_type": "markdown",
     "metadata": {},
     "source": [
      "STCA is working properly"
     ]
    },
    {
     "cell_type": "markdown",
     "metadata": {},
     "source": [
      "##ASEP"
     ]
    },
    {
     "cell_type": "code",
     "collapsed": false,
     "input": [
      "def ASEP(array,L,c,v_max):\n",
      "    \"\"\"Returns the new positions and velocities of c cars represented in the array on a lenght L road with max speed of v_max\n",
      "    according to ASEP rulset.\"\"\"\n",
      "    s = range(c)\n",
      "    random.shuffle(s)\n",
      "    for k in range(len(s)):\n",
      "        i = s[k]\n",
      "        if i<(c-1): #calculates g for all positions but last one in array\n",
      "            if array[0][i+1]>array[0][i]: #g if  car is not last one on road\n",
      "                g = array[0][i+1]-array[0][i]-1\n",
      "            else: #g if car is last one on road\n",
      "                g = (L-array[0][i])+(array[0][i+1]-1)\n",
      "        else: #calculates g for last position element in array\n",
      "            if array[0][1]>array[0][i]:\n",
      "                g = array[0][1]-array[0][i]-1\n",
      "            else:\n",
      "                g = (L-array[0][i])+(array[0][1]-1)\n",
      "        if g==0: #new v determined by following rules\n",
      "            array[1][i]=0\n",
      "        elif g>array[1][i] and array[1][i]<v_max:\n",
      "            array[1][i]=array[1][i]+1\n",
      "        elif g<array[1][i]:\n",
      "            array[1][i]=g\n",
      "        #Moves car forward by velocity\n",
      "        if array[0][i]+array[1][i]<=L: #if car is not looping around\n",
      "            array[0][i]=array[0][i]+array[1][i]\n",
      "        else: #if car is last on road and loops around\n",
      "            array[0][i]=array[1][i]-(L-array[0][i])\n",
      "    \n",
      "    return array"
     ],
     "language": "python",
     "metadata": {},
     "outputs": []
    },
    {
     "cell_type": "markdown",
     "metadata": {},
     "source": [
      "Test ASEP"
     ]
    },
    {
     "cell_type": "code",
     "collapsed": false,
     "input": [
      "r1=cars(5,40,8)\n",
      "print r1"
     ],
     "language": "python",
     "metadata": {},
     "outputs": []
    },
    {
     "cell_type": "code",
     "collapsed": false,
     "input": [
      "r2=ASEP(r1,40,5,8)\n",
      "print r2"
     ],
     "language": "python",
     "metadata": {},
     "outputs": []
    },
    {
     "cell_type": "code",
     "collapsed": false,
     "input": [
      "r3=ASEP(r2,40,5,8)\n",
      "print r3"
     ],
     "language": "python",
     "metadata": {},
     "outputs": []
    },
    {
     "cell_type": "code",
     "collapsed": false,
     "input": [
      "r4 = ASEP(r3,40,5,8)\n",
      "print r4"
     ],
     "language": "python",
     "metadata": {},
     "outputs": []
    },
    {
     "cell_type": "markdown",
     "metadata": {},
     "source": [
      "ASEP function works properly"
     ]
    },
    {
     "cell_type": "code",
     "collapsed": false,
     "input": [
      "def traffic(model,L,c,v_max,p,N):\n",
      "    \"\"\"Returns the average velocity and average position of c cars on a lenghth L road with max velocity v_max and\n",
      "    slowdown probability p for N time steps accoding to the model STCA or ASEP rulset.\"\"\"\n",
      "    r=cars(c,L,v_max)\n",
      "    if model=='STCA':\n",
      "        v_ave=np.zeros(N)\n",
      "        pos_ave=np.zeros(N)\n",
      "        for h in range(N):\n",
      "            r=STCA(r,L,c,v_max,p)\n",
      "            v=0\n",
      "            pos=0\n",
      "            for j in range(c):\n",
      "                v = v + r[1][j]\n",
      "                pos = pos + r[0][j]\n",
      "            v_ave[h]=(v/c)\n",
      "            pos_ave[h]=(pos/c)\n",
      "        return v_ave, pos_ave\n",
      "    if model=='ASEP':\n",
      "        v_ave=np.zeros(N)\n",
      "        pos_ave=np.zeros(N)\n",
      "        for h in range(N):\n",
      "            r=ASEP(r,L,c,v_max)\n",
      "            v=0\n",
      "            pos=0\n",
      "            for j in range(c):\n",
      "                v = v + r[1][j]\n",
      "                pos = pos + r[0][j]\n",
      "            v_ave[h]=(v/c)\n",
      "            pos_ave[h]=(pos/c)\n",
      "        return v_ave, pos_ave"
     ],
     "language": "python",
     "metadata": {},
     "outputs": []
    },
    {
     "cell_type": "markdown",
     "metadata": {},
     "source": [
      "##Plot Current vs time and position vs time for STCA"
     ]
    },
    {
     "cell_type": "markdown",
     "metadata": {},
     "source": [
      "###Road length=40, number of cars=10, max speed of 7, slowdown prob=0.02, and 200 time steps"
     ]
    },
    {
     "cell_type": "code",
     "collapsed": false,
     "input": [
      "q=traffic('STCA',40,10,7,0.02,200)\n",
      "density=10./40.\n",
      "current1=q[0]*density"
     ],
     "language": "python",
     "metadata": {},
     "outputs": []
    },
    {
     "cell_type": "code",
     "collapsed": false,
     "input": [
      "plot(arange(200), current1,'b.', markersize=5,label='Current vs Time')\n",
      "xlabel('Time steps', fontsize=20)\n",
      "ylabel('Current',fontsize=20)\n",
      "legend(loc=0)\n",
      "show()"
     ],
     "language": "python",
     "metadata": {},
     "outputs": []
    },
    {
     "cell_type": "code",
     "collapsed": false,
     "input": [
      "plot(arange(200),q[1],'b.', markersize=5,label='Positon vs Time')\n",
      "xlabel('Time steps', fontsize=20)\n",
      "ylabel('Average Positon', fontsize=20)\n",
      "legend(loc=0)\n",
      "show()"
     ],
     "language": "python",
     "metadata": {},
     "outputs": []
    },
    {
     "cell_type": "markdown",
     "metadata": {},
     "source": [
      "##Plot Current vs time and positon vs time for ASEP"
     ]
    },
    {
     "cell_type": "markdown",
     "metadata": {},
     "source": [
      "###Road length=40, number of cars=10, max speed of 7, slowdown prob=0.02, and 200 time steps"
     ]
    },
    {
     "cell_type": "code",
     "collapsed": false,
     "input": [
      "u=traffic('ASEP',40,10,7,0.02,200)\n",
      "density=10./40.\n",
      "current2=u[0]*density"
     ],
     "language": "python",
     "metadata": {},
     "outputs": []
    },
    {
     "cell_type": "code",
     "collapsed": false,
     "input": [
      "plot(arange(200),current2,'b.',markersize=5, label='Current vs Time')\n",
      "xlabel('Time steps', fontsize=20)\n",
      "ylabel('Current',fontsize=20)\n",
      "legend(loc=0)\n",
      "show()"
     ],
     "language": "python",
     "metadata": {},
     "outputs": []
    },
    {
     "cell_type": "code",
     "collapsed": false,
     "input": [
      "plot(arange(200),u[1],'b.',markersize=5, label='Positon vs Time')\n",
      "xlabel('Time steps', fontsize=20)\n",
      "ylabel('Average Positon', fontsize=20)\n",
      "legend(loc=0)\n",
      "show()"
     ],
     "language": "python",
     "metadata": {},
     "outputs": []
    },
    {
     "cell_type": "markdown",
     "metadata": {},
     "source": [
      "Average Velocity vs Density Plot\n",
      "--"
     ]
    },
    {
     "cell_type": "markdown",
     "metadata": {},
     "source": [
      "##STCA"
     ]
    },
    {
     "cell_type": "code",
     "collapsed": false,
     "input": [
      "d1 = arange(1,81)\n",
      "\n",
      "vave_ave1 = np.zeros(len(d))\n",
      "for i in range(10,810,10):\n",
      "    vave1 = traffic('STCA',1000,i,50,0.05,150)[0]\n",
      "    vave_ave1[i/10.-1] = np.sum(vave1)/len(vave1)\n",
      "print vave_ave1"
     ],
     "language": "python",
     "metadata": {},
     "outputs": [
      {
       "output_type": "stream",
       "stream": "stdout",
       "text": [
        "[  4.30866667e+01   3.94800000e+01   2.62533333e+01   2.07400000e+01\n",
        "   1.56133333e+01   1.33600000e+01   1.12733333e+01   9.86666667e+00\n",
        "   8.24666667e+00   7.50666667e+00   6.73333333e+00   5.88000000e+00\n",
        "   5.58000000e+00   4.91333333e+00   4.64666667e+00   3.93333333e+00\n",
        "   3.93333333e+00   3.92666667e+00   3.00666667e+00   2.97333333e+00\n",
        "   2.96000000e+00   2.94666667e+00   2.74666667e+00   1.98000000e+00\n",
        "   1.98666667e+00   1.98666667e+00   1.98000000e+00   1.97333333e+00\n",
        "   1.97333333e+00   1.96000000e+00   1.58000000e+00   1.03333333e+00\n",
        "   1.00000000e+00   1.00000000e+00   1.00000000e+00   1.00000000e+00\n",
        "   1.00000000e+00   9.93333333e-01   9.93333333e-01   9.93333333e-01\n",
        "   9.93333333e-01   9.93333333e-01   9.86666667e-01   9.86666667e-01\n",
        "   9.86666667e-01   9.86666667e-01   9.26666667e-01   4.33333333e-01\n",
        "   6.66666667e-03   0.00000000e+00   0.00000000e+00   0.00000000e+00\n",
        "   0.00000000e+00   0.00000000e+00   0.00000000e+00   0.00000000e+00\n",
        "   0.00000000e+00   0.00000000e+00   0.00000000e+00   0.00000000e+00\n",
        "   0.00000000e+00   0.00000000e+00   0.00000000e+00   0.00000000e+00\n",
        "   0.00000000e+00   0.00000000e+00   0.00000000e+00   0.00000000e+00\n",
        "   0.00000000e+00   0.00000000e+00   0.00000000e+00   0.00000000e+00\n",
        "   0.00000000e+00   0.00000000e+00   0.00000000e+00   0.00000000e+00\n",
        "   0.00000000e+00   0.00000000e+00   0.00000000e+00   0.00000000e+00]\n"
       ]
      }
     ],
     "prompt_number": 50
    },
    {
     "cell_type": "code",
     "collapsed": false,
     "input": [
      "plot(d1,vave_ave1)\n",
      "show()"
     ],
     "language": "python",
     "metadata": {},
     "outputs": [
      {
       "output_type": "display_data",
       "png": "[encoded data removed]"
      }
     ],
     "prompt_number": 51
    },
    {
     "cell_type": "markdown",
     "metadata": {},
     "source": [
      "##ASEP"
     ]
    },
    {
     "cell_type": "code",
     "collapsed": false,
     "input": [
      "d2 = arange(1,81)\n",
      "\n",
      "vave_ave2 = np.zeros(len(d))\n",
      "for i in range(10,810,10):\n",
      "    vave2 = traffic('ASEP',1000,i,50,0.05,150)[0]\n",
      "    vave_ave2[i/10.-1] = np.sum(vave2)/len(vave2)"
     ],
     "language": "python",
     "metadata": {},
     "outputs": [],
     "prompt_number": 54
    },
    {
     "cell_type": "code",
     "collapsed": false,
     "input": [
      "plot(d2,vave_ave2)\n",
      "show()"
     ],
     "language": "python",
     "metadata": {},
     "outputs": [
      {
       "output_type": "display_data",
       "png": "[encoded data removed]"
      }
     ],
     "prompt_number": 55
    },
    {
     "cell_type": "code",
     "collapsed": false,
     "input": [],
     "language": "python",
     "metadata": {},
     "outputs": []
    }
   ],
   "metadata": {}
  }
 ]
}