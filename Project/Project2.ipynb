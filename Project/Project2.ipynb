{
 "metadata": {
  "name": "Project2"
 },
 "nbformat": 3,
 "nbformat_minor": 0,
 "worksheets": [
  {
   "cells": [
    {
     "cell_type": "markdown",
     "metadata": {},
     "source": [
      "Project 2: One-Dimensional Traffic Flows\n",
      "==="
     ]
    },
    {
     "cell_type": "code",
     "collapsed": false,
     "input": [
      "r = range(40)\n",
      "random.shuffle(r)\n",
      "print r\n",
      "x=r[:5]\n",
      "        \n",
      "print x"
     ],
     "language": "python",
     "metadata": {},
     "outputs": [
      {
       "output_type": "stream",
       "stream": "stdout",
       "text": [
        "[31, 27, 4, 1, 5, 24, 15, 14, 23, 18, 17, 32, 28, 10, 0, 38, 25, 12, 34, 30, 19, 13, 2, 21, 20, 3, 9, 6, 11, 35, 26, 33, 8, 16, 22, 36, 29, 7, 37, 39]\n",
        "[31, 27, 4, 1, 5]\n"
       ]
      }
     ],
     "prompt_number": 3
    },
    {
     "cell_type": "code",
     "collapsed": false,
     "input": [
      "r = range(40)\n",
      "print r\n",
      "random.shuffle(r)\n",
      "print r"
     ],
     "language": "python",
     "metadata": {},
     "outputs": [
      {
       "output_type": "stream",
       "stream": "stdout",
       "text": [
        "[0, 1, 2, 3, 4, 5, 6, 7, 8, 9, 10, 11, 12, 13, 14, 15, 16, 17, 18, 19, 20, 21, 22, 23, 24, 25, 26, 27, 28, 29, 30, 31, 32, 33, 34, 35, 36, 37, 38, 39]\n",
        "[9, 36, 24, 2, 25, 38, 11, 34, 4, 12, 3, 32, 10, 20, 6, 30, 15, 0, 37, 23, 26, 19, 17, 13, 5, 18, 29, 31, 14, 21, 28, 1, 39, 33, 8, 16, 35, 22, 27, 7]\n"
       ]
      }
     ],
     "prompt_number": 4
    },
    {
     "cell_type": "code",
     "collapsed": false,
     "input": [
      "x=sort(x)\n",
      "print x"
     ],
     "language": "python",
     "metadata": {},
     "outputs": [
      {
       "output_type": "stream",
       "stream": "stdout",
       "text": [
        "[ 1  4  5 27 31]\n"
       ]
      }
     ],
     "prompt_number": 5
    },
    {
     "cell_type": "code",
     "collapsed": false,
     "input": [
      "v=zeros(5,dtype=int)\n",
      "for i in range(5):\n",
      "    v[i]=randint(0,15)\n",
      "\n",
      "print v"
     ],
     "language": "python",
     "metadata": {},
     "outputs": [
      {
       "output_type": "stream",
       "stream": "stdout",
       "text": [
        "[4 0 9 8 5]\n"
       ]
      }
     ],
     "prompt_number": 6
    },
    {
     "cell_type": "code",
     "collapsed": false,
     "input": [
      "array = np.array([x,v])\n",
      "print array"
     ],
     "language": "python",
     "metadata": {},
     "outputs": [
      {
       "output_type": "stream",
       "stream": "stdout",
       "text": [
        "[[ 1  4  5 27 31]\n",
        " [ 4  0  9  8  5]]\n"
       ]
      }
     ],
     "prompt_number": 7
    },
    {
     "cell_type": "code",
     "collapsed": false,
     "input": [
      "print array[0][2]"
     ],
     "language": "python",
     "metadata": {},
     "outputs": [
      {
       "output_type": "stream",
       "stream": "stdout",
       "text": [
        "5\n"
       ]
      }
     ],
     "prompt_number": 8
    },
    {
     "cell_type": "code",
     "collapsed": false,
     "input": [
      "def cars(c,L,v_max):\n",
      "    \"\"\"Returns a position and velocity array for c cars on a length L road with a max velocity of v_max\"\"\"\n",
      "    r = range(L)\n",
      "    random.shuffle(r)\n",
      "    x=r[:c]\n",
      "    x=sort(x)\n",
      "    \n",
      "    v=zeros(c,dtype=int)\n",
      "    for i in range(c):\n",
      "        v[i]=randint(0,v_max)\n",
      "    \n",
      "    array = np.array([x,v])\n",
      "    return array"
     ],
     "language": "python",
     "metadata": {},
     "outputs": [],
     "prompt_number": 9
    },
    {
     "cell_type": "code",
     "collapsed": false,
     "input": [
      "print cars(5,40,5)"
     ],
     "language": "python",
     "metadata": {},
     "outputs": [
      {
       "output_type": "stream",
       "stream": "stdout",
       "text": [
        "[[11 17 18 19 28]\n",
        " [ 0  0  2  1  2]]\n"
       ]
      }
     ],
     "prompt_number": 10
    },
    {
     "cell_type": "code",
     "collapsed": false,
     "input": [
      "def CA184(array,L,c,v_max):\n",
      "    \"\"\"Returns the new positions and velocities of c cars represented in the array on a lenght L road with max speed of v_max\n",
      "    according to CA184 rulset.\"\"\"\n",
      "    for i in range(c):\n",
      "        if i<(c-1): #calculates g for all positions but last one in array\n",
      "            if array[0][i+1]>array[0][i]: #g if  car is not last one on road\n",
      "                g = array[0][i+1]-array[0][i]-1\n",
      "            else: #g if car is last one on road\n",
      "                g = (L-array[0][i])+(array[0][i+1]-1)\n",
      "        else: #calculates g for last position element in array\n",
      "            if array[0][1]>array[0][i]:\n",
      "                g = array[0][1]-array[0][i]-1\n",
      "            else:\n",
      "                g = (L-array[0][i])+(array[0][1]-1)\n",
      "        if g==0: #new v determined by following rules\n",
      "            array[1][i]=0\n",
      "        elif g>array[1][i] and array[1][i]<v_max:\n",
      "            array[1][i]=array[1][i]+1\n",
      "        elif g<array[1][i]:\n",
      "            array[1][i]=g\n",
      "    \n",
      "    for i in range(c): #moves all cars forwad by velocities\n",
      "        if array[0][i]+array[1][i]<=L: #if car is not looping around\n",
      "            array[0][i]=array[0][i]+array[1][i]\n",
      "        else: #if car is last on road and loops around\n",
      "            array[0][i]=array[1][i]-(L-array[0][i])\n",
      "    \n",
      "    return array    "
     ],
     "language": "python",
     "metadata": {},
     "outputs": [],
     "prompt_number": 11
    },
    {
     "cell_type": "code",
     "collapsed": false,
     "input": [
      "r1 = cars(5,40,8)\n",
      "print r1"
     ],
     "language": "python",
     "metadata": {},
     "outputs": [
      {
       "output_type": "stream",
       "stream": "stdout",
       "text": [
        "[[13 19 24 25 37]\n",
        " [ 3  0  1  5  1]]\n"
       ]
      }
     ],
     "prompt_number": 12
    },
    {
     "cell_type": "code",
     "collapsed": false,
     "input": [
      "r2 = CA184(r1,40,5,8)\n",
      "print r2"
     ],
     "language": "python",
     "metadata": {},
     "outputs": [
      {
       "output_type": "stream",
       "stream": "stdout",
       "text": [
        "[[17 20 24 31 39]\n",
        " [ 4  1  0  6  2]]\n"
       ]
      }
     ],
     "prompt_number": 13
    },
    {
     "cell_type": "code",
     "collapsed": false,
     "input": [
      "r3 = CA184(r2,40,5,8)\n",
      "print r3"
     ],
     "language": "python",
     "metadata": {},
     "outputs": [
      {
       "output_type": "stream",
       "stream": "stdout",
       "text": [
        "[[19 22 25 38  2]\n",
        " [ 2  2  1  7  3]]\n"
       ]
      }
     ],
     "prompt_number": 14
    },
    {
     "cell_type": "code",
     "collapsed": false,
     "input": [
      "r4 = CA184(r3,40,5,8)\n",
      "print r4"
     ],
     "language": "python",
     "metadata": {},
     "outputs": [
      {
       "output_type": "stream",
       "stream": "stdout",
       "text": [
        "[[21 24 27  1  6]\n",
        " [ 2  2  2  3  4]]\n"
       ]
      }
     ],
     "prompt_number": 15
    },
    {
     "cell_type": "markdown",
     "metadata": {},
     "source": [
      "My CA184 function works properly as shown above for 3 consecutive time steps"
     ]
    },
    {
     "cell_type": "markdown",
     "metadata": {},
     "source": [
      "##STCA"
     ]
    },
    {
     "cell_type": "code",
     "collapsed": false,
     "input": [
      "def STCA(array,L,c,v_max,p):\n",
      "    \"\"\"Returns the new positions and velocities of c cars represented in the array on a lenght L road with max speed of v_max\n",
      "    and slowdown probability p according to STCA rulset.\"\"\"\n",
      "    for i in range(c):\n",
      "        if i<(c-1): #calculates g for all positions but last one in array\n",
      "            if array[0][i+1]>array[0][i]: #g if  car is not last one on road\n",
      "                g = array[0][i+1]-array[0][i]-1\n",
      "            else: #g if car is last one on road\n",
      "                g = (L-array[0][i])+(array[0][i+1]-1)\n",
      "        else: #calculates g for last position element in array\n",
      "            if array[0][1]>array[0][i]:\n",
      "                g = array[0][1]-array[0][i]-1\n",
      "            else:\n",
      "                g = (L-array[0][i])+(array[0][1]-1)\n",
      "        if g==0: #new v determined by following rules\n",
      "            array[1][i]=0\n",
      "        elif g>array[1][i] and array[1][i]<v_max:\n",
      "            array[1][i]=array[1][i]+1\n",
      "        elif g<array[1][i]:\n",
      "            array[1][i]=g\n",
      "        if random_sample(1)<p and array[1][i]>0:\n",
      "            array[1][i]=array[1][i]-1\n",
      "    for i in range(c): #moves all cars forwad by velocities\n",
      "        if array[0][i]+array[1][i]<=L: #if car is not looping around\n",
      "            array[0][i]=array[0][i]+array[1][i]\n",
      "        else: #if car is last on road and loops around\n",
      "            array[0][i]=array[1][i]-(L-array[0][i])\n",
      "    \n",
      "    return array    "
     ],
     "language": "python",
     "metadata": {},
     "outputs": [],
     "prompt_number": 16
    },
    {
     "cell_type": "code",
     "collapsed": false,
     "input": [
      "r1 = cars(5,40,7)\n",
      "print r1"
     ],
     "language": "python",
     "metadata": {},
     "outputs": [
      {
       "output_type": "stream",
       "stream": "stdout",
       "text": [
        "[[11 13 19 30 34]\n",
        " [ 6  6  4  3  3]]\n"
       ]
      }
     ],
     "prompt_number": 17
    },
    {
     "cell_type": "code",
     "collapsed": false,
     "input": [
      "r2 = STCA(r1,40,5,7,0)\n",
      "print r2"
     ],
     "language": "python",
     "metadata": {},
     "outputs": [
      {
       "output_type": "stream",
       "stream": "stdout",
       "text": [
        "[[12 18 24 33 38]\n",
        " [ 1  5  5  3  4]]\n"
       ]
      }
     ],
     "prompt_number": 18
    },
    {
     "cell_type": "code",
     "collapsed": false,
     "input": [
      "r3 = STCA(r2,40,5,7,0)\n",
      "print r3"
     ],
     "language": "python",
     "metadata": {},
     "outputs": [
      {
       "output_type": "stream",
       "stream": "stdout",
       "text": [
        "[[14 23 30 37  3]\n",
        " [ 2  5  6  4  5]]\n"
       ]
      }
     ],
     "prompt_number": 19
    },
    {
     "cell_type": "code",
     "collapsed": false,
     "input": [
      "r4 = STCA(r2,40,5,7,0.1)\n",
      "print r4"
     ],
     "language": "python",
     "metadata": {},
     "outputs": [
      {
       "output_type": "stream",
       "stream": "stdout",
       "text": [
        "[[17 29 36  1  9]\n",
        " [ 3  6  6  4  6]]\n"
       ]
      }
     ],
     "prompt_number": 20
    },
    {
     "cell_type": "markdown",
     "metadata": {},
     "source": [
      "STCA is working properly"
     ]
    },
    {
     "cell_type": "markdown",
     "metadata": {},
     "source": [
      "##ASEP"
     ]
    },
    {
     "cell_type": "code",
     "collapsed": false,
     "input": [
      "def ASEP(array,L,c,v_max):\n",
      "    \"\"\"Returns the new positions and velocities of c cars represented in the array on a lenght L road with max speed of v_max\n",
      "    according to ASEP rulset.\"\"\"\n",
      "    s = range(c)\n",
      "    random.shuffle(s)\n",
      "    for k in range(len(s)):\n",
      "        i = s[k]\n",
      "        if i<(c-1): #calculates g for all positions but last one in array\n",
      "            if array[0][i+1]>array[0][i]: #g if  car is not last one on road\n",
      "                g = array[0][i+1]-array[0][i]-1\n",
      "            else: #g if car is last one on road\n",
      "                g = (L-array[0][i])+(array[0][i+1]-1)\n",
      "        else: #calculates g for last position element in array\n",
      "            if array[0][1]>array[0][i]:\n",
      "                g = array[0][1]-array[0][i]-1\n",
      "            else:\n",
      "                g = (L-array[0][i])+(array[0][1]-1)\n",
      "        if g==0: #new v determined by following rules\n",
      "            array[1][i]=0\n",
      "        elif g>array[1][i] and array[1][i]<v_max:\n",
      "            array[1][i]=array[1][i]+1\n",
      "        elif g<array[1][i]:\n",
      "            array[1][i]=g\n",
      "        #Moves car forward by velocity\n",
      "        if array[0][i]+array[1][i]<=L: #if car is not looping around\n",
      "            array[0][i]=array[0][i]+array[1][i]\n",
      "        else: #if car is last on road and loops around\n",
      "            array[0][i]=array[1][i]-(L-array[0][i])\n",
      "    \n",
      "    return array"
     ],
     "language": "python",
     "metadata": {},
     "outputs": [],
     "prompt_number": 21
    },
    {
     "cell_type": "markdown",
     "metadata": {},
     "source": [
      "Test ASEP"
     ]
    },
    {
     "cell_type": "code",
     "collapsed": false,
     "input": [
      "r1=cars(5,40,8)\n",
      "print r1"
     ],
     "language": "python",
     "metadata": {},
     "outputs": [
      {
       "output_type": "stream",
       "stream": "stdout",
       "text": [
        "[[ 4  7  8 21 30]\n",
        " [ 4  2  5  5  2]]\n"
       ]
      }
     ],
     "prompt_number": 22
    },
    {
     "cell_type": "code",
     "collapsed": false,
     "input": [
      "r2=ASEP(r1,40,5,8)\n",
      "print r2"
     ],
     "language": "python",
     "metadata": {},
     "outputs": [
      {
       "output_type": "stream",
       "stream": "stdout",
       "text": [
        "[[ 6  7 14 27 33]\n",
        " [ 2  0  6  6  3]]\n"
       ]
      }
     ],
     "prompt_number": 23
    },
    {
     "cell_type": "code",
     "collapsed": false,
     "input": [
      "r3=ASEP(r2,40,5,8)\n",
      "print r3"
     ],
     "language": "python",
     "metadata": {},
     "outputs": [
      {
       "output_type": "stream",
       "stream": "stdout",
       "text": [
        "[[ 6  8 21 34 37]\n",
        " [ 0  1  7  7  4]]\n"
       ]
      }
     ],
     "prompt_number": 24
    },
    {
     "cell_type": "code",
     "collapsed": false,
     "input": [
      "r4 = ASEP(r3,40,5,8)\n",
      "print r4"
     ],
     "language": "python",
     "metadata": {},
     "outputs": [
      {
       "output_type": "stream",
       "stream": "stdout",
       "text": [
        "[[ 7 10 29  1  2]\n",
        " [ 1  2  8  7  5]]\n"
       ]
      }
     ],
     "prompt_number": 25
    },
    {
     "cell_type": "markdown",
     "metadata": {},
     "source": [
      "ASEP function works properly"
     ]
    },
    {
     "cell_type": "code",
     "collapsed": false,
     "input": [
      "def traffic(model,L,c,v_max,p,N):\n",
      "    \"\"\"Returns the average velocity and average position of c cars on a lenghth L road with max velocity v_max and\n",
      "    slowdown probability p for N time steps accoding to the model STCA or ASEP rulset.\"\"\"\n",
      "    r=cars(c,L,v_max)\n",
      "    #print r\n",
      "    if model=='STCA':\n",
      "        v_ave=np.zeros(N, dtype=float)\n",
      "        pos_ave=np.zeros(N, dtype=float)\n",
      "        for h in range(N):\n",
      "            r=STCA(r,L,c,v_max,p)\n",
      "            #print r\n",
      "            v_ave[h]=np.sum(r[1],dtype=float)/len(r[1])\n",
      "            pos_ave[h]=np.sum(r[0],dtype=float)/len(r[0])\n",
      "            #print v_ave[h], pos_ave[h]\n",
      "        return v_ave, pos_ave\n",
      "    if model=='ASEP':\n",
      "        v_ave=np.zeros(N,dtype=float)\n",
      "        pos_ave=np.zeros(N,dtype=float)\n",
      "        for h in range(N):\n",
      "            r=ASEP(r,L,c,v_max)\n",
      "            v_ave[h]=np.sum(r[1],dtype=float)/len(r[1])\n",
      "            pos_ave[h]=np.sum(r[0],dtype=float)/len(r[0])\n",
      "        return v_ave, pos_ave"
     ],
     "language": "python",
     "metadata": {},
     "outputs": [],
     "prompt_number": 26
    },
    {
     "cell_type": "code",
     "collapsed": false,
     "input": [
      "traffic('STCA',10,3,3,0.0,5)"
     ],
     "language": "python",
     "metadata": {},
     "outputs": [
      {
       "output_type": "pyout",
       "prompt_number": 27,
       "text": [
        "(array([ 2.66666667,  3.        ,  3.        ,  3.        ,  3.        ]),\n",
        " array([ 4.33333333,  4.        ,  7.        ,  3.33333333,  6.33333333]))"
       ]
      }
     ],
     "prompt_number": 27
    },
    {
     "cell_type": "markdown",
     "metadata": {},
     "source": [
      "##Plot Current vs time and position vs time for STCA"
     ]
    },
    {
     "cell_type": "markdown",
     "metadata": {},
     "source": [
      "###Road length=40, number of cars=10, max speed of 7, slowdown prob=0.02, and 200 time steps"
     ]
    },
    {
     "cell_type": "code",
     "collapsed": false,
     "input": [
      "q=traffic('STCA',40,10,5,0.25,300)\n",
      "density=10./40.\n",
      "current1=q[0]*density"
     ],
     "language": "python",
     "metadata": {},
     "outputs": [],
     "prompt_number": 28
    },
    {
     "cell_type": "code",
     "collapsed": false,
     "input": [
      "plot(arange(300), current1,'b-', markersize=5,label='Current vs Time')\n",
      "xlabel('Time steps', fontsize=20)\n",
      "ylabel('Current',fontsize=20)\n",
      "legend(loc=0)\n",
      "show()"
     ],
     "language": "python",
     "metadata": {},
     "outputs": [
      {
       "output_type": "display_data",
       "png": "[encoded data removed]"
      }
     ],
     "prompt_number": 29
    },
    {
     "cell_type": "code",
     "collapsed": false,
     "input": [
      "plot(arange(300),q[1],'b.', markersize=5,label='Positon vs Time')\n",
      "xlabel('Time steps', fontsize=20)\n",
      "ylabel('Average Positon', fontsize=20)\n",
      "legend(loc=0)\n",
      "show()"
     ],
     "language": "python",
     "metadata": {},
     "outputs": [
      {
       "output_type": "display_data",
       "png": "[encoded data removed]"
      }
     ],
     "prompt_number": 30
    },
    {
     "cell_type": "markdown",
     "metadata": {},
     "source": [
      "##Plot Current vs time and positon vs time for ASEP"
     ]
    },
    {
     "cell_type": "markdown",
     "metadata": {},
     "source": [
      "###Road length=40, number of cars=10, max speed of 7, slowdown prob=0.02, and 200 time steps"
     ]
    },
    {
     "cell_type": "code",
     "collapsed": false,
     "input": [
      "u=traffic('ASEP',40,10,5,0.25,300)\n",
      "density=10./40.\n",
      "current2=u[0]*density"
     ],
     "language": "python",
     "metadata": {},
     "outputs": [],
     "prompt_number": 39
    },
    {
     "cell_type": "code",
     "collapsed": false,
     "input": [
      "plot(arange(300),current2,'b-',lw=1, label='Current vs Time')\n",
      "xlabel('Time steps', fontsize=20)\n",
      "ylabel('Current',fontsize=20)\n",
      "legend(loc=0)\n",
      "show()"
     ],
     "language": "python",
     "metadata": {},
     "outputs": [
      {
       "output_type": "display_data",
       "png": "[encoded data removed]"
      }
     ],
     "prompt_number": 41
    },
    {
     "cell_type": "code",
     "collapsed": false,
     "input": [
      "plot(arange(300),u[1],'b.',markersize=5, label='Positon vs Time')\n",
      "xlabel('Time steps', fontsize=20)\n",
      "ylabel('Average Positon', fontsize=20)\n",
      "legend(loc=0)\n",
      "show()"
     ],
     "language": "python",
     "metadata": {},
     "outputs": [
      {
       "output_type": "display_data",
       "png": "[encoded data removed]"
      }
     ],
     "prompt_number": 33
    },
    {
     "cell_type": "markdown",
     "metadata": {},
     "source": [
      "Average Velocity vs Density Plot\n",
      "--"
     ]
    },
    {
     "cell_type": "markdown",
     "metadata": {},
     "source": [
      "##STCA"
     ]
    },
    {
     "cell_type": "code",
     "collapsed": false,
     "input": [
      "d1 = arange(0.01,0.81,0.01)\n",
      "\n",
      "vave_ave1 = np.zeros(len(d1))\n",
      "for i in range(10,810,10):\n",
      "    vave1 = traffic('STCA',1000,i,50,0.05,150)[0]\n",
      "    vave_ave1[i/10.-1] = np.sum(vave1)/len(vave1)"
     ],
     "language": "python",
     "metadata": {},
     "outputs": [],
     "prompt_number": 35
    },
    {
     "cell_type": "code",
     "collapsed": false,
     "input": [
      "plot(d1,vave_ave1)\n",
      "ylim(0,10)\n",
      "show()"
     ],
     "language": "python",
     "metadata": {},
     "outputs": [
      {
       "output_type": "display_data",
       "png": "[encoded data removed]"
      }
     ],
     "prompt_number": 36
    },
    {
     "cell_type": "markdown",
     "metadata": {},
     "source": [
      "##ASEP"
     ]
    },
    {
     "cell_type": "code",
     "collapsed": false,
     "input": [
      "d2 = arange(0.01,0.81,0.01)\n",
      "\n",
      "vave_ave2 = np.zeros(len(d2))\n",
      "for i in range(10,810,10):\n",
      "    vave2 = traffic('ASEP',1000,i,10,0.05,150)[0]\n",
      "    vave_ave2[i/10.-1] = np.sum(vave2)/len(vave2)"
     ],
     "language": "python",
     "metadata": {},
     "outputs": [],
     "prompt_number": 37
    },
    {
     "cell_type": "code",
     "collapsed": false,
     "input": [
      "plot(d2,vave_ave2)\n",
      "ylim(0,10)\n",
      "show()"
     ],
     "language": "python",
     "metadata": {},
     "outputs": [
      {
       "output_type": "display_data",
       "png": "[encoded data removed]"
      }
     ],
     "prompt_number": 38
    },
    {
     "cell_type": "code",
     "collapsed": false,
     "input": [],
     "language": "python",
     "metadata": {},
     "outputs": []
    }
   ],
   "metadata": {}
  }
 ]
}