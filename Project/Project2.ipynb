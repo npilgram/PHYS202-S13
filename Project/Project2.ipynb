{
 "metadata": {
  "name": "Project2"
 },
 "nbformat": 3,
 "nbformat_minor": 0,
 "worksheets": [
  {
   "cells": [
    {
     "cell_type": "markdown",
     "metadata": {},
     "source": [
      "Project 2: One-Dimensional Traffic Flows\n",
      "==="
     ]
    },
    {
     "cell_type": "code",
     "collapsed": false,
     "input": [
      "r = range(40)\n",
      "random.shuffle(r)\n",
      "print r\n",
      "x=r[:5]\n",
      "        \n",
      "print x"
     ],
     "language": "python",
     "metadata": {},
     "outputs": [
      {
       "output_type": "stream",
       "stream": "stdout",
       "text": [
        "[36, 3, 23, 17, 11, 37, 26, 18, 21, 5, 9, 22, 8, 7, 6, 19, 34, 28, 10, 12, 30, 31, 20, 33, 15, 1, 16, 38, 35, 32, 24, 13, 27, 0, 4, 39, 29, 14, 25, 2]\n",
        "[36, 3, 23, 17, 11]\n"
       ]
      }
     ],
     "prompt_number": 4
    },
    {
     "cell_type": "code",
     "collapsed": false,
     "input": [
      "r = range(40)\n",
      "print r\n",
      "random.shuffle(r)\n",
      "print r"
     ],
     "language": "python",
     "metadata": {},
     "outputs": [
      {
       "output_type": "stream",
       "stream": "stdout",
       "text": [
        "[0, 1, 2, 3, 4, 5, 6, 7, 8, 9, 10, 11, 12, 13, 14, 15, 16, 17, 18, 19, 20, 21, 22, 23, 24, 25, 26, 27, 28, 29, 30, 31, 32, 33, 34, 35, 36, 37, 38, 39]\n",
        "[37, 38, 30, 2, 35, 3, 14, 28, 32, 17, 26, 25, 36, 21, 8, 12, 31, 19, 16, 4, 1, 9, 33, 39, 22, 10, 24, 18, 23, 20, 7, 27, 15, 13, 0, 11, 34, 29, 6, 5]\n"
       ]
      }
     ],
     "prompt_number": 2
    },
    {
     "cell_type": "code",
     "collapsed": false,
     "input": [
      "x=sort(x)\n",
      "print x"
     ],
     "language": "python",
     "metadata": {},
     "outputs": [
      {
       "output_type": "stream",
       "stream": "stdout",
       "text": [
        "[ 1  7 14 28 32]\n"
       ]
      }
     ],
     "prompt_number": 16
    },
    {
     "cell_type": "code",
     "collapsed": false,
     "input": [
      "v=zeros(5,dtype=int)\n",
      "for i in range(5):\n",
      "    v[i]=randint(0,15)\n",
      "\n",
      "print v"
     ],
     "language": "python",
     "metadata": {},
     "outputs": [
      {
       "output_type": "stream",
       "stream": "stdout",
       "text": [
        "[ 9 14 12  5 10]\n"
       ]
      }
     ],
     "prompt_number": 17
    },
    {
     "cell_type": "code",
     "collapsed": false,
     "input": [
      "array = np.array([x,v])\n",
      "print array"
     ],
     "language": "python",
     "metadata": {},
     "outputs": [
      {
       "output_type": "stream",
       "stream": "stdout",
       "text": [
        "[[ 1  7 14 28 32]\n",
        " [ 9 14 12  5 10]]\n"
       ]
      }
     ],
     "prompt_number": 18
    },
    {
     "cell_type": "code",
     "collapsed": false,
     "input": [
      "print array[0][2]"
     ],
     "language": "python",
     "metadata": {},
     "outputs": [
      {
       "output_type": "stream",
       "stream": "stdout",
       "text": [
        "14\n"
       ]
      }
     ],
     "prompt_number": 19
    },
    {
     "cell_type": "code",
     "collapsed": false,
     "input": [
      "def cars(c,L,v_max):\n",
      "    \"\"\"Returns a position and velocity array for c cars on a length L road with a max velocity of v_max\"\"\"\n",
      "    r = range(L)\n",
      "    random.shuffle(r)\n",
      "    x=r[:c]\n",
      "    x=sort(x)\n",
      "    \n",
      "    v=zeros(c,dtype=int)\n",
      "    for i in range(c):\n",
      "        v[i]=randint(0,v_max)\n",
      "    \n",
      "    array = np.array([x,v])\n",
      "    return array"
     ],
     "language": "python",
     "metadata": {},
     "outputs": [],
     "prompt_number": 7
    },
    {
     "cell_type": "code",
     "collapsed": false,
     "input": [
      "print cars(5,40,5)"
     ],
     "language": "python",
     "metadata": {},
     "outputs": [
      {
       "output_type": "stream",
       "stream": "stdout",
       "text": [
        "[[ 8  9 30 32 38]\n",
        " [ 1  0  0  3  4]]\n"
       ]
      }
     ],
     "prompt_number": 13
    },
    {
     "cell_type": "code",
     "collapsed": false,
     "input": [
      "def CA184(array,L,c,v_max):\n",
      "    for i in range(c):\n",
      "        if i<(c-1): #calculates g for all positions but last one in array\n",
      "            if array[0][i+1]>array[0][i]: #g if  car is not last one on road\n",
      "                g = array[0][i+1]-array[0][i]-1\n",
      "            else: #g if car is last one on road\n",
      "                g = (L-array[0][i])+(array[0][i+1]-1)\n",
      "        else: #calculates g for last position element in array\n",
      "            if array[0][1]>array[0][i]:\n",
      "                g = array[0][1]-array[0][i]-1\n",
      "            else:\n",
      "                g = (L-array[0][i])+(array[0][1]-1)\n",
      "        if g==0: #new v determined by following rules\n",
      "            array[1][i]=0\n",
      "        elif g>array[1][i] and array[1][i]<v_max:\n",
      "            array[1][i]=array[1][i]+1\n",
      "        elif g<array[1][i]:\n",
      "            array[1][i]=g\n",
      "    \n",
      "    for i in range(c): #moves all cars forwad by velocities\n",
      "        if array[0][i]+array[1][i]<=L: #if car is not looping around\n",
      "            array[0][i]=array[0][i]+array[1][i]\n",
      "        else: #if car is last on road and loops around\n",
      "            array[0][i]=array[1][i]-(L-array[0][i])\n",
      "    \n",
      "    return array    "
     ],
     "language": "python",
     "metadata": {},
     "outputs": [],
     "prompt_number": 14
    },
    {
     "cell_type": "code",
     "collapsed": false,
     "input": [
      "r1 = cars(5,40,8)\n",
      "print r1"
     ],
     "language": "python",
     "metadata": {},
     "outputs": [
      {
       "output_type": "stream",
       "stream": "stdout",
       "text": [
        "[[15 18 23 30 33]\n",
        " [ 4  3  2  4  6]]\n"
       ]
      }
     ],
     "prompt_number": 17
    },
    {
     "cell_type": "code",
     "collapsed": false,
     "input": [
      "r2 = CA184(r1,40,5,8)\n",
      "print r2"
     ],
     "language": "python",
     "metadata": {},
     "outputs": [
      {
       "output_type": "stream",
       "stream": "stdout",
       "text": [
        "[[17 22 26 32 40]\n",
        " [ 2  4  3  2  7]]\n"
       ]
      }
     ],
     "prompt_number": 18
    },
    {
     "cell_type": "code",
     "collapsed": false,
     "input": [
      "r3 = CA184(r2,40,5,8)\n",
      "print r3"
     ],
     "language": "python",
     "metadata": {},
     "outputs": [
      {
       "output_type": "stream",
       "stream": "stdout",
       "text": [
        "[[20 25 30 35  8]\n",
        " [ 3  3  4  3  8]]\n"
       ]
      }
     ],
     "prompt_number": 19
    },
    {
     "cell_type": "code",
     "collapsed": false,
     "input": [
      "r4 = CA184(r3,40,5,8)\n",
      "print r4"
     ],
     "language": "python",
     "metadata": {},
     "outputs": [
      {
       "output_type": "stream",
       "stream": "stdout",
       "text": [
        "[[24 29 34 39 16]\n",
        " [ 4  4  4  4  8]]\n"
       ]
      }
     ],
     "prompt_number": 20
    },
    {
     "cell_type": "markdown",
     "metadata": {},
     "source": [
      "My CA184 function works properly as shown above for 3 consecutive time steps"
     ]
    },
    {
     "cell_type": "code",
     "collapsed": false,
     "input": [],
     "language": "python",
     "metadata": {},
     "outputs": []
    }
   ],
   "metadata": {}
  }
 ]
}