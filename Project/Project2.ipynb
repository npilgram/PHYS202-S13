{
 "metadata": {
  "name": "Project2"
 },
 "nbformat": 3,
 "nbformat_minor": 0,
 "worksheets": [
  {
   "cells": [
    {
     "cell_type": "markdown",
     "metadata": {},
     "source": [
      "Project 2: One-Dimensional Traffic Flows\n",
      "==="
     ]
    },
    {
     "cell_type": "code",
     "collapsed": false,
     "input": [],
     "language": "python",
     "metadata": {},
     "outputs": []
    },
    {
     "cell_type": "markdown",
     "metadata": {},
     "source": [
      "Below code is experimenting used to decide how to generated my initial position velocity array."
     ]
    },
    {
     "cell_type": "code",
     "collapsed": false,
     "input": [
      "r = range(40)\n",
      "random.shuffle(r)\n",
      "print r\n",
      "x=r[:5]\n",
      "        \n",
      "print x"
     ],
     "language": "python",
     "metadata": {},
     "outputs": [
      {
       "output_type": "stream",
       "stream": "stdout",
       "text": [
        "[1, 3, 10, 23, 35, 33, 38, 7, 17, 28, 34, 6, 0, 9, 27, 18, 32, 31, 36, 29, 30, 15, 20, 12, 11, 16, 14, 22, 2, 25, 39, 19, 4, 8, 37, 24, 26, 21, 5, 13]\n",
        "[1, 3, 10, 23, 35]\n"
       ]
      }
     ],
     "prompt_number": 23
    },
    {
     "cell_type": "code",
     "collapsed": false,
     "input": [
      "r = range(40)\n",
      "print r\n",
      "random.shuffle(r)\n",
      "print r"
     ],
     "language": "python",
     "metadata": {},
     "outputs": [
      {
       "output_type": "stream",
       "stream": "stdout",
       "text": [
        "[0, 1, 2, 3, 4, 5, 6, 7, 8, 9, 10, 11, 12, 13, 14, 15, 16, 17, 18, 19, 20, 21, 22, 23, 24, 25, 26, 27, 28, 29, 30, 31, 32, 33, 34, 35, 36, 37, 38, 39]\n",
        "[17, 7, 21, 24, 23, 28, 1, 25, 9, 30, 27, 36, 20, 35, 29, 39, 15, 6, 34, 5, 26, 16, 19, 8, 0, 10, 31, 14, 32, 22, 2, 11, 3, 38, 18, 13, 4, 37, 33, 12]\n"
       ]
      }
     ],
     "prompt_number": 24
    },
    {
     "cell_type": "code",
     "collapsed": false,
     "input": [
      "x=sort(x)\n",
      "print x"
     ],
     "language": "python",
     "metadata": {},
     "outputs": [
      {
       "output_type": "stream",
       "stream": "stdout",
       "text": [
        "[ 1  3 10 23 35]\n"
       ]
      }
     ],
     "prompt_number": 25
    },
    {
     "cell_type": "code",
     "collapsed": false,
     "input": [
      "v=zeros(5,dtype=int)\n",
      "for i in range(5):\n",
      "    v[i]=randint(0,15)\n",
      "\n",
      "print v"
     ],
     "language": "python",
     "metadata": {},
     "outputs": [
      {
       "output_type": "stream",
       "stream": "stdout",
       "text": [
        "[12  3 12  4  4]\n"
       ]
      }
     ],
     "prompt_number": 26
    },
    {
     "cell_type": "code",
     "collapsed": false,
     "input": [
      "array = np.array([x,v])\n",
      "print array"
     ],
     "language": "python",
     "metadata": {},
     "outputs": [
      {
       "output_type": "stream",
       "stream": "stdout",
       "text": [
        "[[ 1  3 10 23 35]\n",
        " [12  3 12  4  4]]\n"
       ]
      }
     ],
     "prompt_number": 27
    },
    {
     "cell_type": "code",
     "collapsed": false,
     "input": [
      "print array[0][2]"
     ],
     "language": "python",
     "metadata": {},
     "outputs": [
      {
       "output_type": "stream",
       "stream": "stdout",
       "text": [
        "10\n"
       ]
      }
     ],
     "prompt_number": 28
    },
    {
     "cell_type": "markdown",
     "metadata": {},
     "source": [
      "###Generate inital Position Velocity array"
     ]
    },
    {
     "cell_type": "code",
     "collapsed": false,
     "input": [
      "def cars(c,L,v_max):\n",
      "    \"\"\"Returns a position and velocity array for c cars on a length L road with a max velocity of v_max\"\"\"\n",
      "    r = range(L)\n",
      "    random.shuffle(r)\n",
      "    x=r[:c]\n",
      "    x=sort(x)\n",
      "    \n",
      "    v=zeros(c,dtype=int)\n",
      "    for i in range(c):\n",
      "        v[i]=randint(0,v_max)\n",
      "    \n",
      "    array = np.array([x,v])\n",
      "    return array"
     ],
     "language": "python",
     "metadata": {},
     "outputs": [],
     "prompt_number": 1
    },
    {
     "cell_type": "code",
     "collapsed": false,
     "input": [
      "print cars(5,40,5)"
     ],
     "language": "python",
     "metadata": {},
     "outputs": [
      {
       "output_type": "stream",
       "stream": "stdout",
       "text": [
        "[[ 5 20 21 26 32]\n",
        " [ 3  3  2  4  3]]\n"
       ]
      }
     ],
     "prompt_number": 30
    },
    {
     "cell_type": "code",
     "collapsed": false,
     "input": [
      "def CA184(array,L,c,v_max):\n",
      "    \"\"\"Returns the new positions and velocities of c cars represented in the array on a lenght L road with max speed of v_max\n",
      "    according to CA184 rulset.\"\"\"\n",
      "    for i in range(c):\n",
      "        if i<(c-1): #calculates g for all positions but last one in array\n",
      "            if array[0][i+1]>array[0][i]: #g if  car is not last one on road\n",
      "                g = array[0][i+1]-array[0][i]-1\n",
      "            else: #g if car is last one on road\n",
      "                g = (L-array[0][i])+(array[0][i+1]-1)\n",
      "        else: #calculates g for last position element in array\n",
      "            if array[0][1]>array[0][i]:\n",
      "                g = array[0][1]-array[0][i]-1\n",
      "            else:\n",
      "                g = (L-array[0][i])+(array[0][1]-1)\n",
      "        if g==0: #new v determined by following rules\n",
      "            array[1][i]=0\n",
      "        elif g>array[1][i] and array[1][i]<v_max:\n",
      "            array[1][i]=array[1][i]+1\n",
      "        elif g<array[1][i]:\n",
      "            array[1][i]=g\n",
      "    \n",
      "    for i in range(c): #moves all cars forwad by velocities\n",
      "        if array[0][i]+array[1][i]<=L: #if car is not looping around\n",
      "            array[0][i]=array[0][i]+array[1][i]\n",
      "        else: #if car is last on road and loops around\n",
      "            array[0][i]=array[1][i]-(L-array[0][i])\n",
      "    \n",
      "    return array    "
     ],
     "language": "python",
     "metadata": {},
     "outputs": [],
     "prompt_number": 2
    },
    {
     "cell_type": "code",
     "collapsed": false,
     "input": [
      "r1 = cars(5,40,8)\n",
      "print r1"
     ],
     "language": "python",
     "metadata": {},
     "outputs": [
      {
       "output_type": "stream",
       "stream": "stdout",
       "text": [
        "[[ 7 10 21 22 24]\n",
        " [ 0  0  1  2  2]]\n"
       ]
      }
     ],
     "prompt_number": 32
    },
    {
     "cell_type": "code",
     "collapsed": false,
     "input": [
      "r2 = CA184(r1,40,5,8)\n",
      "print r2"
     ],
     "language": "python",
     "metadata": {},
     "outputs": [
      {
       "output_type": "stream",
       "stream": "stdout",
       "text": [
        "[[ 8 11 21 23 27]\n",
        " [ 1  1  0  1  3]]\n"
       ]
      }
     ],
     "prompt_number": 33
    },
    {
     "cell_type": "code",
     "collapsed": false,
     "input": [
      "r3 = CA184(r2,40,5,8)\n",
      "print r3"
     ],
     "language": "python",
     "metadata": {},
     "outputs": [
      {
       "output_type": "stream",
       "stream": "stdout",
       "text": [
        "[[10 13 22 25 31]\n",
        " [ 2  2  1  2  4]]\n"
       ]
      }
     ],
     "prompt_number": 34
    },
    {
     "cell_type": "code",
     "collapsed": false,
     "input": [
      "r4 = CA184(r3,40,5,8)\n",
      "print r4"
     ],
     "language": "python",
     "metadata": {},
     "outputs": [
      {
       "output_type": "stream",
       "stream": "stdout",
       "text": [
        "[[12 16 24 28 36]\n",
        " [ 2  3  2  3  5]]\n"
       ]
      }
     ],
     "prompt_number": 35
    },
    {
     "cell_type": "markdown",
     "metadata": {},
     "source": [
      "My CA184 function works properly as shown above for 3 consecutive time steps"
     ]
    },
    {
     "cell_type": "markdown",
     "metadata": {},
     "source": [
      "##STCA"
     ]
    },
    {
     "cell_type": "code",
     "collapsed": false,
     "input": [
      "def STCA(array,L,c,v_max,p):\n",
      "    \"\"\"Returns the new positions and velocities of c cars represented in the array on a lenght L road with max speed of v_max\n",
      "    and slowdown probability p according to STCA rulset.\"\"\"\n",
      "    for i in range(c):\n",
      "        if i<(c-1): #calculates g for all positions but last one in array\n",
      "            if array[0][i+1]>array[0][i]: #g if  car is not last one on road\n",
      "                g = array[0][i+1]-array[0][i]-1\n",
      "            else: #g if car is last one on road\n",
      "                g = (L-array[0][i])+(array[0][i+1]-1)\n",
      "        else: #calculates g for last position element in array\n",
      "            if array[0][1]>array[0][i]:\n",
      "                g = array[0][1]-array[0][i]-1\n",
      "            else:\n",
      "                g = (L-array[0][i])+(array[0][1]-1)\n",
      "        if g==0: #new v determined by following rules\n",
      "            array[1][i]=0\n",
      "        elif g>array[1][i] and array[1][i]<v_max:\n",
      "            array[1][i]=array[1][i]+1\n",
      "        elif g<array[1][i]:\n",
      "            array[1][i]=g\n",
      "        if random_sample(1)<p and array[1][i]>0:\n",
      "            array[1][i]=array[1][i]-1\n",
      "    for i in range(c): #moves all cars forwad by velocities\n",
      "        if array[0][i]+array[1][i]<=L: #if car is not looping around\n",
      "            array[0][i]=array[0][i]+array[1][i]\n",
      "        else: #if car is last on road and loops around\n",
      "            array[0][i]=array[1][i]-(L-array[0][i])\n",
      "    \n",
      "    return array    "
     ],
     "language": "python",
     "metadata": {},
     "outputs": [],
     "prompt_number": 3
    },
    {
     "cell_type": "code",
     "collapsed": false,
     "input": [
      "r1 = cars(5,40,7)\n",
      "print r1"
     ],
     "language": "python",
     "metadata": {},
     "outputs": [
      {
       "output_type": "stream",
       "stream": "stdout",
       "text": [
        "[[13 15 25 26 28]\n",
        " [ 1  2  5  3  0]]\n"
       ]
      }
     ],
     "prompt_number": 37
    },
    {
     "cell_type": "code",
     "collapsed": false,
     "input": [
      "r2 = STCA(r1,40,5,7,0)\n",
      "print r2"
     ],
     "language": "python",
     "metadata": {},
     "outputs": [
      {
       "output_type": "stream",
       "stream": "stdout",
       "text": [
        "[[14 18 25 27 29]\n",
        " [ 1  3  0  1  1]]\n"
       ]
      }
     ],
     "prompt_number": 38
    },
    {
     "cell_type": "code",
     "collapsed": false,
     "input": [
      "r3 = STCA(r2,40,5,7,0)\n",
      "print r3"
     ],
     "language": "python",
     "metadata": {},
     "outputs": [
      {
       "output_type": "stream",
       "stream": "stdout",
       "text": [
        "[[16 22 26 28 31]\n",
        " [ 2  4  1  1  2]]\n"
       ]
      }
     ],
     "prompt_number": 39
    },
    {
     "cell_type": "code",
     "collapsed": false,
     "input": [
      "r4 = STCA(r2,40,5,7,0.1)\n",
      "print r4"
     ],
     "language": "python",
     "metadata": {},
     "outputs": [
      {
       "output_type": "stream",
       "stream": "stdout",
       "text": [
        "[[19 25 27 29 33]\n",
        " [ 3  3  1  1  2]]\n"
       ]
      }
     ],
     "prompt_number": 40
    },
    {
     "cell_type": "markdown",
     "metadata": {},
     "source": [
      "STCA is working properly"
     ]
    },
    {
     "cell_type": "markdown",
     "metadata": {},
     "source": [
      "##ASEP"
     ]
    },
    {
     "cell_type": "code",
     "collapsed": false,
     "input": [
      "def ASEP(array,L,c,v_max):\n",
      "    \"\"\"Returns the new positions and velocities of c cars represented in the array on a lenght L road with max speed of v_max\n",
      "    according to ASEP rulset.\"\"\"\n",
      "    s = range(c)\n",
      "    random.shuffle(s)\n",
      "    for k in range(len(s)):\n",
      "        i = s[k]\n",
      "        #print \"car\",i\n",
      "        if i<(c-1): #calculates g for ith car if not last one in array\n",
      "            if array[0][i+1]>array[0][i]: #g if ith car is not last one on road\n",
      "                g = array[0][i+1]-array[0][i]-1\n",
      "            else: #g if car ith is last one on road\n",
      "                g = (L-array[0][i])+(array[0][i+1]-1)\n",
      "        else: #calculates g for ith car if car is last position element in array\n",
      "            if array[0][1]>array[0][i]:\n",
      "                g = array[0][1]-array[0][i]-1\n",
      "            else:\n",
      "                g = (L-array[0][i])+(array[0][1]-1)\n",
      "        #print \"g is\",g\n",
      "        if g==0: #new v determined by following rules\n",
      "            array[1][i]=0\n",
      "        elif g>array[1][i] and array[1][i]<v_max:\n",
      "            array[1][i]=array[1][i]+1\n",
      "        elif g<array[1][i]:\n",
      "            array[1][i]=g\n",
      "        #Moves car forward by velocity\n",
      "        if array[0][i]+array[1][i]<=L: #if car is not looping around\n",
      "            array[0][i]=array[0][i]+array[1][i]\n",
      "        else: #if car is last on road and loops around\n",
      "            array[0][i]=array[1][i]-(L-array[0][i])\n",
      "        #print array\n",
      "    \n",
      "    return array"
     ],
     "language": "python",
     "metadata": {},
     "outputs": [],
     "prompt_number": 4
    },
    {
     "cell_type": "markdown",
     "metadata": {},
     "source": [
      "Test ASEP"
     ]
    },
    {
     "cell_type": "code",
     "collapsed": false,
     "input": [
      "r1=cars(5,40,8)\n",
      "print r1"
     ],
     "language": "python",
     "metadata": {},
     "outputs": [
      {
       "output_type": "stream",
       "stream": "stdout",
       "text": [
        "[[ 1  5 12 18 39]\n",
        " [ 7  5  7  3  1]]\n"
       ]
      }
     ],
     "prompt_number": 8
    },
    {
     "cell_type": "code",
     "collapsed": false,
     "input": [
      "r2=ASEP(r1,40,5,8)\n",
      "print r2"
     ],
     "language": "python",
     "metadata": {},
     "outputs": [
      {
       "output_type": "stream",
       "stream": "stdout",
       "text": [
        "car 0\n",
        "g is 3\n",
        "[[ 4  5 12 18 39]\n",
        " [ 3  5  7  3  1]]\n",
        "car 2\n",
        "g is 5\n",
        "[[ 4  5 17 18 39]\n",
        " [ 3  5  5  3  1]]\n",
        "car 3\n",
        "g is 20\n",
        "[[ 4  5 17 22 39]\n",
        " [ 3  5  5  4  1]]\n",
        "car 4\n",
        "g is 5\n",
        "[[ 4  5 17 22  1]\n",
        " [ 3  5  5  4  2]]\n",
        "car 1\n",
        "g is 11\n",
        "[[ 4 11 17 22  1]\n",
        " [ 3  6  5  4  2]]\n",
        "[[ 4 11 17 22  1]\n",
        " [ 3  6  5  4  2]]\n"
       ]
      }
     ],
     "prompt_number": 9
    },
    {
     "cell_type": "code",
     "collapsed": false,
     "input": [
      "r3=ASEP(r2,40,5,8)\n",
      "print r3"
     ],
     "language": "python",
     "metadata": {},
     "outputs": [
      {
       "output_type": "stream",
       "stream": "stdout",
       "text": [
        "[[16 19 20 23 27]\n",
        " [ 2  2  1  2  3]]\n"
       ]
      }
     ],
     "prompt_number": 44
    },
    {
     "cell_type": "code",
     "collapsed": false,
     "input": [
      "r4 = ASEP(r3,40,5,8)\n",
      "print r4"
     ],
     "language": "python",
     "metadata": {},
     "outputs": [
      {
       "output_type": "stream",
       "stream": "stdout",
       "text": [
        "[[18 21 22 26 31]\n",
        " [ 2  2  2  3  4]]\n"
       ]
      }
     ],
     "prompt_number": 45
    },
    {
     "cell_type": "markdown",
     "metadata": {},
     "source": [
      "ASEP function works properly"
     ]
    },
    {
     "cell_type": "code",
     "collapsed": false,
     "input": [
      "def traffic(model,L,c,v_max,p,N):\n",
      "    \"\"\"Returns the average velocity and average position of c cars on a lenghth L road with max velocity v_max and\n",
      "    slowdown probability p for N time steps accoding to the model STCA or ASEP rulset.\"\"\"\n",
      "    r=cars(c,L,v_max)\n",
      "    #print r\n",
      "    if model=='STCA':\n",
      "        v_ave=np.zeros(N, dtype=float)\n",
      "        pos_ave=np.zeros(N, dtype=float)\n",
      "        for h in range(N):\n",
      "            r=STCA(r,L,c,v_max,p)\n",
      "            #print r\n",
      "            v_ave[h]=np.sum(r[1],dtype=float)/len(r[1])\n",
      "            pos_ave[h]=np.sum(r[0],dtype=float)/len(r[0])\n",
      "            #print v_ave[h], pos_ave[h]\n",
      "        return v_ave, pos_ave\n",
      "    if model=='ASEP':\n",
      "        v_ave=np.zeros(N,dtype=float)\n",
      "        pos_ave=np.zeros(N,dtype=float)\n",
      "        for h in range(N):\n",
      "            r=ASEP(r,L,c,v_max)\n",
      "            v_ave[h]=np.sum(r[1],dtype=float)/len(r[1])\n",
      "            pos_ave[h]=np.sum(r[0],dtype=float)/len(r[0])\n",
      "        return v_ave, pos_ave"
     ],
     "language": "python",
     "metadata": {},
     "outputs": [],
     "prompt_number": 5
    },
    {
     "cell_type": "code",
     "collapsed": false,
     "input": [
      "traffic('STCA',10,3,3,0.0,5)"
     ],
     "language": "python",
     "metadata": {},
     "outputs": [
      {
       "output_type": "pyout",
       "prompt_number": 47,
       "text": [
        "(array([ 1.        ,  2.        ,  2.66666667,  3.        ,  3.        ]),\n",
        " array([ 4.66666667,  3.33333333,  6.        ,  5.66666667,  8.66666667]))"
       ]
      }
     ],
     "prompt_number": 47
    },
    {
     "cell_type": "markdown",
     "metadata": {},
     "source": [
      "##Plot Current vs time and position vs time for STCA"
     ]
    },
    {
     "cell_type": "markdown",
     "metadata": {},
     "source": [
      "###Road length=40, number of cars=10, max speed of 7, slowdown prob=0.02, and 200 time steps"
     ]
    },
    {
     "cell_type": "code",
     "collapsed": false,
     "input": [
      "q=traffic('STCA',40,10,5,0.25,300)\n",
      "density=10./40.\n",
      "current1=q[0]*density"
     ],
     "language": "python",
     "metadata": {},
     "outputs": [],
     "prompt_number": 48
    },
    {
     "cell_type": "code",
     "collapsed": false,
     "input": [
      "plot(arange(300), current1,'b-', markersize=5,label='Current vs Time')\n",
      "xlabel('Time steps', fontsize=20)\n",
      "ylabel('Current',fontsize=20)\n",
      "legend(loc=0)\n",
      "show()"
     ],
     "language": "python",
     "metadata": {},
     "outputs": [
      {
       "output_type": "display_data",
       "png": "[encoded data removed]"
      }
     ],
     "prompt_number": 49
    },
    {
     "cell_type": "code",
     "collapsed": false,
     "input": [
      "plot(arange(300),q[1],'b-', markersize=5,label='Positon vs Time')\n",
      "xlabel('Time steps', fontsize=20)\n",
      "ylabel('Average Positon', fontsize=20)\n",
      "legend(loc=0)\n",
      "show()"
     ],
     "language": "python",
     "metadata": {},
     "outputs": [
      {
       "output_type": "display_data",
       "png": "[encoded data removed]"
      }
     ],
     "prompt_number": 50
    },
    {
     "cell_type": "markdown",
     "metadata": {},
     "source": [
      "##Plot Current vs time and positon vs time for ASEP"
     ]
    },
    {
     "cell_type": "markdown",
     "metadata": {},
     "source": [
      "###Road length=40, number of cars=10, max speed of 7, slowdown prob=0.02, and 200 time steps"
     ]
    },
    {
     "cell_type": "code",
     "collapsed": false,
     "input": [
      "u=traffic('ASEP',40,10,5,0.25,300)\n",
      "density=10./40.\n",
      "current2=u[0]*density"
     ],
     "language": "python",
     "metadata": {},
     "outputs": [],
     "prompt_number": 51
    },
    {
     "cell_type": "code",
     "collapsed": false,
     "input": [
      "plot(arange(300),current2,'b-',lw=1, label='Current vs Time')\n",
      "xlabel('Time steps', fontsize=20)\n",
      "ylabel('Current',fontsize=20)\n",
      "legend(loc=0)\n",
      "show()"
     ],
     "language": "python",
     "metadata": {},
     "outputs": [
      {
       "output_type": "display_data",
       "png": "[encoded data removed]"
      }
     ],
     "prompt_number": 52
    },
    {
     "cell_type": "code",
     "collapsed": false,
     "input": [
      "plot(arange(300),u[1],'b-',markersize=5, label='Positon vs Time')\n",
      "xlabel('Time steps', fontsize=20)\n",
      "ylabel('Average Positon', fontsize=20)\n",
      "legend(loc=0)\n",
      "show()"
     ],
     "language": "python",
     "metadata": {},
     "outputs": [
      {
       "output_type": "display_data",
       "png": "[encoded data removed]"
      }
     ],
     "prompt_number": 53
    },
    {
     "cell_type": "markdown",
     "metadata": {},
     "source": [
      "Average Velocity vs Density Plot\n",
      "--"
     ]
    },
    {
     "cell_type": "markdown",
     "metadata": {},
     "source": [
      "##STCA"
     ]
    },
    {
     "cell_type": "code",
     "collapsed": false,
     "input": [
      "d1 = arange(0.01,0.81,0.01)\n",
      "\n",
      "vave_ave1 = np.zeros(len(d1))\n",
      "for i in range(10,810,10):\n",
      "    vave1 = traffic('STCA',1000,i,5,0.05,150)[0]\n",
      "    vave_ave1[i/10.-1] = np.sum(vave1)/len(vave1)"
     ],
     "language": "python",
     "metadata": {},
     "outputs": [],
     "prompt_number": 54
    },
    {
     "cell_type": "code",
     "collapsed": false,
     "input": [
      "plot(d1,vave_ave1)\n",
      "xlabel('Density', fontsize=20)\n",
      "ylabel('Average Velocity', fontsize=20)\n",
      "ylim(0,6)\n",
      "show()"
     ],
     "language": "python",
     "metadata": {},
     "outputs": [
      {
       "output_type": "display_data",
       "png": "[encoded data removed]"
      }
     ],
     "prompt_number": 55
    },
    {
     "cell_type": "markdown",
     "metadata": {},
     "source": [
      "The phase transition seem to occure at a density slightly less than 0.2. This is seen when the average velocity changes from relativly constant to exponentially decaying."
     ]
    },
    {
     "cell_type": "markdown",
     "metadata": {},
     "source": [
      "##ASEP"
     ]
    },
    {
     "cell_type": "code",
     "collapsed": false,
     "input": [
      "d2 = arange(0.01,0.81,0.01)\n",
      "\n",
      "vave_ave2 = np.zeros(len(d2))\n",
      "for i in range(10,810,10):\n",
      "    vave2 = traffic('ASEP',1000,i,5,0.05,150)[0]\n",
      "    vave_ave2[i/10.-1] = np.sum(vave2)/len(vave2)"
     ],
     "language": "python",
     "metadata": {},
     "outputs": [],
     "prompt_number": 56
    },
    {
     "cell_type": "code",
     "collapsed": false,
     "input": [
      "plot(d2,vave_ave2)\n",
      "ylim(0,6)\n",
      "xlabel('Density', fontsize=20)\n",
      "ylabel('Average Velocity', fontsize=20)\n",
      "show()"
     ],
     "language": "python",
     "metadata": {},
     "outputs": [
      {
       "output_type": "display_data",
       "png": "[encoded data removed]"
      }
     ],
     "prompt_number": 57
    },
    {
     "cell_type": "markdown",
     "metadata": {},
     "source": [
      "The phase transition seem to occure at a density of about 0.1-0.15. This is seen when the average velocity changes from relativly constant to exponentially decaying."
     ]
    },
    {
     "cell_type": "markdown",
     "metadata": {},
     "source": [
      "Animation\n",
      "=="
     ]
    },
    {
     "cell_type": "code",
     "collapsed": false,
     "input": [
      "import sys\n",
      "sys.path.insert(0,\"/nfshome/npilgram/JSAnimation\")\n",
      "from JSAnimation import IPython_display\n",
      "from matplotlib import animation"
     ],
     "language": "python",
     "metadata": {},
     "outputs": [],
     "prompt_number": 11
    },
    {
     "cell_type": "markdown",
     "metadata": {},
     "source": [
      "Figuring out how to plot initial car road set up"
     ]
    },
    {
     "cell_type": "code",
     "collapsed": false,
     "input": [
      "model='STCA'\n",
      "N=15\n",
      "p=0.05\n",
      "L=20\n",
      "c=5\n",
      "v_max=3\n",
      "a=cars(c,L,v_max)\n",
      "print a"
     ],
     "language": "python",
     "metadata": {},
     "outputs": [
      {
       "output_type": "stream",
       "stream": "stdout",
       "text": [
        "[[ 2  3 10 12 15]\n",
        " [ 1  0  0  2  2]]\n"
       ]
      }
     ],
     "prompt_number": 10
    },
    {
     "cell_type": "code",
     "collapsed": false,
     "input": [
      "x=arange(0,L)\n",
      "y=-1.*np.ones(L)\n",
      "plot(x,y,'k_', markersize=10)\n",
      "y0=np.zeros(c)\n",
      "plot(a[0],y0,'s',markersize=10) #simplest way to plot all cars at once in one line of code\n",
      "#My first tries for plotting the cars are commented out below, but left there for reference. They were not as nice as one above.\n",
      "\n",
      "#for i in range(0,c):\n",
      "    #plot(a[0][i],0,'s',markersize=10)\n",
      "\n",
      "#plot(a[0][0],0,'s', markersize=10)\n",
      "#plot(a[0][1],0,'s', markersize=10)\n",
      "#plot(a[0][2],0,'s', markersize=10)\n",
      "#plot(a[0][3],0,'s', markersize=10)\n",
      "#plot(a[0][4],0,'s', markersize=10)\n",
      "\n",
      "xlim(-1,L+1)\n",
      "ylim(-10,10)"
     ],
     "language": "python",
     "metadata": {},
     "outputs": [
      {
       "output_type": "pyout",
       "prompt_number": 17,
       "text": [
        "(-10, 10)"
       ]
      },
      {
       "output_type": "display_data",
       "png": "[encoded data removed]"
      }
     ],
     "prompt_number": 17
    },
    {
     "cell_type": "code",
     "collapsed": false,
     "input": [
      "def position(model,L,c,v_max,p,N):\n",
      "        r = cars(c,L,v_max)\n",
      "        positions = np.empty((N,c))\n",
      "        if model=='STCA':\n",
      "            for i in range(N):\n",
      "                r = STCA(r,L,c,v_max,p)\n",
      "                positions[i,:]=r[0,:]\n",
      "        elif model=='ASEP':\n",
      "            for i in range(N):\n",
      "                r = ASEP(r,L,c,v_max)\n",
      "                positions=positions.append(r[0])\n",
      "        return positions\n",
      "    \n",
      "posit = position('STCA',20,5,5,0.05,15)\n",
      "print posit"
     ],
     "language": "python",
     "metadata": {},
     "outputs": [
      {
       "output_type": "stream",
       "stream": "stdout",
       "text": [
        "[[  3.   5.   9.  14.  20.]\n",
        " [  4.   7.  13.  16.   2.]\n",
        " [  6.  10.  15.  19.   5.]\n",
        " [  9.  14.  18.   3.   9.]\n",
        " [ 13.  17.   2.   7.  13.]\n",
        " [ 16.   1.   6.  12.  16.]\n",
        " [ 20.   5.  11.  14.  20.]\n",
        " [  4.  10.  13.  17.   4.]\n",
        " [  9.  12.  16.   1.   9.]\n",
        " [ 11.  15.  20.   6.  11.]\n",
        " [ 14.  19.   5.  10.  14.]\n",
        " [ 18.   4.   9.  12.  18.]\n",
        " [  3.   8.  11.  15.   3.]\n",
        " [  7.  10.  14.  18.   7.]\n",
        " [  9.  13.  17.   2.   9.]]\n"
       ]
      }
     ],
     "prompt_number": 6
    },
    {
     "cell_type": "code",
     "collapsed": false,
     "input": [
      "print posit[0]\n",
      "print posit[5] \n",
      "print posit[13]"
     ],
     "language": "python",
     "metadata": {},
     "outputs": [
      {
       "output_type": "stream",
       "stream": "stdout",
       "text": [
        "[  3.   5.   9.  14.  20.]\n",
        "[ 16.   1.   6.  12.  16.]\n",
        "[  7.  10.  14.  18.   7.]\n"
       ]
      }
     ],
     "prompt_number": 7
    },
    {
     "cell_type": "code",
     "collapsed": false,
     "input": [
      "def traffic_animation(model,L,c,v_max,p,N):\n",
      "    fig = plt.figure()\n",
      "    ax = plt.axes(xlim=(-1, L+1), ylim=(-10, 10))\n",
      "    x=arange(0,L)\n",
      "    y=-1.*np.ones(L)\n",
      "    road = ax.plot(x, y,'k_', markersize=10)\n",
      "    cars, = ax.plot([], [], 's',markersize=10)\n",
      "    \n",
      "    #def position(model,L,c,v_max,p,N):\n",
      "     #   r = cars(c,L,v_max)\n",
      "      #  positions = np.empty((N,c))\n",
      "       # if model=='STCA':\n",
      "        #    for i in range(N):\n",
      "         #       r = STCA(r,L,c,v_max,p)\n",
      "          #      positions[i,:]=r[0,:]\n",
      "        #elif model=='ASEP':\n",
      "         #   for i in range(N):\n",
      "          #      r = ASEP(r,L,c,v_max)\n",
      "           #     positions[i,:]=r[0,:]\n",
      "        #return positions\n",
      "    \n",
      "    y0 = np.zeros(c)\n",
      "    #posit = position(model,L,c,v_max,p,N)\n",
      "    \n",
      "    #def init():\n",
      "     #   cars.set_data([], [])\n",
      "      #  return cars,\n",
      "\n",
      "    \n",
      "    def animate(i):\n",
      "        #posit = position(model,L,c,v_max,p,N)\n",
      "        cars.set_data(position(model,L,c,v_max,p,N)[i],y0)\n",
      "        return cars,\n",
      "    \n",
      "    animation.FuncAnimation(fig, animate, #init_func=init,\n",
      "                        frames=100, interval=20, blit=True)\n",
      "\n",
      "\n"
     ],
     "language": "python",
     "metadata": {},
     "outputs": [],
     "prompt_number": 21
    },
    {
     "cell_type": "code",
     "collapsed": false,
     "input": [
      "traffic_animation('STCA',20,5,5,0.05,15)"
     ],
     "language": "python",
     "metadata": {},
     "outputs": [
      {
       "output_type": "display_data",
       "png": "[encoded data removed]"
      }
     ],
     "prompt_number": 22
    },
    {
     "cell_type": "code",
     "collapsed": false,
     "input": [],
     "language": "python",
     "metadata": {},
     "outputs": [],
     "prompt_number": 23
    },
    {
     "cell_type": "code",
     "collapsed": false,
     "input": [],
     "language": "python",
     "metadata": {},
     "outputs": []
    }
   ],
   "metadata": {}
  }
 ]
}